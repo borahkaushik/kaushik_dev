{
 "cells": [
  {
   "cell_type": "code",
   "execution_count": 2,
   "metadata": {},
   "outputs": [],
   "source": [
    "import sys\n",
    "sys.path.insert(0, os.path.abspath('../'))\n",
    "import os\n",
    "import pyspark as spark\n",
    "from pyspark.sql import SparkSession\n",
    "from pyspark.sql import SQLContext\n",
    "import pyspark.sql.functions as f\n",
    "from pyspark.sql import DataFrame, Row\n",
    "from functools import reduce\n",
    "import functools\n",
    "from pyspark.sql.types import StructType, StructField, StringType, LongType, ArrayType, IntegerType, MapType\n",
    "from pyspark.sql.functions import *"
   ]
  },
  {
   "cell_type": "code",
   "execution_count": 3,
   "metadata": {},
   "outputs": [
    {
     "name": "stderr",
     "output_type": "stream",
     "text": [
      "22/12/16 13:04:09 WARN Utils: Your hostname, preacher resolves to a loopback address: 127.0.1.1; using 192.168.0.102 instead (on interface enp4s0)\n",
      "22/12/16 13:04:09 WARN Utils: Set SPARK_LOCAL_IP if you need to bind to another address\n",
      "WARNING: An illegal reflective access operation has occurred\n",
      "WARNING: Illegal reflective access by org.apache.spark.unsafe.Platform (file:/home/preacher/anaconda3/envs/deltarun/lib/python3.9/site-packages/pyspark/jars/spark-unsafe_2.12-3.2.1.jar) to constructor java.nio.DirectByteBuffer(long,int)\n",
      "WARNING: Please consider reporting this to the maintainers of org.apache.spark.unsafe.Platform\n",
      "WARNING: Use --illegal-access=warn to enable warnings of further illegal reflective access operations\n",
      "WARNING: All illegal access operations will be denied in a future release\n",
      "Using Spark's default log4j profile: org/apache/spark/log4j-defaults.properties\n",
      "Setting default log level to \"WARN\".\n",
      "To adjust logging level use sc.setLogLevel(newLevel). For SparkR, use setLogLevel(newLevel).\n",
      "22/12/16 13:04:10 WARN NativeCodeLoader: Unable to load native-hadoop library for your platform... using builtin-java classes where applicable\n",
      "/home/preacher/anaconda3/envs/deltarun/lib/python3.9/site-packages/pyspark/sql/context.py:77: FutureWarning: Deprecated in 3.0.0. Use SparkSession.builder.getOrCreate() instead.\n",
      "  warnings.warn(\n"
     ]
    }
   ],
   "source": [
    "from pyspark import SparkContext\n",
    "from pyspark import SparkConf\n",
    "from pyspark.sql import SQLContext\n",
    "conf=SparkConf()\n",
    "conf.set(\"spark.executor.memory\", \"4g\")\n",
    "conf.set(\"spark.driver.memory\", \"4g\")\n",
    "conf.set(\"spark.cores.max\", \"6\")\n",
    "\n",
    "sc = SparkContext.getOrCreate(conf)\n",
    "\n",
    "spark = SQLContext(sc)"
   ]
  },
  {
   "cell_type": "code",
   "execution_count": 35,
   "metadata": {},
   "outputs": [],
   "source": [
    "bungeedatalake_path = \"/home/preacher/Bungee/bnt/data_set/bungeedatalake/office_supplies\"\n",
    "exact_matches_path = \"/home/preacher/Bungee/bnt/data_set/match_data_warehouse/first_run\""
   ]
  },
  {
   "cell_type": "code",
   "execution_count": null,
   "metadata": {},
   "outputs": [],
   "source": [
    "bungeedatalake = spark.read.format('csv').option('header','true').load(bungeedatalake_path)\n",
    "print(bungeedatalake.count())\n",
    "bungeedatalake.show()\n"
   ]
  },
  {
   "cell_type": "code",
   "execution_count": null,
   "metadata": {},
   "outputs": [],
   "source": [
    "exact_matches = spark.read.format('csv').option('header','true').load(exact_matches_path)\n",
    "print(exact_matches.count())\n",
    "exact_matches.show()"
   ]
  },
  {
   "cell_type": "code",
   "execution_count": 110,
   "metadata": {},
   "outputs": [],
   "source": [
    "def save_df(df, prefix):\n",
    "    path = '/home/preacher/Bungee/bnt/data_set/'+prefix\n",
    "    print(\"Saving df to loc = {}\".format(path))\n",
    "    df.write.mode(\"overwrite\").option(\"header\",True).parquet(path)\n",
    "    print(\"dfs saved successfully\")"
   ]
  },
  {
   "cell_type": "code",
   "execution_count": 40,
   "metadata": {},
   "outputs": [],
   "source": [
    "def get_brand_matches(exact_matches, bungeedatalake):\n",
    "    uuid_a_to_brand = exact_matches.join(bungeedatalake, bungeedatalake.uuid == exact_matches.uuid_a, 'inner').select('uuid_a', 'uuid_b', col(\"brand\").alias(\"brand_a\"), col(\"source_store\").alias(\"source_store_a\"))\n",
    "    uuid_a_b_to_brand = uuid_a_to_brand.join(bungeedatalake, bungeedatalake.uuid == uuid_a_to_brand.uuid_b, 'inner').select('uuid_a', 'uuid_b', 'brand_a', 'source_store_a', col(\"brand\").alias(\"brand_b\"), col(\"source_store\").alias(\"source_store_b\"))\n",
    "    brand_matches = uuid_a_b_to_brand.select('uuid_a', 'uuid_b','brand_a', 'brand_b', 'source_store_a', 'source_store_b').na.drop()\n",
    "    brand_matches.printSchema()\n",
    "    return brand_matches"
   ]
  },
  {
   "cell_type": "code",
   "execution_count": 41,
   "metadata": {},
   "outputs": [
    {
     "name": "stdout",
     "output_type": "stream",
     "text": [
      "root\n",
      " |-- uuid_a: string (nullable = true)\n",
      " |-- uuid_b: string (nullable = true)\n",
      " |-- brand_a: string (nullable = true)\n",
      " |-- brand_b: string (nullable = true)\n",
      " |-- source_store_a: string (nullable = true)\n",
      " |-- source_store_b: string (nullable = true)\n",
      "\n"
     ]
    }
   ],
   "source": [
    "branbd_matches = get_brand_matches(exact_matches, bungeedatalake)"
   ]
  },
  {
   "cell_type": "code",
   "execution_count": 42,
   "metadata": {},
   "outputs": [
    {
     "name": "stderr",
     "output_type": "stream",
     "text": [
      "[Stage 77:====>                                                   (1 + 12) / 13]\r"
     ]
    },
    {
     "name": "stdout",
     "output_type": "stream",
     "text": [
      "+--------------------+--------------------+--------------------+--------------------+---------------+---------------+\n",
      "|              uuid_a|              uuid_b|             brand_a|             brand_b| source_store_a| source_store_b|\n",
      "+--------------------+--------------------+--------------------+--------------------+---------------+---------------+\n",
      "|001034383213<>386...|00010343832138<>2...|               Epson|INGRAM MICRO D, INC.|walmart_walmart|staples_staples|\n",
      "|11974320827<>1670...|00011974320827<>b...|GARVEY PRODUCTS, ...|              GARVEY|staples_staples|  amazon_amazon|\n",
      "|11974320827<>1670...|00011974320827<>b...|GARVEY PRODUCTS, ...|              GARVEY|staples_staples|  amazon_amazon|\n",
      "|013803078077<>563...|00013803078077<>3...|              Canon®|DIVERSIFIED COMPU...|wbmason_wbmason|staples_staples|\n",
      "|013803078077<>149...|00013803078077<>3...|               Canon|DIVERSIFIED COMPU...|walmart_walmart|staples_staples|\n",
      "|sku_b000w7r13a<>b...|00013803078077<>3...|               Canon|DIVERSIFIED COMPU...|  amazon_amazon|staples_staples|\n",
      "|13803112986<>1683...|000138031129<>298...|INGRAM MICRO D, INC.|               Canon|staples_staples|walmart_walmart|\n",
      "|sku_b0028n6zug<>b...|000138031129<>298...|               Canon|               Canon|  amazon_amazon|walmart_walmart|\n",
      "|013803112986<>783...|000138031129<>298...|               Canon|               Canon|  target_target|walmart_walmart|\n",
      "|718103296441<>243...|00017183906913<>b...|     WORKLIFE BRANDS|    Carlisle Paddles|staples_staples|  amazon_amazon|\n",
      "|21000016419<>6998...|00021000016419<>b...|PERFORMANCE FOOD GRP|               Kraft|staples_staples|  amazon_amazon|\n",
      "|021196036093<>303...|00021196036093<>b...|   Creativity Street|               PACON|walmart_walmart|  amazon_amazon|\n",
      "|21196036093<>1394...|00021196036093<>b...| EDUCATOR'S RESOURCE|               PACON|staples_staples|  amazon_amazon|\n",
      "|21196036093<>1394...|00021196036093<>b...| EDUCATOR'S RESOURCE|               PACON|staples_staples|  amazon_amazon|\n",
      "|021200473135<>474...|00021200473135<>g...|      3M CORPORATION|              Scotch|staples_staples|      zoro_zoro|\n",
      "|021200473135<>563...|00021200473135<>g...|             Scotch™|              Scotch|wbmason_wbmason|      zoro_zoro|\n",
      "|021200473135<>197...|00021200473135<>g...|        Scotch-Brite|              Scotch|walmart_walmart|      zoro_zoro|\n",
      "|021200474828<>563...|00021200474828<>g...|           Highland™|            Highland|wbmason_wbmason|      zoro_zoro|\n",
      "|021200474828<>mmm...|00021200474828<>g...|           Highland™|            Highland|wbmason_wbmason|      zoro_zoro|\n",
      "|021200474828<>196...|00021200474828<>g...|            Highland|            Highland|walmart_walmart|      zoro_zoro|\n",
      "+--------------------+--------------------+--------------------+--------------------+---------------+---------------+\n",
      "only showing top 20 rows\n",
      "\n"
     ]
    },
    {
     "name": "stderr",
     "output_type": "stream",
     "text": [
      "                                                                                \r"
     ]
    }
   ],
   "source": [
    "branbd_matches.show()"
   ]
  },
  {
   "cell_type": "code",
   "execution_count": 23,
   "metadata": {},
   "outputs": [
    {
     "ename": "NameError",
     "evalue": "name 'save_df' is not defined",
     "output_type": "error",
     "traceback": [
      "\u001b[0;31m---------------------------------------------------------------------------\u001b[0m",
      "\u001b[0;31mNameError\u001b[0m                                 Traceback (most recent call last)",
      "\u001b[1;32m/home/preacher/Bungee/CodeRepo/kaushik_forked_repo/kaushik_dev/bnt/graph.ipynb Cell 10\u001b[0m in \u001b[0;36m<cell line: 1>\u001b[0;34m()\u001b[0m\n\u001b[0;32m----> <a href='vscode-notebook-cell:/home/preacher/Bungee/CodeRepo/kaushik_forked_repo/kaushik_dev/bnt/graph.ipynb#X12sZmlsZQ%3D%3D?line=0'>1</a>\u001b[0m save_df(branbd_matches, \u001b[39m'\u001b[39m\u001b[39mbrand_matches\u001b[39m\u001b[39m'\u001b[39m)\n",
      "\u001b[0;31mNameError\u001b[0m: name 'save_df' is not defined"
     ]
    }
   ],
   "source": [
    "save_df(branbd_matches, 'brand_matches')"
   ]
  },
  {
   "cell_type": "code",
   "execution_count": 74,
   "metadata": {},
   "outputs": [],
   "source": [
    "def combine_dfs(df_list):\n",
    "    print(\"Combning dfs\")\n",
    "    combined_df = reduce(lambda df1, df2: df1.union(df2.select(df1.columns)), df_list)\n",
    "    # print(\"Combined df size = {}\".format(combined_df.count()))\n",
    "    return combined_df"
   ]
  },
  {
   "cell_type": "code",
   "execution_count": 46,
   "metadata": {},
   "outputs": [],
   "source": [
    "def get_max_id(df):\n",
    "    result = df.select([max('id')])\n",
    "    max_id = result.collect()[0]['max(id)']\n",
    "    return max_id\n",
    "\n",
    "def insert_id( df, start_idx):\n",
    "    print(\"Getting ids for new uuids\")\n",
    "    index = start_idx\n",
    "    updated_schema = StructType(df.schema.fields[:] + [StructField(\"id\", LongType(), False)])\n",
    "    zipped_rdd = df.rdd.zipWithIndex().map(lambda x: (x[0], x[1] + index))\n",
    "    id_df = (zipped_rdd.map(lambda ri: Row(*list(ri[0]) + [ri[1]])).toDF(updated_schema))\n",
    "    # print(\"New id_uuid = {}\".format(new_id_uuid_df.count()))\n",
    "    return id_df"
   ]
  },
  {
   "cell_type": "code",
   "execution_count": 31,
   "metadata": {},
   "outputs": [],
   "source": [
    "def print_df(df):\n",
    "    df.printSchema()\n",
    "    print(df.count())"
   ]
  },
  {
   "cell_type": "markdown",
   "metadata": {},
   "source": [
    "VERTEX GENERATION"
   ]
  },
  {
   "cell_type": "code",
   "execution_count": 45,
   "metadata": {},
   "outputs": [],
   "source": [
    "\n",
    "def generate_brand_to_store_set(brand_matches):\n",
    "    # convert brand to id \n",
    "    brand_a = brand_matches.select(col(\"brand_a\").alias(\"brand\"), col(\"source_store_a\").alias(\"source_store\"))\n",
    "    # print(brand_a.count())\n",
    "    brand_b = brand_matches.select(col(\"brand_b\").alias(\"brand\"), col(\"source_store_b\").alias(\"source_store\"))\n",
    "    # print(brand_b.count())\n",
    "    brand_to_store = combine_dfs([brand_a, brand_b])\n",
    "    # print(brand_to_store.count())\n",
    "    brand_to_store.printSchema()\n",
    "    brand_to_store_set = brand_to_store.groupBy('brand').agg(collect_set('source_store').alias(\"source_store_list\"))\n",
    "    brand_to_store_set.printSchema()\n",
    "    return brand_to_store_set"
   ]
  },
  {
   "cell_type": "code",
   "execution_count": 46,
   "metadata": {},
   "outputs": [],
   "source": [
    "def get_vertex(branbd_matches):\n",
    "        print(\"Fetching vertex\")\n",
    "        # print(branbd_matches.count())\n",
    "        brand_to_store = generate_brand_to_store_set(branbd_matches)\n",
    "        # if self.run_type == 'DAILY':\n",
    "        #     old_vertices = get_data_from_s3(self.s3_bucket, self.vertex_path)\n",
    "        #     new_brands = brand_to_store.join(old_vertices, old_vertices.brand == brand_to_store.brand, \"leftanti\")\n",
    "        #     last_id = get_max_id(old_vertices)\n",
    "        #     new_vertices = insert_id(new_brands, last_id)\n",
    "        #     self.vertices = combine_dfs([old_vertices, new_vertices])\n",
    "        #     # delete old data\n",
    "        # else:\n",
    "        # print(brand_to_store.count())\n",
    "        vertices = insert_id(brand_to_store, 0)\n",
    "        # print(vertices.show())\n",
    "        # vertices.show()\n",
    "        print(\"Fetching vertex finishes\")\n",
    "        return vertices\n",
    "        "
   ]
  },
  {
   "cell_type": "code",
   "execution_count": null,
   "metadata": {},
   "outputs": [],
   "source": [
    "vertex = get_vertex(branbd_matches)\n"
   ]
  },
  {
   "cell_type": "markdown",
   "metadata": {},
   "source": [
    "EDGE GENERATION"
   ]
  },
  {
   "cell_type": "code",
   "execution_count": 74,
   "metadata": {},
   "outputs": [],
   "source": [
    "def generate_graph_edges(brand_matches, vertices):\n",
    "    brand_matches = brand_matches.select('brand_a', 'brand_b')\n",
    "    brand_matches = brand_matches.groupBy('brand_a', 'brand_b').count()\n",
    "    # calculating weights\n",
    "    directed_edge_a_b = brand_matches.select('brand_a','brand_b', 'count')\n",
    "    directed_edge_b_a = brand_matches.select(col('brand_a').alias('brand_b') ,col('brand_b').alias('brand_a'), 'count')\n",
    "    undirected_edges = combine_dfs([directed_edge_a_b, directed_edge_b_a])\n",
    "    undirected_edges.show()\n",
    "    vertex_a_id = undirected_edges.join(vertices, vertices.brand == undirected_edges.brand_a, 'inner').select(col('id').alias('src'), 'brand_b','count')\n",
    "    undirected_id_edges = vertex_a_id.join(vertices, vertices.brand == vertex_a_id.brand_b, 'inner').select(col('id').alias('dst'), 'src', 'count')\n",
    "    return undirected_id_edges"
   ]
  },
  {
   "cell_type": "code",
   "execution_count": 75,
   "metadata": {},
   "outputs": [],
   "source": [
    "def get_edge(brand_matches, vertex):\n",
    "        new_edges = generate_graph_edges(brand_matches, vertex)\n",
    "        # if self.run_type == 'DAILY':\n",
    "        #     old_edges = get_data_from_s3(self.s3_bucket, self.edge_path)\n",
    "        #     edges = combine_dfs([old_edges, new_edges])\n",
    "        #     # delete old data\n",
    "        #     saving_df_to_s3(edges, self.s3_bucket, self.vertex_path)\n",
    "        #     self.edges = edges\n",
    "        # else:\n",
    "        edges =  new_edges\n",
    "        return new_edges\n",
    "\n",
    "        # saving_df_to_s3(self.edges, self.s3_bucket, self.vertex_path)"
   ]
  },
  {
   "cell_type": "code",
   "execution_count": 76,
   "metadata": {},
   "outputs": [
    {
     "data": {
      "text/plain": [
       "DataFrame[uuid_a: string, uuid_b: string, brand_a: string, brand_b: string, source_store_a: string, source_store_b: string]"
      ]
     },
     "execution_count": 76,
     "metadata": {},
     "output_type": "execute_result"
    }
   ],
   "source": [
    "branbd_matches"
   ]
  },
  {
   "cell_type": "code",
   "execution_count": 77,
   "metadata": {},
   "outputs": [
    {
     "name": "stdout",
     "output_type": "stream",
     "text": [
      "Combning dfs\n"
     ]
    },
    {
     "name": "stderr",
     "output_type": "stream",
     "text": [
      "[Stage 209:========>                                              (2 + 11) / 13]\r"
     ]
    },
    {
     "name": "stdout",
     "output_type": "stream",
     "text": [
      "+--------------------+--------------------+-----+\n",
      "|             brand_a|             brand_b|count|\n",
      "+--------------------+--------------------+-----+\n",
      "|         Sargent Art|         Sargent Art|  113|\n",
      "|             Moldex®|              Moldex|   16|\n",
      "|              Avery®|               Avery| 1904|\n",
      "|            Deflecto|            Deflecto|  173|\n",
      "|           Essendant|              Canon®|    3|\n",
      "|           Colombina|           Colombina|    7|\n",
      "|               Ghent|GHENT MANUFACTURI...|  140|\n",
      "|            Fadeless|DIXON TICONDEROGA...|   23|\n",
      "|                 GBC|           Swingline|   35|\n",
      "|              PayDay|          Hershey's®|    1|\n",
      "|          ACCUSTAMP®|           AccuStamp|    1|\n",
      "|                 BBF|BUSH INDUSTRIES, INC|  209|\n",
      "|                VARI|BUSH INDUSTRIES, INC|    3|\n",
      "|              Marcal|              Marcal|    3|\n",
      "|PERFORMANCE FOOD GRP|          Coffeemate|   15|\n",
      "|    PETRA INDUSTRIES|         Range Kleen|    7|\n",
      "|Coastwide Profess...|          MIDLAB INC|   18|\n",
      "|                Bunn|                BUNN|    9|\n",
      "|              Pentel|  Rsvp International|    8|\n",
      "|     First Aid Only™|      First Aid Only|  147|\n",
      "+--------------------+--------------------+-----+\n",
      "only showing top 20 rows\n",
      "\n"
     ]
    },
    {
     "name": "stderr",
     "output_type": "stream",
     "text": [
      "                                                                                \r"
     ]
    }
   ],
   "source": [
    "edges = get_edge(branbd_matches, vertex)"
   ]
  },
  {
   "cell_type": "code",
   "execution_count": 78,
   "metadata": {},
   "outputs": [
    {
     "name": "stderr",
     "output_type": "stream",
     "text": [
      "                                                                                \r"
     ]
    },
    {
     "name": "stdout",
     "output_type": "stream",
     "text": [
      "+-----+----+-----+\n",
      "|  dst| src|count|\n",
      "+-----+----+-----+\n",
      "| 4497|4497|  113|\n",
      "| 4015|4016|   16|\n",
      "| 7932| 243| 1904|\n",
      "| 8450|8450|  173|\n",
      "| 8201|8637|    3|\n",
      "|  532| 532|    7|\n",
      "| 3432|3467|  140|\n",
      "| 3136|3371|   23|\n",
      "| 7259|3425|   35|\n",
      "| 1049|9755|    1|\n",
      "|  113|2577|    1|\n",
      "| 2778|7947|  209|\n",
      "| 2778|4856|    3|\n",
      "| 9377|9377|    3|\n",
      "| 8297|9707|   15|\n",
      "| 4344|1627|    7|\n",
      "| 3912|8287|   18|\n",
      "| 2775|8125|    9|\n",
      "|10022|6812|    8|\n",
      "| 8708|8711|  147|\n",
      "+-----+----+-----+\n",
      "only showing top 20 rows\n",
      "\n"
     ]
    },
    {
     "name": "stderr",
     "output_type": "stream",
     "text": [
      "                                                                                \r"
     ]
    },
    {
     "data": {
      "text/plain": [
       "82250"
      ]
     },
     "execution_count": 78,
     "metadata": {},
     "output_type": "execute_result"
    }
   ],
   "source": [
    "edges.show()\n",
    "edges.count()"
   ]
  },
  {
   "cell_type": "code",
   "execution_count": 81,
   "metadata": {},
   "outputs": [],
   "source": [
    "#  vertex_neighbour  calculation\n",
    "vertex_neighbour = edges.groupBy('src').agg(collect_set('dst').alias(\"neighbour\"))"
   ]
  },
  {
   "cell_type": "code",
   "execution_count": 84,
   "metadata": {},
   "outputs": [
    {
     "name": "stderr",
     "output_type": "stream",
     "text": [
      "                                                                                \r"
     ]
    },
    {
     "name": "stdout",
     "output_type": "stream",
     "text": [
      "+----+--------------------+\n",
      "| src|           neighbour|\n",
      "+----+--------------------+\n",
      "|   1|[2599, 7384, 1032...|\n",
      "|   2|       [10774, 7940]|\n",
      "|   3|        [6012, 2753]|\n",
      "|   4|              [3631]|\n",
      "|   5|  [9271, 1305, 6361]|\n",
      "|   6|[5077, 4474, 1015...|\n",
      "|   7|              [7480]|\n",
      "|   8|              [8287]|\n",
      "|   9|              [8287]|\n",
      "|  10|              [8287]|\n",
      "|  11|        [1657, 6776]|\n",
      "|  12|              [2526]|\n",
      "|  13|[7315, 4122, 2046...|\n",
      "|  14|[4190, 9905, 7209...|\n",
      "|  15|              [6939]|\n",
      "|  16|              [2753]|\n",
      "|  17|              [8287]|\n",
      "|  18|              [7209]|\n",
      "|  19|              [7480]|\n",
      "|  20|              [7480]|\n",
      "|  21| [3581, 10641, 3285]|\n",
      "|  22|              [1292]|\n",
      "|  23|              [2909]|\n",
      "|  24|[2941, 5483, 8172...|\n",
      "|  25|  [1908, 2046, 7209]|\n",
      "|  26|             [10774]|\n",
      "|  27|              [7209]|\n",
      "|  28|             [10774]|\n",
      "|  29|              [8504]|\n",
      "|  30|             [10641]|\n",
      "|  31|              [3249]|\n",
      "|  32|[763, 1657, 764, ...|\n",
      "|  33|              [9503]|\n",
      "|  34|              [1101]|\n",
      "|  35|[7681, 7631, 1055...|\n",
      "|  36|          [5077, 35]|\n",
      "|  37|   [35, 10369, 7437]|\n",
      "|  38|              [5077]|\n",
      "|  39|        [9071, 6250]|\n",
      "|  40|              [6909]|\n",
      "|  41|        [7441, 2561]|\n",
      "|  42|        [2753, 7480]|\n",
      "|  43|   [2052, 8298, 577]|\n",
      "|  44|              [6128]|\n",
      "|  45|               [678]|\n",
      "|  46|               [227]|\n",
      "|  47|              [6180]|\n",
      "|  48|          [832, 868]|\n",
      "|  49|  [5097, 9277, 7706]|\n",
      "|  50|          [5993, 50]|\n",
      "|  51|              [3143]|\n",
      "|  52|              [4177]|\n",
      "|  53|[9525, 2629, 614,...|\n",
      "|  54| [8287, 10458, 7209]|\n",
      "|  55|        [5298, 8720]|\n",
      "|  56|        [7773, 6913]|\n",
      "|  57|[8760, 4122, 2633...|\n",
      "|  58|[1576, 1221, 4038...|\n",
      "|  59|              [7532]|\n",
      "|  60| [5102, 10816, 7721]|\n",
      "|  61|              [1101]|\n",
      "|  62|          [35, 5077]|\n",
      "|  63|        [3791, 8344]|\n",
      "|  64|              [5161]|\n",
      "|  65|   [7784, 119, 3249]|\n",
      "|  66|             [10520]|\n",
      "|  67|[3460, 68, 8006, ...|\n",
      "|  68|[10599, 1, 3247, ...|\n",
      "|  69|         [7899, 211]|\n",
      "|  70|    [6916, 5077, 35]|\n",
      "|  71|        [3570, 6126]|\n",
      "|  72|        [1101, 4458]|\n",
      "|  73|             [10636]|\n",
      "|  74|    [7809, 74, 9074]|\n",
      "|  75|[9543, 729, 5118,...|\n",
      "|  76|[8488, 495, 75, 6...|\n",
      "|  77|  [75, 76, 5118, 77]|\n",
      "|  78|               [135]|\n",
      "|  79|   [797, 2588, 7738]|\n",
      "|  80|               [137]|\n",
      "|  81|             [10399]|\n",
      "|  82|              [4112]|\n",
      "|  83|             [10641]|\n",
      "|  84|              [7849]|\n",
      "|  85|[165, 3548, 4975,...|\n",
      "|  86|    [2604, 5496, 92]|\n",
      "|  87|  [9754, 8481, 7752]|\n",
      "|  88|              [5778]|\n",
      "|  89|[7877, 1627, 2698...|\n",
      "|  90|[1101, 3185, 9298...|\n",
      "|  91|         [2604, 194]|\n",
      "|  92|[1884, 1627, 1101...|\n",
      "|  93|        [6453, 4112]|\n",
      "|  94|        [7294, 3249]|\n",
      "|  95|              [5253]|\n",
      "|  96|  [1689, 5254, 6139]|\n",
      "|  97|        [7906, 7757]|\n",
      "|  98|[2727, 5141, 3115...|\n",
      "|  99|  [2728, 3115, 7760]|\n",
      "| 100|        [7762, 7763]|\n",
      "| 101|[5275, 9453, 7932...|\n",
      "| 102|[4038, 4122, 1081...|\n",
      "| 103|[5126, 173, 3115,...|\n",
      "| 104|               [104]|\n",
      "| 105|[5943, 5626, 2628...|\n",
      "| 106|       [6811, 10399]|\n",
      "| 107|               [107]|\n",
      "| 108|         [1101, 108]|\n",
      "| 109|        [5156, 7774]|\n",
      "| 110|[2599, 5105, 9744...|\n",
      "| 111|              [3318]|\n",
      "| 112|[6956, 3524, 112,...|\n",
      "| 113|[2636, 8336, 2942...|\n",
      "| 114|[2636, 2942, 5102...|\n",
      "| 115|[113, 2636, 2942,...|\n",
      "| 116|        [7722, 5077]|\n",
      "| 117|[1696, 117, 7725,...|\n",
      "| 118|        [9797, 4177]|\n",
      "| 119|          [3249, 65]|\n",
      "| 120|  [5527, 3115, 9503]|\n",
      "| 121|          [122, 123]|\n",
      "| 122|[1101, 121, 5465,...|\n",
      "| 123|    [121, 5465, 122]|\n",
      "| 124|              [7791]|\n",
      "| 125|              [4703]|\n",
      "| 126|               [126]|\n",
      "| 127|[761, 1799, 10409...|\n",
      "| 128|          [68, 7803]|\n",
      "| 129|[883, 4641, 3249,...|\n",
      "| 130|        [2585, 4112]|\n",
      "| 131|              [3115]|\n",
      "| 132|              [2654]|\n",
      "| 133|    [434, 7735, 134]|\n",
      "| 134|[133, 434, 5578, ...|\n",
      "| 135|                [78]|\n",
      "| 136|         [137, 7739]|\n",
      "| 137|[136, 2656, 80, 7...|\n",
      "| 138|        [2609, 1874]|\n",
      "| 139|   [5809, 729, 5193]|\n",
      "| 140|               [140]|\n",
      "| 141|               [141]|\n",
      "| 142|               [142]|\n",
      "| 143|[10208, 10209, 2590]|\n",
      "| 144|  [6668, 6970, 4850]|\n",
      "| 145|[7827, 7801, 5200...|\n",
      "| 146|[2593, 4089, 7828...|\n",
      "| 147|         [147, 4374]|\n",
      "| 148|  [5993, 7441, 9103]|\n",
      "| 149|              [3135]|\n",
      "| 150|[858, 3562, 150, ...|\n",
      "| 151|        [2665, 4112]|\n",
      "| 152|[4862, 152, 10641...|\n",
      "| 153|   [5993, 153, 5207]|\n",
      "| 154|   [2917, 1386, 175]|\n",
      "| 155|   [155, 2609, 5121]|\n",
      "| 156|   [3029, 6812, 515]|\n",
      "| 157|   [5993, 3000, 481]|\n",
      "| 158|              [4845]|\n",
      "| 159|         [1627, 159]|\n",
      "| 160|[9504, 6876, 6972...|\n",
      "| 161|[1098, 9940, 1007...|\n",
      "| 162|        [9707, 6287]|\n",
      "| 163|[1101, 5215, 5748...|\n",
      "| 164|              [7847]|\n",
      "| 165|                [85]|\n",
      "| 166|              [3548]|\n",
      "| 167|               [167]|\n",
      "| 168|[6385, 7315, 3787...|\n",
      "| 169|        [4112, 1402]|\n",
      "| 170|        [2601, 5218]|\n",
      "| 171|              [2604]|\n",
      "| 172|        [5993, 1218]|\n",
      "| 173|   [5126, 103, 3115]|\n",
      "| 174|              [3249]|\n",
      "| 175|[154, 5208, 5615,...|\n",
      "| 176|        [3338, 7858]|\n",
      "| 177|              [5221]|\n",
      "| 178|        [9503, 3115]|\n",
      "| 179|               [179]|\n",
      "| 180|              [3505]|\n",
      "| 181|   [181, 9503, 3115]|\n",
      "| 182|               [182]|\n",
      "| 183|        [2778, 2155]|\n",
      "| 184|   [5298, 2366, 185]|\n",
      "| 185|               [184]|\n",
      "| 186|         [187, 2693]|\n",
      "| 187|[186, 10641, 3252...|\n",
      "| 188|               [492]|\n",
      "| 189|[190, 5237, 2696,...|\n",
      "| 190|[5237, 189, 2696,...|\n",
      "| 191|             [10038]|\n",
      "| 192|[6916, 6170, 7875...|\n",
      "| 193|              [9715]|\n",
      "| 194|[1884, 7848, 1101...|\n",
      "| 195|   [7744, 196, 9503]|\n",
      "| 196|[7744, 195, 2606,...|\n",
      "| 197|[5993, 9707, 197,...|\n",
      "| 198|              [7886]|\n",
      "| 199|    [1101, 199, 200]|\n",
      "| 200|   [1101, 3799, 199]|\n",
      "| 201|               [201]|\n",
      "| 202|              [9738]|\n",
      "| 203|        [5147, 3115]|\n",
      "| 204|[2171, 204, 4789,...|\n",
      "| 205|  [5993, 5251, 2708]|\n",
      "| 206|             [10641]|\n",
      "| 207|              [2609]|\n",
      "| 208| [10539, 8438, 5477]|\n",
      "| 209|        [1627, 2716]|\n",
      "| 210|       [10785, 3332]|\n",
      "| 211|          [7899, 69]|\n",
      "| 212|        [7900, 6776]|\n",
      "| 213|[7907, 213, 2609,...|\n",
      "| 214|   [7907, 213, 2610]|\n",
      "| 215|[215, 1627, 5489,...|\n",
      "| 216|[10071, 708, 2255...|\n",
      "| 217|              [9738]|\n",
      "| 218|[1657, 6776, 3136...|\n",
      "| 219|[5972, 1101, 219,...|\n",
      "| 220|              [7725]|\n",
      "| 221|        [2599, 2590]|\n",
      "| 222|               [222]|\n",
      "| 223|              [5263]|\n",
      "| 224|              [4534]|\n",
      "| 225|[5993, 9707, 6535...|\n",
      "| 226|               [226]|\n",
      "| 227|[4975, 6776, 227,...|\n",
      "| 228|[10662, 6655, 526...|\n",
      "| 229|              [7760]|\n",
      "| 230|[1627, 7761, 5142...|\n",
      "| 231|   [1101, 231, 7293]|\n",
      "| 232|               [263]|\n",
      "| 233|   [233, 9503, 3115]|\n",
      "| 234|[4872, 1101, 234,...|\n",
      "| 235|[1794, 1627, 7812...|\n",
      "| 236|   [3115, 2733, 236]|\n",
      "| 237|              [2617]|\n",
      "| 238|              [5270]|\n",
      "| 239|               [239]|\n",
      "| 240|[5147, 8563, 9969...|\n",
      "| 241|              [2743]|\n",
      "| 242|[7932, 2620, 5150...|\n",
      "| 243|[2746, 5148, 2601...|\n",
      "| 244|         [5126, 103]|\n",
      "| 245|[2626, 5280, 245,...|\n",
      "| 246|              [5155]|\n",
      "| 247|[7768, 247, 3115,...|\n",
      "| 248|  [9797, 1703, 9710]|\n",
      "| 249|              [7886]|\n",
      "| 250|              [5333]|\n",
      "| 251|         [9463, 295]|\n",
      "| 252|[9079, 7943, 296,...|\n",
      "| 253|              [6914]|\n",
      "| 254|  [4439, 1978, 1979]|\n",
      "| 255|[1097, 5824, 8535...|\n",
      "| 256|              [7950]|\n",
      "| 257|               [312]|\n",
      "| 258|              [3253]|\n",
      "| 259|[1714, 2390, 2666...|\n",
      "| 260|        [9784, 3505]|\n",
      "| 261|[8081, 6963, 6404...|\n",
      "| 262|              [7480]|\n",
      "| 263|               [232]|\n",
      "| 264|              [9024]|\n",
      "| 265|  [5383, 1454, 7248]|\n",
      "| 266|    [5385, 569, 570]|\n",
      "| 267|[2829, 8051, 267,...|\n",
      "| 268|[10092, 2086, 720...|\n",
      "| 269|[9247, 9298, 2043...|\n",
      "| 270|[2978, 8231, 468,...|\n",
      "| 271|    [8070, 271, 432]|\n",
      "| 272|  [5993, 5318, 5415]|\n",
      "| 273|              [1840]|\n",
      "| 274|[9459, 10774, 190...|\n",
      "| 275|[9459, 3529, 9032...|\n",
      "| 276|[10774, 277, 2753...|\n",
      "| 277|[9754, 2753, 612,...|\n",
      "| 278|   [8287, 394, 8104]|\n",
      "| 279|[2593, 7828, 5200...|\n",
      "| 280|[8117, 6571, 8898...|\n",
      "| 281|              [2793]|\n",
      "| 282|  [8898, 8971, 2793]|\n",
      "| 283|              [9707]|\n",
      "| 284|       [10360, 5412]|\n",
      "| 285|              [5907]|\n",
      "| 286|              [9503]|\n",
      "| 287|              [5328]|\n",
      "| 288|              [5077]|\n",
      "| 289|               [289]|\n",
      "| 290|         [5331, 729]|\n",
      "| 291|        [2781, 3249]|\n",
      "| 292|         [5993, 292]|\n",
      "| 293|        [4435, 3253]|\n",
      "| 294|              [5332]|\n",
      "| 295|[251, 8030, 9463,...|\n",
      "| 296|[9079, 7943, 252,...|\n",
      "| 297|[3381, 5918, 5919...|\n",
      "| 298|  [1627, 10734, 298]|\n",
      "| 299|[7997, 6287, 7998...|\n",
      "| 300|         [2787, 432]|\n",
      "| 301|[5809, 5291, 2788...|\n",
      "| 302| [2601, 10641, 9503]|\n",
      "| 303|              [1261]|\n",
      "| 304| [10122, 5697, 9503]|\n",
      "| 305|              [7976]|\n",
      "| 306|[5293, 306, 8010,...|\n",
      "| 307| [307, 10690, 10631]|\n",
      "| 308|              [9707]|\n",
      "| 309|[5294, 5077, 1064...|\n",
      "| 310|              [8012]|\n",
      "| 311|              [7273]|\n",
      "| 312|               [257]|\n",
      "| 313|[2799, 1101, 7886...|\n",
      "| 314|        [9299, 6443]|\n",
      "| 315|              [1997]|\n",
      "| 316|              [8016]|\n",
      "| 317|        [2473, 2798]|\n",
      "| 318|              [2473]|\n",
      "| 319|[3804, 320, 1627,...|\n",
      "| 320|         [5354, 319]|\n",
      "| 321|              [8884]|\n",
      "| 322|        [9707, 2758]|\n",
      "| 323|         [9707, 323]|\n",
      "| 324|[484, 9707, 324, ...|\n",
      "| 325|[1627, 10049, 188...|\n",
      "| 326|[325, 5389, 7396,...|\n",
      "| 327|         [9707, 327]|\n",
      "| 328|       [5077, 10641]|\n",
      "| 329|[5024, 5147, 329,...|\n",
      "| 330|[2212, 10104, 475...|\n",
      "| 331|             [10641]|\n",
      "| 332|              [7480]|\n",
      "| 333|               [333]|\n",
      "| 334|        [7950, 5364]|\n",
      "| 335|               [335]|\n",
      "| 336|  [10614, 336, 9389]|\n",
      "| 337| [5365, 10614, 9389]|\n",
      "| 338|       [10614, 9389]|\n",
      "| 339|             [10614]|\n",
      "| 340|         [340, 5368]|\n",
      "| 341|              [8041]|\n",
      "| 342|               [342]|\n",
      "| 343|[9707, 6287, 2107...|\n",
      "| 344|              [6499]|\n",
      "| 345|              [7584]|\n",
      "| 346|   [9707, 5386, 346]|\n",
      "| 347|   [347, 5309, 9503]|\n",
      "| 348|        [8051, 3248]|\n",
      "| 349|              [3536]|\n",
      "| 350|              [9434]|\n",
      "| 351|              [5389]|\n",
      "| 352|[9707, 5993, 8055...|\n",
      "| 353|               [353]|\n",
      "| 354|   [1627, 354, 5392]|\n",
      "| 355|[2839, 9222, 355,...|\n",
      "| 356|               [357]|\n",
      "| 357|               [356]|\n",
      "| 358|               [481]|\n",
      "| 359|              [5313]|\n",
      "| 360|               [360]|\n",
      "| 361|   [1664, 361, 7960]|\n",
      "| 362|[1101, 362, 3694,...|\n",
      "| 363|[6966, 1595, 7700...|\n",
      "| 364|              [3717]|\n",
      "| 365|              [2847]|\n",
      "| 366|[3790, 729, 8637,...|\n",
      "| 367|              [5918]|\n",
      "| 368|[2850, 625, 3918,...|\n",
      "| 369|  [8074, 3135, 9503]|\n",
      "| 370|              [7752]|\n",
      "| 371|[371, 2854, 3650,...|\n",
      "| 372|[372, 6811, 8075,...|\n",
      "| 373|[1184, 6777, 1657...|\n",
      "| 374|[8081, 8764, 1599...|\n",
      "| 375|[2599, 9744, 2086...|\n",
      "| 376|              [1627]|\n",
      "| 377|[5805, 5914, 9715...|\n",
      "| 378|              [4198]|\n",
      "| 379|        [1627, 6489]|\n",
      "| 380|[10458, 7315, 107...|\n",
      "| 381|[7315, 2753, 7480...|\n",
      "| 382|[10458, 10190, 41...|\n",
      "| 383|        [2753, 7480]|\n",
      "| 384|[9208, 10641, 411...|\n",
      "| 385|   [3249, 9503, 385]|\n",
      "| 386|[386, 7776, 1101,...|\n",
      "| 387|        [3554, 1034]|\n",
      "| 388|             [10208]|\n",
      "| 389|              [5433]|\n",
      "| 390|[2473, 1627, 4041...|\n",
      "| 391|        [4923, 5322]|\n",
      "| 392|              [5993]|\n",
      "| 393|[1184, 10614, 104...|\n",
      "| 394|[1098, 8067, 5077...|\n",
      "| 395|              [3115]|\n",
      "| 396|[397, 5324, 396, ...|\n",
      "| 397|               [396]|\n",
      "| 398|         [2890, 729]|\n",
      "| 399|              [2890]|\n",
      "| 400|[8110, 2890, 8112...|\n",
      "| 401|              [7978]|\n",
      "| 402|               [402]|\n",
      "| 403|[9707, 5993, 8124...|\n",
      "| 404|        [2775, 2777]|\n",
      "| 405|               [405]|\n",
      "| 406|  [5656, 1105, 6631]|\n",
      "| 407|        [3122, 5655]|\n",
      "| 408|[6963, 10636, 408...|\n",
      "| 409|[5300, 8031, 6647...|\n",
      "| 410|        [8135, 2909]|\n",
      "| 411|         [2909, 478]|\n",
      "| 412|        [2913, 7209]|\n",
      "| 413|        [5465, 3115]|\n",
      "| 414|              [8190]|\n",
      "| 415|[7013, 2970, 1043...|\n",
      "| 416|[9528, 6334, 2637...|\n",
      "| 417|  [9514, 4400, 3033]|\n",
      "| 418|        [5469, 4047]|\n",
      "| 419|              [1627]|\n",
      "| 420|        [9707, 5522]|\n",
      "| 421|              [8148]|\n",
      "| 422|              [2992]|\n",
      "| 423|  [5993, 8251, 8250]|\n",
      "| 424|  [8153, 3001, 5535]|\n",
      "| 425|    [502, 2609, 501]|\n",
      "| 426|[505, 6287, 5544,...|\n",
      "| 427|        [6505, 9298]|\n",
      "| 428|[506, 394, 8104, ...|\n",
      "| 429|        [1627, 5549]|\n",
      "| 430|[8164, 2931, 6266...|\n",
      "| 431|              [3249]|\n",
      "| 432|[610, 3378, 7733,...|\n",
      "| 433|               [434]|\n",
      "| 434|[4211, 133, 4591,...|\n",
      "| 435|[4121, 3051, 539,...|\n",
      "| 436|               [542]|\n",
      "| 437|              [2939]|\n",
      "| 438|              [2942]|\n",
      "| 439|[8168, 4215, 3638...|\n",
      "| 440|              [3082]|\n",
      "| 441|        [5489, 5626]|\n",
      "| 442|        [7690, 1467]|\n",
      "| 443|              [8185]|\n",
      "| 444|[2955, 6287, 444,...|\n",
      "| 445|              [4703]|\n",
      "| 446|              [5564]|\n",
      "| 447| [10698, 10634, 447]|\n",
      "| 448|[10324, 10103, 10...|\n",
      "| 449|              [8191]|\n",
      "| 450|[692, 3249, 450, ...|\n",
      "| 451|[5144, 7762, 5101...|\n",
      "| 452|              [5501]|\n",
      "| 453|[3143, 8198, 453,...|\n",
      "| 454|[8201, 8575, 5504...|\n",
      "| 455|  [8201, 5504, 5666]|\n",
      "| 456|              [5455]|\n",
      "| 457|[1182, 9081, 9503...|\n",
      "| 458|[8206, 2620, 1039...|\n",
      "| 459|               [459]|\n",
      "| 460|[5993, 9707, 8219...|\n",
      "| 461|[2970, 2971, 2972...|\n",
      "| 462|[2970, 10432, 835...|\n",
      "| 463|   [8226, 464, 8225]|\n",
      "| 464|[8226, 463, 68, 8...|\n",
      "| 465|         [270, 2978]|\n",
      "| 466|   [2978, 8231, 468]|\n",
      "| 467|               [467]|\n",
      "| 468|[466, 270, 2978, ...|\n",
      "| 469|[1627, 470, 2516,...|\n",
      "| 470|               [469]|\n",
      "| 471|[8234, 2906, 416,...|\n",
      "| 472|              [8906]|\n",
      "| 473|               [473]|\n",
      "| 474|[4324, 1819, 2983...|\n",
      "| 475|[2920, 4114, 4042...|\n",
      "| 476|   [476, 8243, 9503]|\n",
      "| 477|   [1627, 921, 9503]|\n",
      "| 478|[10781, 1953, 824...|\n",
      "| 479|[1953, 8248, 1576...|\n",
      "| 480|        [2778, 5298]|\n",
      "| 481|[5993, 9707, 7441...|\n",
      "| 482|        [8154, 5915]|\n",
      "| 483|[9707, 7441, 5536...|\n",
      "| 484|[484, 745, 324, 3...|\n",
      "| 485|               [485]|\n",
      "| 486|        [1627, 9503]|\n",
      "| 487|              [3249]|\n",
      "| 488|  [1907, 4627, 2609]|\n",
      "| 489|               [489]|\n",
      "| 490|        [3010, 8260]|\n",
      "| 491|              [7342]|\n",
      "| 492|         [5235, 188]|\n",
      "| 493|              [1476]|\n",
      "| 494|              [3016]|\n",
      "| 495|[3790, 495, 5539,...|\n",
      "| 496|               [496]|\n",
      "| 497|[3790, 5538, 729,...|\n",
      "| 498|         [9707, 498]|\n",
      "| 499|              [1997]|\n",
      "| 500|        [2778, 1548]|\n",
      "| 501|[502, 7013, 425, ...|\n",
      "| 502|          [425, 501]|\n",
      "| 503|               [501]|\n",
      "| 504|               [828]|\n",
      "| 505|[505, 6287, 426, ...|\n",
      "| 506|               [428]|\n",
      "| 507|              [5300]|\n",
      "| 508|   [3934, 8160, 508]|\n",
      "| 509|              [8349]|\n",
      "| 510|[1657, 510, 6776,...|\n",
      "| 511|[7725, 1696, 1067...|\n",
      "| 512|[7725, 511, 7600,...|\n",
      "| 513|         [513, 3179]|\n",
      "| 514|              [5008]|\n",
      "| 515|[8153, 8253, 3029...|\n",
      "| 516|[727, 868, 832, 8...|\n",
      "| 517|              [5558]|\n",
      "| 518|              [5564]|\n",
      "| 519|        [5476, 5564]|\n",
      "| 520|[9271, 8407, 2890...|\n",
      "| 521|[2890, 8270, 5504...|\n",
      "| 522|  [5693, 5477, 8438]|\n",
      "| 523|         [520, 5478]|\n",
      "| 524|[5479, 524, 1101,...|\n",
      "| 525|               [525]|\n",
      "| 526|[6287, 2220, 4150...|\n",
      "| 527|        [8294, 6919]|\n",
      "| 528|              [3604]|\n",
      "| 529|[4215, 9003, 8637...|\n",
      "| 530|               [530]|\n",
      "| 531|        [8920, 9503]|\n",
      "| 532|[5993, 9707, 532,...|\n",
      "| 533|[5993, 9707, 1889...|\n",
      "| 534|   [8305, 227, 9506]|\n",
      "| 535|              [1880]|\n",
      "| 536|   [3050, 536, 9503]|\n",
      "| 537|[4195, 729, 8308,...|\n",
      "| 538|        [3051, 5298]|\n",
      "| 539|[3051, 9970, 435,...|\n",
      "| 540|[1627, 5468, 540,...|\n",
      "| 541|              [3055]|\n",
      "| 542|[8317, 709, 542, ...|\n",
      "| 543|   [9707, 2599, 543]|\n",
      "| 544|[1101, 545, 544, ...|\n",
      "| 545|               [544]|\n",
      "| 546|[6317, 4038, 546,...|\n",
      "| 547|[547, 8318, 3249,...|\n",
      "| 548|              [5993]|\n",
      "| 549|              [5298]|\n",
      "| 550|[8325, 10386, 989...|\n",
      "| 551|              [5604]|\n",
      "| 552|          [553, 552]|\n",
      "| 553|    [553, 1101, 552]|\n",
      "| 554|[8168, 7073, 3066...|\n",
      "| 555|               [555]|\n",
      "| 556|        [1101, 2938]|\n",
      "| 557|        [2938, 6178]|\n",
      "| 558|              [4112]|\n",
      "| 559|[560, 5606, 8169,...|\n",
      "| 560|    [560, 3249, 559]|\n",
      "| 561|         [561, 3249]|\n",
      "| 562|[3962, 3963, 3901...|\n",
      "| 563|  [3657, 3115, 7293]|\n",
      "| 564|[564, 2939, 5610,...|\n",
      "| 565|[6776, 565, 4167,...|\n",
      "| 566|              [5613]|\n",
      "| 567|[8171, 8332, 1081...|\n",
      "| 568|              [5614]|\n",
      "| 569|   [266, 6217, 8174]|\n",
      "| 570|         [266, 6217]|\n",
      "| 571|        [8344, 8349]|\n",
      "| 572|               [572]|\n",
      "| 573|               [574]|\n",
      "| 574|               [573]|\n",
      "| 575|              [3249]|\n",
      "| 576|    [576, 478, 3249]|\n",
      "| 577|[9707, 10491, 309...|\n",
      "| 578|              [5621]|\n",
      "| 579|[7764, 579, 8355,...|\n",
      "| 580|               [580]|\n",
      "| 581|       [8356, 10057]|\n",
      "| 582|        [9503, 8355]|\n",
      "| 583|  [8360, 8361, 2609]|\n",
      "| 584| [4112, 10710, 7539]|\n",
      "| 585|[7441, 4195, 5632...|\n",
      "| 586|        [5943, 3097]|\n",
      "| 587|        [8484, 3135]|\n",
      "| 588|       [8363, 10080]|\n",
      "| 589|        [8484, 3135]|\n",
      "| 590|[9707, 4298, 590,...|\n",
      "| 591|   [1495, 7052, 591]|\n",
      "| 592|[592, 9229, 3063,...|\n",
      "| 593|[1101, 593, 7442,...|\n",
      "| 594|        [9229, 8366]|\n",
      "| 595|  [5298, 4112, 5645]|\n",
      "| 596|              [3362]|\n",
      "| 597|              [3362]|\n",
      "| 598|              [8720]|\n",
      "| 599|[1627, 1101, 2954...|\n",
      "| 600|        [5363, 5647]|\n",
      "| 601|         [601, 3114]|\n",
      "| 602|  [5993, 7480, 7785]|\n",
      "| 603|[3160, 8460, 8401...|\n",
      "| 604|[604, 3118, 9503,...|\n",
      "| 605|              [8931]|\n",
      "| 606|[5993, 7441, 606,...|\n",
      "| 607|        [6916, 3675]|\n",
      "| 608|  [6928, 8314, 3056]|\n",
      "| 609|[4692, 3182, 8398...|\n",
      "| 610|[8455, 8456, 3185...|\n",
      "| 611|         [653, 8313]|\n",
      "| 612|[277, 7033, 8090,...|\n",
      "| 613|              [9074]|\n",
      "| 614|[9525, 6759, 4175...|\n",
      "| 615|[2829, 7445, 9144...|\n",
      "| 616|              [5739]|\n",
      "| 617|        [8488, 5741]|\n",
      "| 618|        [5505, 2609]|\n",
      "| 619|  [4645, 2609, 3136]|\n",
      "| 620|[8488, 9831, 2238...|\n",
      "| 621|               [624]|\n",
      "| 622|[1627, 9881, 1646...|\n",
      "| 623|  [5672, 9143, 1212]|\n",
      "| 624|               [621]|\n",
      "| 625|[4719, 4038, 4975...|\n",
      "| 626|   [626, 3249, 1405]|\n",
      "| 627|        [8523, 5772]|\n",
      "| 628|   [8535, 703, 8420]|\n",
      "| 629|  [5778, 5779, 8421]|\n",
      "| 630|[1881, 3152, 1013...|\n",
      "| 631|              [5683]|\n",
      "| 632|              [5682]|\n",
      "| 633|[5685, 10633, 633...|\n",
      "| 634|         [633, 1638]|\n",
      "| 635|             [10782]|\n",
      "| 636|        [2778, 5298]|\n",
      "| 637|              [4505]|\n",
      "| 638|        [1627, 5691]|\n",
      "| 639|              [9057]|\n",
      "| 640|               [640]|\n",
      "| 641|[8128, 8440, 641,...|\n",
      "| 642|[3170, 641, 4195,...|\n",
      "| 643|              [3174]|\n",
      "| 644|              [1455]|\n",
      "| 645|               [645]|\n",
      "| 646|               [646]|\n",
      "| 647|         [6255, 275]|\n",
      "| 648|               [649]|\n",
      "| 649|               [648]|\n",
      "| 650|               [650]|\n",
      "| 651|  [8398, 8450, 2479]|\n",
      "| 652|   [5993, 652, 3184]|\n",
      "| 653|   [611, 2609, 7284]|\n",
      "| 654|              [3249]|\n",
      "| 655|[1627, 655, 8906,...|\n",
      "| 656|              [1098]|\n",
      "| 657|         [9503, 657]|\n",
      "| 658|         [658, 4112]|\n",
      "| 659|[661, 5721, 729, ...|\n",
      "| 660|               [659]|\n",
      "| 661|         [659, 1008]|\n",
      "| 662|             [10736]|\n",
      "| 663|         [6287, 663]|\n",
      "| 664|         [665, 6597]|\n",
      "| 665|[7441, 9478, 6597...|\n",
      "| 666|              [2033]|\n",
      "| 667|[9343, 1627, 667,...|\n",
      "| 668|               [668]|\n",
      "| 669|              [8478]|\n",
      "| 670|               [670]|\n",
      "| 671|              [5993]|\n",
      "| 672|         [5735, 415]|\n",
      "| 673|              [5127]|\n",
      "| 674|              [8487]|\n",
      "| 675|              [4452]|\n",
      "| 676|        [8488, 5741]|\n",
      "| 677|[3207, 6776, 4351...|\n",
      "| 678|[6875, 3209, 625,...|\n",
      "| 679|         [679, 9535]|\n",
      "| 680|              [5755]|\n",
      "| 681|              [8509]|\n",
      "| 682|             [10641]|\n",
      "| 683|    [275, 3485, 683]|\n",
      "| 684|               [684]|\n",
      "| 685|[5993, 9707, 8512...|\n",
      "| 686|[8512, 685, 3216,...|\n",
      "| 687|  [8520, 3143, 8519]|\n",
      "| 688|  [3329, 3330, 5804]|\n",
      "| 689|         [2609, 689]|\n",
      "| 690|[8563, 729, 5764,...|\n",
      "| 691|              [5993]|\n",
      "| 692|[6655, 5360, 261,...|\n",
      "| 693|         [694, 3249]|\n",
      "| 694|         [3249, 693]|\n",
      "| 695|[1627, 695, 4112,...|\n",
      "| 696|[2052, 3225, 3145...|\n",
      "| 697|             [10641]|\n",
      "| 698|              [7480]|\n",
      "| 699|              [9559]|\n",
      "| 700|   [5993, 7441, 700]|\n",
      "| 701|[6287, 5776, 8529...|\n",
      "| 702|              [5918]|\n",
      "| 703|[628, 10187, 5780...|\n",
      "| 704|               [704]|\n",
      "| 705| [10187, 8535, 8420]|\n",
      "| 706|  [9453, 7911, 7759]|\n",
      "| 707|              [5781]|\n",
      "| 708|[102, 1137, 216, ...|\n",
      "| 709|        [542, 10399]|\n",
      "| 710|[1881, 4534, 3152...|\n",
      "| 711|         [7056, 711]|\n",
      "| 712|   [712, 8548, 3249]|\n",
      "| 713|[3246, 3277, 8552...|\n",
      "| 714|             [10641]|\n",
      "| 715|          [716, 729]|\n",
      "| 716|[716, 3279, 729, ...|\n",
      "| 717|              [3277]|\n",
      "| 718|    [3247, 719, 559]|\n",
      "| 719|[3290, 3247, 718,...|\n",
      "| 720|[5993, 8599, 8178...|\n",
      "| 721|               [721]|\n",
      "| 722|              [9503]|\n",
      "| 723|[2440, 763, 764, ...|\n",
      "| 724|              [2920]|\n",
      "| 725|[6619, 2191, 3316...|\n",
      "| 726|  [3329, 3330, 5804]|\n",
      "| 727|[3783, 9649, 4030...|\n",
      "| 728|             [10399]|\n",
      "| 729|[3123, 6694, 2992...|\n",
      "| 730|              [8754]|\n",
      "| 731|[10374, 5925, 751...|\n",
      "| 732|  [5878, 1665, 3249]|\n",
      "| 733|             [10641]|\n",
      "| 734|              [6571]|\n",
      "| 735|        [2448, 7566]|\n",
      "| 736|         [812, 3249]|\n",
      "| 737|[1627, 7937, 2976...|\n",
      "| 738|              [8584]|\n",
      "| 739|  [739, 10641, 8591]|\n",
      "| 740|              [3279]|\n",
      "| 741|[8484, 8590, 3135...|\n",
      "| 742|[1101, 742, 8803,...|\n",
      "| 743|        [8023, 1880]|\n",
      "| 744|              [1020]|\n",
      "| 745|               [484]|\n",
      "| 746|   [1101, 746, 3807]|\n",
      "| 747|   [3305, 747, 3249]|\n",
      "| 748|              [3296]|\n",
      "| 749|       [10432, 3249]|\n",
      "| 750|               [750]|\n",
      "| 751|        [6287, 3299]|\n",
      "| 752|         [4448, 752]|\n",
      "| 753|[1101, 7273, 8906...|\n",
      "| 754|              [5841]|\n",
      "| 755|  [7089, 2765, 8606]|\n",
      "| 756|              [9503]|\n",
      "| 757|               [758]|\n",
      "| 758|         [1101, 757]|\n",
      "| 759|[1627, 2920, 5881...|\n",
      "| 760|              [9911]|\n",
      "| 761|[8560, 5558, 127,...|\n",
      "| 762|              [9707]|\n",
      "| 763|[5464, 5973, 764,...|\n",
      "| 764|[2440, 9503, 763,...|\n",
      "| 765|[764, 3364, 2609,...|\n",
      "| 766|         [1101, 766]|\n",
      "| 767|   [2778, 5360, 261]|\n",
      "| 768|               [768]|\n",
      "| 769|[10784, 10641, 76...|\n",
      "| 770|[771, 5987, 770, ...|\n",
      "| 771|         [5987, 770]|\n",
      "| 772|[6287, 3313, 9164...|\n",
      "| 773|   [9707, 729, 5118]|\n",
      "| 774|              [5012]|\n",
      "| 775|[3296, 775, 1171,...|\n",
      "| 776|        [6814, 6812]|\n",
      "| 777|              [5864]|\n",
      "| 778|              [5864]|\n",
      "| 779|[3260, 5864, 9208...|\n",
      "| 780|               [780]|\n",
      "| 781|              [3249]|\n",
      "| 782|              [8566]|\n",
      "| 783|[9071, 8626, 7186...|\n",
      "| 784|         [3265, 784]|\n",
      "| 785|[3329, 1101, 3330...|\n",
      "| 786|        [9503, 5870]|\n",
      "| 787|               [787]|\n",
      "| 788|        [4448, 4652]|\n",
      "| 789|[789, 1101, 5806,...|\n",
      "| 790|              [6947]|\n",
      "| 791|              [3249]|\n",
      "| 792|               [727]|\n",
      "| 793|   [4483, 793, 3271]|\n",
      "| 794|              [8641]|\n",
      "| 795|              [8639]|\n",
      "| 796|        [5918, 5920]|\n",
      "| 797|                [79]|\n",
      "| 798|         [798, 8642]|\n",
      "| 799|               [799]|\n",
      "| 800|   [5326, 8578, 800]|\n",
      "| 801|               [801]|\n",
      "| 802|   [3344, 802, 3249]|\n",
      "| 803|              [8195]|\n",
      "| 804|              [9214]|\n",
      "| 805|               [805]|\n",
      "| 806|[5298, 9617, 729,...|\n",
      "| 807|        [9503, 8654]|\n",
      "| 808|[10662, 6655, 955...|\n",
      "| 809|              [9506]|\n",
      "| 810|        [5993, 3352]|\n",
      "| 811|        [1624, 9503]|\n",
      "| 812|[1540, 1939, 9033...|\n",
      "| 813|              [8906]|\n",
      "| 814|              [8906]|\n",
      "| 815|              [9911]|\n",
      "| 816|[3374, 5973, 4122...|\n",
      "| 817|        [9707, 8133]|\n",
      "| 818|             [10038]|\n",
      "| 819|              [3380]|\n",
      "| 820|[7108, 5047, 1599...|\n",
      "| 821|         [3357, 821]|\n",
      "| 822|               [826]|\n",
      "| 823|    [6923, 850, 823]|\n",
      "| 824|         [8935, 855]|\n",
      "| 825|              [5933]|\n",
      "| 826|[10084, 6571, 599...|\n",
      "| 827|              [3109]|\n",
      "| 828|[5162, 1101, 4310...|\n",
      "| 829|       [3395, 10112]|\n",
      "| 830|       [9226, 10641]|\n",
      "| 831|              [1880]|\n",
      "| 832|[3086, 3783, 1068...|\n",
      "| 833|              [5949]|\n",
      "| 834|   [6287, 8728, 875]|\n",
      "| 835|         [835, 8686]|\n",
      "| 836|[4444, 1101, 2756...|\n",
      "| 837|               [837]|\n",
      "| 838|               [838]|\n",
      "| 839|         [840, 3249]|\n",
      "| 840|[840, 3249, 839, ...|\n",
      "| 841|[9707, 8694, 3719...|\n",
      "| 842|              [3596]|\n",
      "| 843|              [4703]|\n",
      "| 844|         [1627, 844]|\n",
      "| 845|  [4112, 3596, 8977]|\n",
      "| 846|              [3357]|\n",
      "| 847|              [8760]|\n",
      "| 848|              [3249]|\n",
      "| 849|              [3388]|\n",
      "| 850|    [6923, 850, 823]|\n",
      "| 851|        [6715, 6886]|\n",
      "| 852|   [3359, 853, 3390]|\n",
      "| 853|[930, 5928, 3359,...|\n",
      "| 854|              [7276]|\n",
      "| 855|               [824]|\n",
      "| 856|[5933, 8670, 4504...|\n",
      "| 857|             [10038]|\n",
      "| 858|[9504, 150, 6876,...|\n",
      "| 859|[8715, 6774, 6216...|\n",
      "| 860|               [860]|\n",
      "| 861|               [861]|\n",
      "| 862|              [5937]|\n",
      "| 863|              [3684]|\n",
      "| 864|               [864]|\n",
      "| 865|              [8408]|\n",
      "| 866|              [3395]|\n",
      "| 867|[3703, 9258, 5882...|\n",
      "| 868|[3086, 8675, 1068...|\n",
      "| 869|     [832, 868, 516]|\n",
      "| 870|              [3249]|\n",
      "| 871|         [9707, 432]|\n",
      "| 872|   [7441, 3000, 481]|\n",
      "| 873|[1101, 873, 4850,...|\n",
      "| 874|[3366, 3400, 874,...|\n",
      "| 875|[9707, 8727, 6287...|\n",
      "| 876|         [954, 2609]|\n",
      "| 877|              [9707]|\n",
      "| 878|              [3402]|\n",
      "| 879|               [879]|\n",
      "| 880|              [3403]|\n",
      "| 881|              [8263]|\n",
      "| 882|         [2972, 415]|\n",
      "| 883|[129, 4641, 7222,...|\n",
      "| 884|        [3410, 6392]|\n",
      "| 885| [1878, 10641, 5309]|\n",
      "| 886|[3411, 4729, 886,...|\n",
      "| 887|              [6571]|\n",
      "| 888|  [5993, 3413, 5960]|\n",
      "| 889|              [5964]|\n",
      "| 890|              [5122]|\n",
      "| 891|[1627, 10633, 956...|\n",
      "| 892|[5993, 7441, 5536...|\n",
      "| 893|[9707, 894, 5993,...|\n",
      "| 894|[894, 7441, 5966,...|\n",
      "| 895|             [10432]|\n",
      "| 896|              [1218]|\n",
      "| 897|    [898, 938, 8036]|\n",
      "| 898|[5993, 897, 938, ...|\n",
      "| 899|   [1101, 8683, 900]|\n",
      "| 900|[1627, 1101, 8683...|\n",
      "| 901|   [1101, 901, 9503]|\n",
      "| 902|   [902, 5901, 3249]|\n",
      "| 903|[9921, 903, 1977,...|\n",
      "| 904|  [1101, 8760, 2976]|\n",
      "| 905|     [905, 5077, 35]|\n",
      "| 906|             [10641]|\n",
      "| 907|  [4226, 4082, 7211]|\n",
      "| 908|[1184, 3463, 9947...|\n",
      "| 909|         [5981, 911]|\n",
      "| 910|[5981, 4427, 910,...|\n",
      "| 911|         [909, 5984]|\n",
      "| 912|[1627, 5984, 5981...|\n",
      "| 913|[3460, 68, 7803, ...|\n",
      "| 914|[9707, 5057, 6012...|\n",
      "| 915|[8799, 9867, 5983...|\n",
      "| 916|  [8814, 5229, 7869]|\n",
      "| 917|         [917, 3115]|\n",
      "| 918|[9707, 5476, 5564...|\n",
      "| 919|               [963]|\n",
      "| 920|[5232, 9298, 3694...|\n",
      "| 921|   [1627, 477, 9503]|\n",
      "| 922|  [989, 2432, 10642]|\n",
      "| 923|              [8857]|\n",
      "| 924|    [994, 995, 9877]|\n",
      "| 925|             [10641]|\n",
      "| 926|[8487, 4719, 9271...|\n",
      "| 927|              [9707]|\n",
      "| 928|[1627, 9208, 928,...|\n",
      "| 929|              [5978]|\n",
      "| 930|    [3359, 931, 853]|\n",
      "| 931|    [930, 3359, 853]|\n",
      "| 932|              [4112]|\n",
      "| 933| [1900, 9513, 10367]|\n",
      "| 934|               [934]|\n",
      "| 935|              [9503]|\n",
      "| 936|              [4476]|\n",
      "| 937|[912, 1627, 5984,...|\n",
      "| 938|[5993, 897, 9707,...|\n",
      "| 939|              [1741]|\n",
      "| 940|[915, 2985, 3461,...|\n",
      "| 941|              [6013]|\n",
      "| 942|[9707, 1098, 7304...|\n",
      "| 943|        [3532, 5298]|\n",
      "| 944|              [6027]|\n",
      "| 945|[3467, 3432, 4703...|\n",
      "| 946|              [8818]|\n",
      "| 947|[7441, 949, 4195,...|\n",
      "| 948|              [4879]|\n",
      "| 949|    [7441, 949, 947]|\n",
      "| 950|              [2154]|\n",
      "| 951|        [6647, 1495]|\n",
      "| 952|             [10233]|\n",
      "| 953|        [5476, 8824]|\n",
      "| 954|   [876, 2060, 2609]|\n",
      "| 955|[8828, 374, 4690,...|\n",
      "| 956|              [3694]|\n",
      "| 957|  [1627, 3480, 5019]|\n",
      "| 958|[960, 6811, 4231,...|\n",
      "| 959|[960, 7169, 6811,...|\n",
      "| 960|[6811, 10399, 958...|\n",
      "| 961|               [961]|\n",
      "| 962|        [7013, 1874]|\n",
      "| 963|               [919]|\n",
      "| 964|             [10785]|\n",
      "| 965|[5077, 275, 3485,...|\n",
      "| 966|        [7932, 5150]|\n",
      "| 967|              [3486]|\n",
      "| 968|        [9707, 6045]|\n",
      "| 969|              [5307]|\n",
      "| 970|[5990, 970, 971, ...|\n",
      "| 971|     [970, 971, 432]|\n",
      "| 972|        [8594, 3284]|\n",
      "| 973|         [973, 1688]|\n",
      "| 974|   [974, 1190, 3756]|\n",
      "| 975|[4905, 3892, 3494...|\n",
      "| 976|              [9636]|\n",
      "| 977|              [6057]|\n",
      "| 978|               [978]|\n",
      "| 979|             [10641]|\n",
      "| 980|               [980]|\n",
      "| 981|[8843, 981, 275, ...|\n",
      "| 982|              [2492]|\n",
      "| 983|              [8845]|\n",
      "| 984|       [10730, 9430]|\n",
      "| 985|              [3249]|\n",
      "| 986|[8810, 6250, 988,...|\n",
      "| 987|[5600, 988, 4981,...|\n",
      "| 988|[986, 8637, 987, ...|\n",
      "| 989|               [922]|\n",
      "| 990|               [990]|\n",
      "| 991|        [8856, 8776]|\n",
      "| 992|        [5993, 6643]|\n",
      "| 993|        [5300, 5564]|\n",
      "| 994|               [924]|\n",
      "| 995|               [924]|\n",
      "| 996|         [996, 7273]|\n",
      "| 997|   [8868, 997, 6916]|\n",
      "| 998|         [6078, 998]|\n",
      "| 999|        [8869, 3249]|\n",
      "|1000|              [1000]|\n",
      "+----+--------------------+\n",
      "only showing top 1000 rows\n",
      "\n"
     ]
    },
    {
     "name": "stderr",
     "output_type": "stream",
     "text": [
      "                                                                                \r"
     ]
    },
    {
     "data": {
      "text/plain": [
       "10829"
      ]
     },
     "execution_count": 84,
     "metadata": {},
     "output_type": "execute_result"
    }
   ],
   "source": [
    "\n",
    "vertex_neighbour.show(1000)\n",
    "vertex_neighbour.count()"
   ]
  },
  {
   "cell_type": "code",
   "execution_count": null,
   "metadata": {},
   "outputs": [],
   "source": []
  },
  {
   "cell_type": "code",
   "execution_count": 59,
   "metadata": {},
   "outputs": [
    {
     "name": "stderr",
     "output_type": "stream",
     "text": [
      "                                                                                \r"
     ]
    },
    {
     "data": {
      "text/plain": [
       "41125"
      ]
     },
     "execution_count": 59,
     "metadata": {},
     "output_type": "execute_result"
    }
   ],
   "source": [
    "weighted_edges.count()"
   ]
  },
  {
   "cell_type": "code",
   "execution_count": null,
   "metadata": {},
   "outputs": [],
   "source": [
    "print_df(edges)\n",
    "vertex_a_id = edges.join(vertex, vertex.brand == edges.brand_a, 'inner').select(col('id').alias('src'), 'brand_b')\n",
    "print_df(vertex_a_id)\n",
    "edge = vertex_a_id.join(vertex, vertex.brand == vertex_a_id.brand_b, 'inner').select(col('id').alias('dst'), 'src')\n",
    "print_df(edge)"
   ]
  },
  {
   "cell_type": "code",
   "execution_count": null,
   "metadata": {},
   "outputs": [],
   "source": [
    "edge.show()"
   ]
  },
  {
   "cell_type": "code",
   "execution_count": null,
   "metadata": {},
   "outputs": [],
   "source": [
    "vertex.show(100)"
   ]
  },
  {
   "cell_type": "markdown",
   "metadata": {},
   "source": [
    "GRAPH PREPARATION"
   ]
  },
  {
   "cell_type": "code",
   "execution_count": 36,
   "metadata": {},
   "outputs": [],
   "source": [
    "from graphframes import *"
   ]
  },
  {
   "cell_type": "code",
   "execution_count": 37,
   "metadata": {},
   "outputs": [],
   "source": [
    "graph =  GraphFrame(vertex, edge)"
   ]
  },
  {
   "cell_type": "code",
   "execution_count": 38,
   "metadata": {},
   "outputs": [
    {
     "data": {
      "text/plain": [
       "graphframes.graphframe.GraphFrame"
      ]
     },
     "execution_count": 38,
     "metadata": {},
     "output_type": "execute_result"
    }
   ],
   "source": [
    "type(graph)"
   ]
  },
  {
   "cell_type": "markdown",
   "metadata": {},
   "source": [
    "GENERATE_BRAND_SETS"
   ]
  },
  {
   "cell_type": "code",
   "execution_count": 39,
   "metadata": {},
   "outputs": [
    {
     "name": "stderr",
     "output_type": "stream",
     "text": [
      "                                                                                \r"
     ]
    }
   ],
   "source": [
    "sc.setCheckpointDir(\"/home/preacher/Bungee/bnt/checkpoints/\")\n",
    "cc = graph.connectedComponents()"
   ]
  },
  {
   "cell_type": "code",
   "execution_count": null,
   "metadata": {},
   "outputs": [],
   "source": [
    "cc.show(1000)"
   ]
  },
  {
   "cell_type": "code",
   "execution_count": 42,
   "metadata": {},
   "outputs": [
    {
     "data": {
      "text/plain": [
       "10829"
      ]
     },
     "execution_count": 42,
     "metadata": {},
     "output_type": "execute_result"
    }
   ],
   "source": [
    "cc.count()"
   ]
  },
  {
   "cell_type": "code",
   "execution_count": 33,
   "metadata": {},
   "outputs": [],
   "source": [
    "cc = cc.withColumnRenamed('collect_set(source_store)', 'source_store')"
   ]
  },
  {
   "cell_type": "code",
   "execution_count": 34,
   "metadata": {},
   "outputs": [],
   "source": [
    "cc.write.parquet('/home/preacher/Bungee/bnt/cc.parquet')"
   ]
  },
  {
   "cell_type": "code",
   "execution_count": 43,
   "metadata": {},
   "outputs": [],
   "source": [
    "brand_id_sets = cc.groupBy('component').agg(collect_set('id').alias(\"brand_id_list\"))"
   ]
  },
  {
   "cell_type": "code",
   "execution_count": 44,
   "metadata": {},
   "outputs": [],
   "source": [
    "brand_sets = cc.groupBy('component').agg(collect_set('brand').alias(\"brand_list\"))"
   ]
  },
  {
   "cell_type": "code",
   "execution_count": null,
   "metadata": {},
   "outputs": [],
   "source": [
    "brand_id_sets.show()"
   ]
  },
  {
   "cell_type": "code",
   "execution_count": null,
   "metadata": {},
   "outputs": [],
   "source": [
    "brand_sets.show(1000)"
   ]
  },
  {
   "cell_type": "code",
   "execution_count": 48,
   "metadata": {},
   "outputs": [
    {
     "data": {
      "text/plain": [
       "1001"
      ]
     },
     "execution_count": 48,
     "metadata": {},
     "output_type": "execute_result"
    }
   ],
   "source": [
    "brand_sets.count()"
   ]
  },
  {
   "cell_type": "code",
   "execution_count": 54,
   "metadata": {},
   "outputs": [],
   "source": [
    "brand_id_sets = brand_id_sets.withColumn(\"brand_id_list\", col(\"brand_id_list\").cast(\"string\"))"
   ]
  },
  {
   "cell_type": "code",
   "execution_count": 52,
   "metadata": {},
   "outputs": [
    {
     "name": "stdout",
     "output_type": "stream",
     "text": [
      "Saving df to loc = /home/preacher/Bungee/bnt/data_set/brand_sets\n",
      "dfs saved successfully\n"
     ]
    }
   ],
   "source": [
    "save_df(brand_sets, 'brand_sets')"
   ]
  },
  {
   "cell_type": "code",
   "execution_count": 55,
   "metadata": {},
   "outputs": [
    {
     "name": "stdout",
     "output_type": "stream",
     "text": [
      "Saving df to loc = /home/preacher/Bungee/bnt/data_set/brand_id_sets\n",
      "dfs saved successfully\n"
     ]
    }
   ],
   "source": [
    "save_df(brand_id_sets, 'brand_id_sets')"
   ]
  },
  {
   "cell_type": "markdown",
   "metadata": {},
   "source": [
    "BRAND_SET_COMPARISON"
   ]
  },
  {
   "cell_type": "code",
   "execution_count": 3,
   "metadata": {},
   "outputs": [],
   "source": [
    "def open_file(path):\n",
    "    df = spark.read.format('csv').option('header','true').load(path)\n",
    "    print(df.count())\n",
    "    df.show()\n",
    "    return df"
   ]
  },
  {
   "cell_type": "code",
   "execution_count": 4,
   "metadata": {},
   "outputs": [],
   "source": [
    "old_cc_path = '/home/preacher/Bungee/bnt/data_set/old_brand_id_set.csv'\n",
    "new_cc_path = '/home/preacher/Bungee/bnt/data_set/new_brand_id_set.csv'"
   ]
  },
  {
   "cell_type": "code",
   "execution_count": 5,
   "metadata": {},
   "outputs": [
    {
     "name": "stdout",
     "output_type": "stream",
     "text": [
      "8\n",
      "+----+------------+\n",
      "|  id|brand_id_set|\n",
      "+----+------------+\n",
      "|1000|       6,2,1|\n",
      "|1001|      7,8,10|\n",
      "|1002|    12,15,17|\n",
      "|1003|        9,11|\n",
      "|1004| 100,101,102|\n",
      "|1005|         4,5|\n",
      "|1006|    21,22,23|\n",
      "|1007|    31,32,33|\n",
      "+----+------------+\n",
      "\n",
      "7\n",
      "+------------+\n",
      "|brand_id_set|\n",
      "+------------+\n",
      "| 100,101,102|\n",
      "|    97,98,99|\n",
      "|    7,8,9,10|\n",
      "| 12,15,16,17|\n",
      "|         4,6|\n",
      "|       22,23|\n",
      "|    32,33,34|\n",
      "+------------+\n",
      "\n"
     ]
    }
   ],
   "source": [
    "old_brand_set = open_file(old_cc_path)\n",
    "new_brand_set = open_file(new_cc_path)"
   ]
  },
  {
   "cell_type": "code",
   "execution_count": 10,
   "metadata": {},
   "outputs": [
    {
     "name": "stdout",
     "output_type": "stream",
     "text": [
      "root\n",
      " |-- brand_id_set: string (nullable = true)\n",
      "\n"
     ]
    }
   ],
   "source": [
    "old_brand_set.printSchema()"
   ]
  },
  {
   "cell_type": "code",
   "execution_count": 16,
   "metadata": {},
   "outputs": [],
   "source": [
    "# convert string to array\n",
    "def convert_string_to_sorted_array(df, col_name):\n",
    "    df = df.select(split(col(col_name),\",\").alias('array')).drop(col_name)\n",
    "    df = df.select(\"array\",sort_array(\"array\",asc=True).alias(col_name)).drop('array')\n",
    "    df.show()\n",
    "    return df"
   ]
  },
  {
   "cell_type": "code",
   "execution_count": 17,
   "metadata": {},
   "outputs": [],
   "source": [
    "# convert array and string\n",
    "def convert_array_to_string(df):\n",
    "    df = df.withColumn(\"brand_id_string\",concat_ws(\",\",col(\"brand_id_set\"))).drop('brand_id_set')\n",
    "    df.show()\n",
    "    return df"
   ]
  },
  {
   "cell_type": "code",
   "execution_count": 14,
   "metadata": {},
   "outputs": [
    {
     "name": "stdout",
     "output_type": "stream",
     "text": [
      "+---------------+\n",
      "|   brand_id_set|\n",
      "+---------------+\n",
      "|      [1, 2, 6]|\n",
      "|     [10, 7, 8]|\n",
      "|   [12, 15, 17]|\n",
      "|            [9]|\n",
      "|[100, 101, 102]|\n",
      "|         [4, 5]|\n",
      "|   [21, 22, 23]|\n",
      "|   [31, 32, 33]|\n",
      "+---------------+\n",
      "\n",
      "+----------------+\n",
      "|    brand_id_set|\n",
      "+----------------+\n",
      "| [100, 101, 102]|\n",
      "|    [97, 98, 99]|\n",
      "|   [10, 7, 8, 9]|\n",
      "|[12, 15, 16, 17]|\n",
      "|          [4, 6]|\n",
      "|        [22, 23]|\n",
      "|    [32, 33, 34]|\n",
      "+----------------+\n",
      "\n"
     ]
    }
   ],
   "source": [
    "old_brand_id_set = convert_string_to_sorted_array(old_brand_set, 'brand_id_set')\n",
    "new_brand_id_set = convert_string_to_sorted_array(new_brand_set, 'brand_id_set')"
   ]
  },
  {
   "cell_type": "code",
   "execution_count": 15,
   "metadata": {},
   "outputs": [
    {
     "name": "stdout",
     "output_type": "stream",
     "text": [
      "+---------------+\n",
      "|brand_id_string|\n",
      "+---------------+\n",
      "|          1,2,6|\n",
      "|         10,7,8|\n",
      "|       12,15,17|\n",
      "|              9|\n",
      "|    100,101,102|\n",
      "|            4,5|\n",
      "|       21,22,23|\n",
      "|       31,32,33|\n",
      "+---------------+\n",
      "\n",
      "+---------------+\n",
      "|brand_id_string|\n",
      "+---------------+\n",
      "|    100,101,102|\n",
      "|       97,98,99|\n",
      "|       10,7,8,9|\n",
      "|    12,15,16,17|\n",
      "|            4,6|\n",
      "|          22,23|\n",
      "|       32,33,34|\n",
      "+---------------+\n",
      "\n"
     ]
    }
   ],
   "source": [
    "old_brand_id_string = convert_array_to_string(old_brand_id_set)\n",
    "new_brand_id_string = convert_array_to_string(new_brand_id_set)"
   ]
  },
  {
   "cell_type": "code",
   "execution_count": 16,
   "metadata": {},
   "outputs": [],
   "source": [
    "updated_and_new_set  = new_brand_id_string.subtract(old_brand_id_string)"
   ]
  },
  {
   "cell_type": "code",
   "execution_count": 17,
   "metadata": {},
   "outputs": [
    {
     "name": "stdout",
     "output_type": "stream",
     "text": [
      "+---------------+\n",
      "|brand_id_string|\n",
      "+---------------+\n",
      "|    12,15,16,17|\n",
      "|       10,7,8,9|\n",
      "|       97,98,99|\n",
      "|          22,23|\n",
      "|            4,6|\n",
      "|       32,33,34|\n",
      "+---------------+\n",
      "\n"
     ]
    }
   ],
   "source": [
    "updated_and_new_set.show()"
   ]
  },
  {
   "cell_type": "code",
   "execution_count": 18,
   "metadata": {},
   "outputs": [
    {
     "name": "stdout",
     "output_type": "stream",
     "text": [
      "+----------------+\n",
      "| brand_id_string|\n",
      "+----------------+\n",
      "|[12, 15, 16, 17]|\n",
      "|   [10, 7, 8, 9]|\n",
      "|    [97, 98, 99]|\n",
      "|        [22, 23]|\n",
      "|          [4, 6]|\n",
      "|    [32, 33, 34]|\n",
      "+----------------+\n",
      "\n"
     ]
    }
   ],
   "source": [
    "updated_and_new_set = convert_string_to_sorted_array(updated_and_new_set,'brand_id_string')"
   ]
  },
  {
   "cell_type": "code",
   "execution_count": 19,
   "metadata": {},
   "outputs": [
    {
     "name": "stdout",
     "output_type": "stream",
     "text": [
      "+---------------+\n",
      "|brand_id_string|\n",
      "+---------------+\n",
      "|      [1, 2, 6]|\n",
      "|     [10, 7, 8]|\n",
      "|   [12, 15, 17]|\n",
      "|            [9]|\n",
      "|[100, 101, 102]|\n",
      "|         [4, 5]|\n",
      "|   [21, 22, 23]|\n",
      "|   [31, 32, 33]|\n",
      "+---------------+\n",
      "\n"
     ]
    }
   ],
   "source": [
    "old_set = convert_string_to_sorted_array(old_brand_id_string,'brand_id_string')"
   ]
  },
  {
   "cell_type": "code",
   "execution_count": 19,
   "metadata": {},
   "outputs": [
    {
     "name": "stdout",
     "output_type": "stream",
     "text": [
      "root\n",
      " |-- brand_id_string: array (nullable = false)\n",
      " |    |-- element: string (containsNull = true)\n",
      "\n"
     ]
    }
   ],
   "source": [
    "old_set.printSchema()"
   ]
  },
  {
   "cell_type": "code",
   "execution_count": 24,
   "metadata": {},
   "outputs": [
    {
     "name": "stdout",
     "output_type": "stream",
     "text": [
      "Getting ids for new uuids\n",
      "Getting ids for new uuids\n"
     ]
    }
   ],
   "source": [
    "old_set = insert_id(old_set, 0)\n",
    "new_set = insert_id(updated_and_new_set, 0)"
   ]
  },
  {
   "cell_type": "code",
   "execution_count": 25,
   "metadata": {},
   "outputs": [
    {
     "name": "stdout",
     "output_type": "stream",
     "text": [
      "+---------------+---+\n",
      "|brand_id_string| id|\n",
      "+---------------+---+\n",
      "|      [1, 2, 6]|  1|\n",
      "|     [10, 7, 8]|  2|\n",
      "|   [12, 15, 17]|  3|\n",
      "|            [9]|  4|\n",
      "|[100, 101, 102]|  5|\n",
      "|         [4, 5]|  6|\n",
      "|   [21, 22, 23]|  7|\n",
      "|   [31, 32, 33]|  8|\n",
      "+---------------+---+\n",
      "\n",
      "+----------------+---+\n",
      "| brand_id_string| id|\n",
      "+----------------+---+\n",
      "|[12, 15, 16, 17]|  1|\n",
      "|   [10, 7, 8, 9]|  2|\n",
      "|    [97, 98, 99]|  3|\n",
      "|        [22, 23]|  4|\n",
      "|          [4, 6]|  5|\n",
      "|    [32, 33, 34]|  6|\n",
      "+----------------+---+\n",
      "\n"
     ]
    }
   ],
   "source": [
    "100000000 \n",
    "old_set.show()\n",
    "4000 \n",
    "new_set.show()"
   ]
  },
  {
   "cell_type": "code",
   "execution_count": null,
   "metadata": {},
   "outputs": [],
   "source": [
    "100040000"
   ]
  },
  {
   "cell_type": "code",
   "execution_count": 26,
   "metadata": {},
   "outputs": [
    {
     "name": "stdout",
     "output_type": "stream",
     "text": [
      "+----------+-----+\n",
      "|set_id_old|brand|\n",
      "+----------+-----+\n",
      "|         1|    1|\n",
      "|         1|    2|\n",
      "|         1|    6|\n",
      "|         2|   10|\n",
      "|         2|    7|\n",
      "|         2|    8|\n",
      "|         3|   12|\n",
      "|         3|   15|\n",
      "|         3|   17|\n",
      "|         4|    9|\n",
      "|         5|  100|\n",
      "|         5|  101|\n",
      "|         5|  102|\n",
      "|         6|    4|\n",
      "|         6|    5|\n",
      "|         7|   21|\n",
      "|         7|   22|\n",
      "|         7|   23|\n",
      "|         8|   31|\n",
      "|         8|   32|\n",
      "+----------+-----+\n",
      "only showing top 20 rows\n",
      "\n"
     ]
    }
   ],
   "source": [
    "id_set_num = old_set.select(old_set.id,explode(old_set.brand_id_string).alias('brand'))\n",
    "id_set_num = id_set_num.withColumnRenamed('id','set_id_old')\n",
    "id_set_num.show()"
   ]
  },
  {
   "cell_type": "code",
   "execution_count": 27,
   "metadata": {},
   "outputs": [
    {
     "name": "stdout",
     "output_type": "stream",
     "text": [
      "+----------+-----+\n",
      "|set_id_new|brand|\n",
      "+----------+-----+\n",
      "|         1|   12|\n",
      "|         1|   15|\n",
      "|         1|   16|\n",
      "|         1|   17|\n",
      "|         2|   10|\n",
      "|         2|    7|\n",
      "|         2|    8|\n",
      "|         2|    9|\n",
      "|         3|   97|\n",
      "|         3|   98|\n",
      "|         3|   99|\n",
      "|         4|   22|\n",
      "|         4|   23|\n",
      "|         5|    4|\n",
      "|         5|    6|\n",
      "|         6|   32|\n",
      "|         6|   33|\n",
      "|         6|   34|\n",
      "+----------+-----+\n",
      "\n"
     ]
    }
   ],
   "source": [
    "new_id_set_num = new_set.select(new_set.id,explode(new_set.brand_id_string).alias('brand'))\n",
    "new_id_set_num = new_id_set_num.withColumnRenamed('id','set_id_new')\n",
    "new_id_set_num.show()"
   ]
  },
  {
   "cell_type": "code",
   "execution_count": 28,
   "metadata": {},
   "outputs": [],
   "source": [
    "old_id_set_num = id_set_num"
   ]
  },
  {
   "cell_type": "code",
   "execution_count": 30,
   "metadata": {},
   "outputs": [
    {
     "name": "stdout",
     "output_type": "stream",
     "text": [
      "+----------+----------+-----+\n",
      "|set_id_new|set_id_old|brand|\n",
      "+----------+----------+-----+\n",
      "|         2|         2|   10|\n",
      "|         1|         3|   12|\n",
      "|         1|         3|   15|\n",
      "|         1|         3|   17|\n",
      "|         4|         7|   22|\n",
      "|         4|         7|   23|\n",
      "|         6|         8|   32|\n",
      "|         6|         8|   33|\n",
      "|         5|         6|    4|\n",
      "|         5|         1|    6|\n",
      "|         2|         2|    7|\n",
      "|         2|         2|    8|\n",
      "|         2|         4|    9|\n",
      "+----------+----------+-----+\n",
      "\n"
     ]
    }
   ],
   "source": [
    "#updated brands\n",
    "new_id_set_num = new_id_set_num.withColumnRenamed('brand','brand_new')\n",
    "set_compare = new_id_set_num.join(old_id_set_num, new_id_set_num.brand_new == old_id_set_num.brand, 'inner').drop('brand_new')\n",
    "set_compare.show()"
   ]
  },
  {
   "cell_type": "code",
   "execution_count": 39,
   "metadata": {},
   "outputs": [
    {
     "name": "stdout",
     "output_type": "stream",
     "text": [
      "+----------+-----+\n",
      "|set_id_new|brand|\n",
      "+----------+-----+\n",
      "|         2|   10|\n",
      "|         1|   12|\n",
      "|         1|   15|\n",
      "|         1|   17|\n",
      "|         4|   22|\n",
      "|         4|   23|\n",
      "|         6|   32|\n",
      "|         6|   33|\n",
      "|         5|    4|\n",
      "|         5|    6|\n",
      "|         2|    7|\n",
      "|         2|    8|\n",
      "|         2|    9|\n",
      "+----------+-----+\n",
      "\n",
      "+----------+-----+\n",
      "|set_id_new|brand|\n",
      "+----------+-----+\n",
      "|         3|   99|\n",
      "|         6|   34|\n",
      "|         3|   98|\n",
      "|         1|   16|\n",
      "|         3|   97|\n",
      "+----------+-----+\n",
      "\n"
     ]
    }
   ],
   "source": [
    "#new brands\n",
    "new_id_set_num = new_id_set_num.withColumnRenamed('brand_new','brand')\n",
    "\n",
    "updated_brands = set_compare.select( 'set_id_new','brand')\n",
    "updated_brands.show()\n",
    "new_brands = new_id_set_num.subtract(updated_brands)\n",
    "new_brands.show()\n",
    "\n"
   ]
  },
  {
   "cell_type": "code",
   "execution_count": 50,
   "metadata": {},
   "outputs": [
    {
     "name": "stdout",
     "output_type": "stream",
     "text": [
      "+------+---------------------------------+\n",
      "|new_id|brand_old_id                     |\n",
      "+------+---------------------------------+\n",
      "|6     |[{32, 8}, {33, 8}]               |\n",
      "|5     |[{4, 6}, {6, 1}]                 |\n",
      "|1     |[{12, 3}, {15, 3}, {17, 3}]      |\n",
      "|2     |[{10, 2}, {7, 2}, {8, 2}, {9, 4}]|\n",
      "|4     |[{22, 7}, {23, 7}]               |\n",
      "+------+---------------------------------+\n",
      "\n"
     ]
    }
   ],
   "source": [
    "brand_old_id = set_compare.withColumn(\"brand_old_id\", struct(col(\"brand\"),col(\"set_id_old\"))).drop('brand','set_id_old')\n",
    "brand_old_id = brand_old_id.withColumnRenamed('set_id_new','id')\n",
    "brand_old_id = brand_old_id.groupBy('id').agg(collect_list('brand_old_id').alias(\"brand_old_id\"))\n",
    "brand_old_id = brand_old_id.withColumnRenamed('id','new_id') \n",
    "brand_old_id.show(brand_old_id.count(), False)\n"
   ]
  },
  {
   "cell_type": "code",
   "execution_count": 51,
   "metadata": {},
   "outputs": [
    {
     "name": "stdout",
     "output_type": "stream",
     "text": [
      "+------+---------------------------+\n",
      "|old_id|brand_new_id               |\n",
      "+------+---------------------------+\n",
      "|7     |[{22, 4}, {23, 4}]         |\n",
      "|6     |[{4, 5}]                   |\n",
      "|1     |[{6, 5}]                   |\n",
      "|3     |[{12, 1}, {15, 1}, {17, 1}]|\n",
      "|8     |[{32, 6}, {33, 6}]         |\n",
      "|2     |[{10, 2}, {7, 2}, {8, 2}]  |\n",
      "|4     |[{9, 2}]                   |\n",
      "+------+---------------------------+\n",
      "\n"
     ]
    }
   ],
   "source": [
    "brand_new_id = set_compare.withColumn(\"brand_new_id\", struct(col(\"brand\"),col(\"set_id_new\"))).drop('brand','set_id_new')\n",
    "brand_new_id = brand_new_id.withColumnRenamed('set_id_old','id')\n",
    "brand_new_id = brand_new_id.groupBy('id').agg(collect_list('brand_new_id').alias(\"brand_new_id\"))\n",
    "brand_new_id = brand_new_id.withColumnRenamed('id','old_id') \n",
    "brand_new_id.show(brand_new_id.count(), False)"
   ]
  },
  {
   "cell_type": "code",
   "execution_count": 55,
   "metadata": {},
   "outputs": [
    {
     "name": "stdout",
     "output_type": "stream",
     "text": [
      "+----------+------------+\n",
      "|set_id_old|brand_old_id|\n",
      "+----------+------------+\n",
      "|7         |[4]         |\n",
      "|6         |[5]         |\n",
      "|1         |[5]         |\n",
      "|3         |[1]         |\n",
      "|8         |[6]         |\n",
      "|2         |[2]         |\n",
      "|4         |[2]         |\n",
      "+----------+------------+\n",
      "\n"
     ]
    }
   ],
   "source": [
    "brand_old_id = set_compare.groupBy('set_id_old').agg(collect_set('set_id_new').alias(\"brand_old_id\"))\n",
    "brand_old_id.show(brand_old_id.count(), False)"
   ]
  },
  {
   "cell_type": "code",
   "execution_count": 56,
   "metadata": {},
   "outputs": [
    {
     "name": "stdout",
     "output_type": "stream",
     "text": [
      "+----------+----------+\n",
      "|set_id_new|old_id_set|\n",
      "+----------+----------+\n",
      "|6         |[8]       |\n",
      "|5         |[1, 6]    |\n",
      "|1         |[3]       |\n",
      "|2         |[2, 4]    |\n",
      "|4         |[7]       |\n",
      "+----------+----------+\n",
      "\n"
     ]
    }
   ],
   "source": [
    "brand_old_id = set_compare.groupBy('set_id_new').agg(collect_set('set_id_old').alias(\"old_id_set\"))\n",
    "brand_old_id.show(brand_old_id.count(), False)"
   ]
  },
  {
   "cell_type": "code",
   "execution_count": 62,
   "metadata": {},
   "outputs": [
    {
     "name": "stdout",
     "output_type": "stream",
     "text": [
      "+----------+----------+----------------+\n",
      "|set_id_new|old_id_set|  new_brand_sets|\n",
      "+----------+----------+----------------+\n",
      "|         6|       [8]|    [32, 33, 34]|\n",
      "|         5|    [1, 6]|          [4, 6]|\n",
      "|         1|       [3]|[12, 15, 16, 17]|\n",
      "|         2|    [2, 4]|   [10, 7, 8, 9]|\n",
      "|         4|       [7]|        [22, 23]|\n",
      "+----------+----------+----------------+\n",
      "\n"
     ]
    }
   ],
   "source": [
    "new_id_brands = brand_old_id.join(new_set, brand_old_id.set_id_new == new_set.id, 'inner').drop('id').withColumnRenamed('brand_id_string','new_brand_sets')\n",
    "new_id_brands.show()"
   ]
  },
  {
   "cell_type": "code",
   "execution_count": 71,
   "metadata": {},
   "outputs": [
    {
     "name": "stdout",
     "output_type": "stream",
     "text": [
      "+----------+----------+\n",
      "|set_id_new|set_id_old|\n",
      "+----------+----------+\n",
      "|         6|         8|\n",
      "|         5|         1|\n",
      "|         5|         6|\n",
      "|         1|         3|\n",
      "|         2|         2|\n",
      "|         2|         4|\n",
      "|         4|         7|\n",
      "+----------+----------+\n",
      "\n"
     ]
    }
   ],
   "source": [
    "new_id_brands_exploded_old_id = new_id_brands.withColumn('set_id_old', explode('old_id_set')).drop('old_id_set','new_brand_sets')\n",
    "new_id_brands_exploded_old_id.show()"
   ]
  },
  {
   "cell_type": "code",
   "execution_count": 76,
   "metadata": {},
   "outputs": [],
   "source": [
    "id_set_num = id_set_num.withColumnRenamed('set_id_old','id')"
   ]
  },
  {
   "cell_type": "code",
   "execution_count": 77,
   "metadata": {},
   "outputs": [
    {
     "name": "stdout",
     "output_type": "stream",
     "text": [
      "+----------+----------+-----+\n",
      "|set_id_new|set_id_old|brand|\n",
      "+----------+----------+-----+\n",
      "|         4|         7|   21|\n",
      "|         4|         7|   22|\n",
      "|         4|         7|   23|\n",
      "|         5|         6|    4|\n",
      "|         5|         6|    5|\n",
      "|         5|         1|    1|\n",
      "|         5|         1|    2|\n",
      "|         5|         1|    6|\n",
      "|         1|         3|   12|\n",
      "|         1|         3|   15|\n",
      "|         1|         3|   17|\n",
      "|         6|         8|   31|\n",
      "|         6|         8|   32|\n",
      "|         6|         8|   33|\n",
      "|         2|         2|   10|\n",
      "|         2|         2|    7|\n",
      "|         2|         2|    8|\n",
      "|         2|         4|    9|\n",
      "+----------+----------+-----+\n",
      "\n"
     ]
    }
   ],
   "source": [
    "old_id_brand_old_id_brand = new_id_brands_exploded_old_id.join(id_set_num, new_id_brands_exploded_old_id.set_id_old == id_set_num.id, 'inner').drop('id').withColumnRenamed('brand_id_string','old_brand_sets')\n",
    "old_id_brand_old_id_brand.show()\n"
   ]
  },
  {
   "cell_type": "code",
   "execution_count": 82,
   "metadata": {},
   "outputs": [
    {
     "name": "stdout",
     "output_type": "stream",
     "text": [
      "+----------+---------------+\n",
      "|set_id_new|  old_id_brands|\n",
      "+----------+---------------+\n",
      "|         6|   [31, 32, 33]|\n",
      "|         5|[1, 2, 5, 4, 6]|\n",
      "|         1|   [17, 12, 15]|\n",
      "|         2|  [8, 9, 10, 7]|\n",
      "|         4|   [23, 21, 22]|\n",
      "+----------+---------------+\n",
      "\n"
     ]
    }
   ],
   "source": [
    "updates_old_set = old_id_brand_old_id_brand.groupBy('set_id_new').agg(collect_set('brand').alias(\"old_id_brands\"))\n",
    "updates_old_set.show()"
   ]
  },
  {
   "cell_type": "code",
   "execution_count": 80,
   "metadata": {},
   "outputs": [
    {
     "name": "stdout",
     "output_type": "stream",
     "text": [
      "+----------------+---+\n",
      "| brand_id_string| id|\n",
      "+----------------+---+\n",
      "|[12, 15, 16, 17]|  1|\n",
      "|   [10, 7, 8, 9]|  2|\n",
      "|    [97, 98, 99]|  3|\n",
      "|        [22, 23]|  4|\n",
      "|          [4, 6]|  5|\n",
      "|    [32, 33, 34]|  6|\n",
      "+----------------+---+\n",
      "\n"
     ]
    }
   ],
   "source": [
    "new_set.show()"
   ]
  },
  {
   "cell_type": "code",
   "execution_count": 86,
   "metadata": {},
   "outputs": [
    {
     "name": "stdout",
     "output_type": "stream",
     "text": [
      "+---------------+----------------+---+\n",
      "|  old_id_brands| brand_id_string| id|\n",
      "+---------------+----------------+---+\n",
      "|   [31, 32, 33]|    [32, 33, 34]|  6|\n",
      "|[1, 2, 5, 4, 6]|          [4, 6]|  5|\n",
      "|   [17, 12, 15]|[12, 15, 16, 17]|  1|\n",
      "|  [8, 9, 10, 7]|   [10, 7, 8, 9]|  2|\n",
      "|   [23, 21, 22]|        [22, 23]|  4|\n",
      "+---------------+----------------+---+\n",
      "\n"
     ]
    }
   ],
   "source": [
    "updated_brand_dets = updates_old_set.join(new_set, updates_old_set.set_id_new == new_set.id, 'inner').drop('set_id_new')\n",
    "updated_brand_dets.show()"
   ]
  },
  {
   "cell_type": "code",
   "execution_count": 98,
   "metadata": {},
   "outputs": [
    {
     "name": "stdout",
     "output_type": "stream",
     "text": [
      "+---+----------------+\n",
      "| id|      brand_sets|\n",
      "+---+----------------+\n",
      "|  6|[32, 33, 34, 31]|\n",
      "|  5| [4, 6, 1, 2, 5]|\n",
      "|  1|[12, 15, 16, 17]|\n",
      "|  2|   [10, 7, 8, 9]|\n",
      "|  4|    [22, 23, 21]|\n",
      "+---+----------------+\n",
      "\n"
     ]
    }
   ],
   "source": [
    "res = updated_brand_dets.withColumn(\"brand_sets\", array_union(col(\"brand_id_string\"), col(\"old_id_brands\"))).drop('old_id_brands','brand_id_string')\n",
    "updated_sets = res\n",
    "updated_sets.show()"
   ]
  },
  {
   "cell_type": "code",
   "execution_count": 89,
   "metadata": {},
   "outputs": [
    {
     "name": "stdout",
     "output_type": "stream",
     "text": [
      "+---+\n",
      "| id|\n",
      "+---+\n",
      "|  6|\n",
      "|  5|\n",
      "|  1|\n",
      "|  2|\n",
      "|  4|\n",
      "+---+\n",
      "\n"
     ]
    }
   ],
   "source": [
    "updated_id_set = res.select('id')\n",
    "updated_id_set.show()"
   ]
  },
  {
   "cell_type": "code",
   "execution_count": null,
   "metadata": {},
   "outputs": [],
   "source": [
    "updated_id_set = res.select('id')\n",
    "updated_id_set.show()"
   ]
  },
  {
   "cell_type": "code",
   "execution_count": 92,
   "metadata": {},
   "outputs": [],
   "source": [
    "all_ids = new_set.select('id')"
   ]
  },
  {
   "cell_type": "code",
   "execution_count": 94,
   "metadata": {},
   "outputs": [
    {
     "name": "stdout",
     "output_type": "stream",
     "text": [
      "+---+\n",
      "| id|\n",
      "+---+\n",
      "|  3|\n",
      "+---+\n",
      "\n"
     ]
    }
   ],
   "source": [
    "new_set_id = all_ids.subtract(updated_id_set)\n",
    "new_set_id.show()"
   ]
  },
  {
   "cell_type": "code",
   "execution_count": 96,
   "metadata": {},
   "outputs": [
    {
     "name": "stdout",
     "output_type": "stream",
     "text": [
      "+---------------+---+\n",
      "|brand_id_string| id|\n",
      "+---------------+---+\n",
      "|   [97, 98, 99]|  3|\n",
      "+---------------+---+\n",
      "\n"
     ]
    }
   ],
   "source": [
    "new_set_id = new_set_id.withColumnRenamed('id', 'new_set_id')\n",
    "new_set_with_id = new_set_id.join(new_set, new_set.id == new_set_id.new_set_id, 'inner').drop('new_set_id')\n",
    "new_set_with_id.show()"
   ]
  },
  {
   "cell_type": "code",
   "execution_count": 99,
   "metadata": {},
   "outputs": [
    {
     "name": "stdout",
     "output_type": "stream",
     "text": [
      "+---------------+---+\n",
      "|brand_id_string| id|\n",
      "+---------------+---+\n",
      "|   [97, 98, 99]|  3|\n",
      "+---------------+---+\n",
      "\n",
      "+---+----------------+\n",
      "| id|      brand_sets|\n",
      "+---+----------------+\n",
      "|  6|[32, 33, 34, 31]|\n",
      "|  5| [4, 6, 1, 2, 5]|\n",
      "|  1|[12, 15, 16, 17]|\n",
      "|  2|   [10, 7, 8, 9]|\n",
      "|  4|    [22, 23, 21]|\n",
      "+---+----------------+\n",
      "\n"
     ]
    }
   ],
   "source": [
    "new_set_with_id.show()\n",
    "updated_sets.show()"
   ]
  },
  {
   "cell_type": "markdown",
   "metadata": {},
   "source": [
    "SET IDENTIFICATION USING GRAPH"
   ]
  },
  {
   "cell_type": "code",
   "execution_count": null,
   "metadata": {},
   "outputs": [],
   "source": []
  },
  {
   "cell_type": "code",
   "execution_count": 39,
   "metadata": {},
   "outputs": [],
   "source": [
    "def open_file(path):\n",
    "    df = spark.read.format('csv').option('header','true').load(path)\n",
    "    df = df.withColumn(\"brand_id_set\", split(col('brand_id_set'), \",\").cast(ArrayType(IntegerType())).alias(\"brand_id_set\"))\n",
    "    print(df.count())\n",
    "    df.show()\n",
    "    return df"
   ]
  },
  {
   "cell_type": "code",
   "execution_count": 34,
   "metadata": {},
   "outputs": [],
   "source": [
    "old_cc_path = '/home/preacher/Bungee/CodeRepo/kaushik_dev/bnt/old_brand_id_set.csv'\n",
    "new_cc_path = '/home/preacher/Bungee/CodeRepo/kaushik_dev/bnt/new_brand_id_set.csv'"
   ]
  },
  {
   "cell_type": "code",
   "execution_count": 48,
   "metadata": {},
   "outputs": [
    {
     "name": "stdout",
     "output_type": "stream",
     "text": [
      "8\n",
      "+----+---------------+\n",
      "|  id|   brand_id_set|\n",
      "+----+---------------+\n",
      "|1000|      [6, 2, 1]|\n",
      "|1001|     [7, 8, 10]|\n",
      "|1002|   [12, 15, 17]|\n",
      "|1003|        [9, 11]|\n",
      "|1004|[100, 101, 102]|\n",
      "|1005|         [4, 5]|\n",
      "|1006|   [21, 22, 23]|\n",
      "|1007|   [31, 32, 33]|\n",
      "+----+---------------+\n",
      "\n",
      "7\n",
      "+----------------+\n",
      "|    brand_id_set|\n",
      "+----------------+\n",
      "| [100, 101, 102]|\n",
      "|    [97, 98, 99]|\n",
      "|   [7, 8, 9, 10]|\n",
      "|[12, 15, 16, 17]|\n",
      "|          [4, 6]|\n",
      "|        [22, 23]|\n",
      "|    [32, 33, 34]|\n",
      "+----------------+\n",
      "\n"
     ]
    }
   ],
   "source": [
    "old_brand_set = open_file(old_cc_path)\n",
    "old_brand_set = old_brand_set.withColumn(\"id\", old_brand_set.id.cast(LongType()))\n",
    "new_brand_set = open_file(new_cc_path)"
   ]
  },
  {
   "cell_type": "code",
   "execution_count": 49,
   "metadata": {},
   "outputs": [
    {
     "data": {
      "text/plain": [
       "1007"
      ]
     },
     "execution_count": 49,
     "metadata": {},
     "output_type": "execute_result"
    }
   ],
   "source": [
    "max_id = get_max_id(old_brand_set)\n",
    "max_id"
   ]
  },
  {
   "cell_type": "code",
   "execution_count": 50,
   "metadata": {},
   "outputs": [],
   "source": [
    "new_id = max_id + 1"
   ]
  },
  {
   "cell_type": "code",
   "execution_count": 51,
   "metadata": {},
   "outputs": [
    {
     "name": "stdout",
     "output_type": "stream",
     "text": [
      "Getting ids for new uuids\n",
      "+----------------+----+\n",
      "|    brand_id_set|  id|\n",
      "+----------------+----+\n",
      "| [100, 101, 102]|1008|\n",
      "|    [97, 98, 99]|1009|\n",
      "|   [7, 8, 9, 10]|1010|\n",
      "|[12, 15, 16, 17]|1011|\n",
      "|          [4, 6]|1012|\n",
      "|        [22, 23]|1013|\n",
      "|    [32, 33, 34]|1014|\n",
      "+----------------+----+\n",
      "\n",
      "root\n",
      " |-- brand_id_set: array (nullable = true)\n",
      " |    |-- element: integer (containsNull = true)\n",
      " |-- id: long (nullable = false)\n",
      "\n"
     ]
    }
   ],
   "source": [
    "new_brand_set = insert_id(new_brand_set, new_id)\n",
    "new_brand_set.show()\n",
    "new_brand_set.printSchema()"
   ]
  },
  {
   "cell_type": "code",
   "execution_count": 52,
   "metadata": {},
   "outputs": [
    {
     "name": "stdout",
     "output_type": "stream",
     "text": [
      "root\n",
      " |-- id: long (nullable = true)\n",
      " |-- brand_id_set: array (nullable = true)\n",
      " |    |-- element: integer (containsNull = true)\n",
      "\n"
     ]
    }
   ],
   "source": [
    "old_brand_set.printSchema()"
   ]
  },
  {
   "cell_type": "code",
   "execution_count": 56,
   "metadata": {},
   "outputs": [],
   "source": [
    "def get_exploded_set(df, prefix):\n",
    "    df = df.select(df.id.alias(prefix+'_id'), explode(df.brand_id_set).alias(prefix+'_brand_id'))\n",
    "    df.show()\n",
    "    return df"
   ]
  },
  {
   "cell_type": "code",
   "execution_count": null,
   "metadata": {},
   "outputs": [],
   "source": [
    "old_id_brand_id = get_exploded_set(old_brand_set, 'old')"
   ]
  },
  {
   "cell_type": "code",
   "execution_count": null,
   "metadata": {},
   "outputs": [],
   "source": [
    "new_id_brand_id = get_exploded_set(new_brand_set, 'new')"
   ]
  },
  {
   "cell_type": "code",
   "execution_count": 59,
   "metadata": {},
   "outputs": [],
   "source": [
    "old_to_new_set = new_id_brand_id.join(old_id_brand_id, new_id_brand_id.new_brand_id == old_id_brand_id.old_brand_id, 'inner')"
   ]
  },
  {
   "cell_type": "code",
   "execution_count": null,
   "metadata": {},
   "outputs": [],
   "source": [
    "old_to_new_set.show()"
   ]
  },
  {
   "cell_type": "code",
   "execution_count": null,
   "metadata": {},
   "outputs": [],
   "source": [
    "directed_edges = old_to_new_set.select(old_to_new_set.new_id, old_to_new_set.old_id).dropDuplicates([\"new_id\",\"old_id\"])\n",
    "directed_edges.show()"
   ]
  },
  {
   "cell_type": "code",
   "execution_count": 82,
   "metadata": {},
   "outputs": [],
   "source": [
    "def get_vertex(df):\n",
    "    id_a = df.select(col(\"new_id\").alias(\"id\"))\n",
    "    id_b = df.select(col(\"old_id\").alias(\"id\"))\n",
    "    vertex = combine_dfs([id_a, id_b]).dropDuplicates(['id'])\n",
    "    return vertex\n"
   ]
  },
  {
   "cell_type": "code",
   "execution_count": null,
   "metadata": {},
   "outputs": [],
   "source": [
    "vertex = get_vertex(directed_edges)\n",
    "vertex.show()"
   ]
  },
  {
   "cell_type": "code",
   "execution_count": 80,
   "metadata": {},
   "outputs": [],
   "source": [
    "def generate_graph_edges(brand_matches):\n",
    "    directed_edge_a_b = brand_matches.select('new_id','old_id')\n",
    "    directed_edge_b_a = brand_matches.select(col('new_id').alias('old_id') ,col('old_id').alias('new_id'))\n",
    "    undirected_edges = combine_dfs([directed_edge_a_b, directed_edge_b_a])\n",
    "    undirected_edges = undirected_edges.dropDuplicates([\"new_id\",\"old_id\"]).withColumnRenamed('new_id', 'src').withColumnRenamed('old_id', 'dst')\n",
    "    return undirected_edges"
   ]
  },
  {
   "cell_type": "code",
   "execution_count": null,
   "metadata": {},
   "outputs": [],
   "source": [
    "edges = generate_graph_edges(directed_edges)\n",
    "edges.show()"
   ]
  },
  {
   "cell_type": "code",
   "execution_count": null,
   "metadata": {},
   "outputs": [],
   "source": []
  },
  {
   "cell_type": "code",
   "execution_count": 83,
   "metadata": {},
   "outputs": [],
   "source": [
    "from graphframes import *"
   ]
  },
  {
   "cell_type": "code",
   "execution_count": 84,
   "metadata": {},
   "outputs": [],
   "source": [
    "graph =  GraphFrame(vertex, edges)"
   ]
  },
  {
   "cell_type": "code",
   "execution_count": null,
   "metadata": {},
   "outputs": [
    {
     "data": {
      "text/plain": [
       "graphframes.graphframe.GraphFrame"
      ]
     },
     "metadata": {},
     "output_type": "display_data"
    }
   ],
   "source": []
  },
  {
   "cell_type": "code",
   "execution_count": 85,
   "metadata": {},
   "outputs": [
    {
     "name": "stderr",
     "output_type": "stream",
     "text": [
      "                                                                                \r"
     ]
    }
   ],
   "source": [
    "sc.setCheckpointDir(\"/home/preacher/Bungee/bnt/checkpoints/\")\n",
    "cc = graph.connectedComponents()"
   ]
  },
  {
   "cell_type": "code",
   "execution_count": null,
   "metadata": {},
   "outputs": [],
   "source": [
    "cc.show()"
   ]
  },
  {
   "cell_type": "code",
   "execution_count": null,
   "metadata": {},
   "outputs": [],
   "source": [
    "old_id_cc = cc.join(old_id_brand_id, cc.id == old_id_brand_id.old_id, 'inner').drop('id')\n",
    "old_id_cc = old_id_cc.withColumnRenamed('old_id','id').withColumnRenamed('old_brand_id','brand_id')\n",
    "old_id_cc.show()\n",
    "new_id_cc = cc.join(new_id_brand_id, cc.id == new_id_brand_id.new_id, 'inner').drop('id')\n",
    "new_id_cc = new_id_cc.withColumnRenamed('new_id','id').withColumnRenamed('new_brand_id','brand_id')\n",
    "new_id_cc.show()"
   ]
  },
  {
   "cell_type": "code",
   "execution_count": 97,
   "metadata": {},
   "outputs": [
    {
     "name": "stdout",
     "output_type": "stream",
     "text": [
      "Combning dfs\n"
     ]
    }
   ],
   "source": [
    "id_cc = combine_dfs([old_id_cc, new_id_cc])"
   ]
  },
  {
   "cell_type": "code",
   "execution_count": 121,
   "metadata": {},
   "outputs": [
    {
     "name": "stdout",
     "output_type": "stream",
     "text": [
      "+---------+----+--------+\n",
      "|component|  id|brand_id|\n",
      "+---------+----+--------+\n",
      "|     1002|1002|      17|\n",
      "|     1002|1002|      15|\n",
      "|     1002|1002|      12|\n",
      "|     1000|1000|       1|\n",
      "|     1000|1000|       2|\n",
      "|     1000|1000|       6|\n",
      "|     1007|1007|      33|\n",
      "|     1007|1007|      32|\n",
      "|     1007|1007|      31|\n",
      "|     1000|1005|       5|\n",
      "|     1000|1005|       4|\n",
      "|     1001|1001|      10|\n",
      "|     1001|1001|       8|\n",
      "|     1001|1001|       7|\n",
      "|     1004|1004|     102|\n",
      "|     1004|1004|     101|\n",
      "|     1004|1004|     100|\n",
      "|     1006|1006|      23|\n",
      "|     1006|1006|      22|\n",
      "|     1006|1006|      21|\n",
      "+---------+----+--------+\n",
      "only showing top 20 rows\n",
      "\n"
     ]
    }
   ],
   "source": [
    "id_cc.show()"
   ]
  },
  {
   "cell_type": "code",
   "execution_count": 103,
   "metadata": {},
   "outputs": [
    {
     "name": "stdout",
     "output_type": "stream",
     "text": [
      "+------------------+-----------------+\n",
      "|           id_sets|     brand_id_set|\n",
      "+------------------+-----------------+\n",
      "|      [1002, 1011]| [15, 12, 16, 17]|\n",
      "|[1000, 1005, 1012]|  [1, 5, 2, 6, 4]|\n",
      "|      [1014, 1007]| [33, 34, 31, 32]|\n",
      "|[1003, 1001, 1010]|[9, 10, 7, 11, 8]|\n",
      "|      [1004, 1008]|  [102, 100, 101]|\n",
      "|      [1006, 1013]|     [21, 22, 23]|\n",
      "+------------------+-----------------+\n",
      "\n"
     ]
    }
   ],
   "source": [
    "merge_set_id = id_cc.groupBy('component').agg(collect_set('id').alias('id_sets'), collect_set('brand_id').alias('brand_id_set')).drop('component')\n",
    "merge_set_id.show()"
   ]
  },
  {
   "cell_type": "code",
   "execution_count": 107,
   "metadata": {},
   "outputs": [
    {
     "name": "stdout",
     "output_type": "stream",
     "text": [
      "+-----------------+----+\n",
      "|     brand_id_set|  id|\n",
      "+-----------------+----+\n",
      "| [15, 12, 16, 17]|1002|\n",
      "|  [1, 5, 2, 6, 4]|1000|\n",
      "| [33, 34, 31, 32]|1007|\n",
      "|[9, 10, 7, 11, 8]|1001|\n",
      "|  [102, 100, 101]|1004|\n",
      "|     [21, 22, 23]|1006|\n",
      "+-----------------+----+\n",
      "\n"
     ]
    }
   ],
   "source": [
    "updated_brand_set = merge_set_id.withColumn('id',array_min(merge_set_id.id_sets)).drop('id_sets')\n",
    "updated_brand_set.show()"
   ]
  },
  {
   "cell_type": "code",
   "execution_count": 119,
   "metadata": {},
   "outputs": [
    {
     "name": "stdout",
     "output_type": "stream",
     "text": [
      "+------+----------------+\n",
      "|old_id|old_brand_id_set|\n",
      "+------+----------------+\n",
      "|  1000|       [6, 2, 1]|\n",
      "|  1001|      [7, 8, 10]|\n",
      "|  1002|    [12, 15, 17]|\n",
      "|  1003|         [9, 11]|\n",
      "|  1004| [100, 101, 102]|\n",
      "|  1005|          [4, 5]|\n",
      "|  1006|    [21, 22, 23]|\n",
      "|  1007|    [31, 32, 33]|\n",
      "+------+----------------+\n",
      "\n"
     ]
    }
   ],
   "source": [
    "old_brand_set = old_brand_set.withColumnRenamed('id', 'old_id').withColumnRenamed('brand_id_set', 'old_brand_id_set')\n",
    "old_brand_set.show()"
   ]
  },
  {
   "cell_type": "code",
   "execution_count": 117,
   "metadata": {},
   "outputs": [
    {
     "name": "stdout",
     "output_type": "stream",
     "text": [
      "+-----------------+----+----------------+\n",
      "|     brand_id_set|  id|old_brand_id_set|\n",
      "+-----------------+----+----------------+\n",
      "| [15, 12, 16, 17]|1002|    [12, 15, 17]|\n",
      "|  [1, 5, 2, 6, 4]|1000|       [6, 2, 1]|\n",
      "| [33, 34, 31, 32]|1007|    [31, 32, 33]|\n",
      "|[9, 10, 7, 11, 8]|1001|      [7, 8, 10]|\n",
      "|  [102, 100, 101]|1004| [100, 101, 102]|\n",
      "|     [21, 22, 23]|1006|    [21, 22, 23]|\n",
      "+-----------------+----+----------------+\n",
      "\n"
     ]
    }
   ],
   "source": [
    "updated_and_old_brands = updated_brand_set.join(old_brand_set, old_brand_set.old_id == updated_brand_set.id, 'inner' ).drop('old_id')\n",
    "updated_and_old_brands.show()"
   ]
  },
  {
   "cell_type": "code",
   "execution_count": 125,
   "metadata": {},
   "outputs": [],
   "source": [
    "updated_set_ids = updated_and_old_brands.select(\"id\",array_except(\"brand_id_set\",\"old_brand_id_set\").alias('updated_brands')).filter(size(col(\"updated_brands\"))>0)"
   ]
  },
  {
   "cell_type": "code",
   "execution_count": null,
   "metadata": {},
   "outputs": [],
   "source": [
    "old_and_updated_ids = id_cc.select(col('id').alias('old_update_ids')).dropDuplicates()\n",
    "old_and_updated_ids.show()"
   ]
  },
  {
   "cell_type": "code",
   "execution_count": 126,
   "metadata": {},
   "outputs": [],
   "source": [
    "new_set_ids = new_brand_set.join(old_and_updated_ids, new_brand_set.id == old_and_updated_ids.old_update_ids, 'leftanti')"
   ]
  },
  {
   "cell_type": "code",
   "execution_count": 127,
   "metadata": {},
   "outputs": [
    {
     "name": "stdout",
     "output_type": "stream",
     "text": [
      "+----+--------------+\n",
      "|  id|updated_brands|\n",
      "+----+--------------+\n",
      "|1002|          [16]|\n",
      "|1000|        [5, 4]|\n",
      "|1007|          [34]|\n",
      "|1001|       [9, 11]|\n",
      "+----+--------------+\n",
      "\n",
      "+------------+----+\n",
      "|brand_id_set|  id|\n",
      "+------------+----+\n",
      "|[97, 98, 99]|1009|\n",
      "+------------+----+\n",
      "\n"
     ]
    },
    {
     "name": "stderr",
     "output_type": "stream",
     "text": [
      "22/12/12 22:10:39 WARN HeartbeatReceiver: Removing executor driver with no recent heartbeats: 555798 ms exceeds timeout 120000 ms\n",
      "22/12/12 22:10:39 WARN SparkContext: Killing executors is not supported by current scheduler.\n"
     ]
    }
   ],
   "source": [
    "updated_set_ids.show()\n",
    "new_set_ids.show()"
   ]
  },
  {
   "cell_type": "code",
   "execution_count": null,
   "metadata": {},
   "outputs": [],
   "source": []
  },
  {
   "cell_type": "code",
   "execution_count": null,
   "metadata": {},
   "outputs": [],
   "source": []
  },
  {
   "cell_type": "code",
   "execution_count": null,
   "metadata": {},
   "outputs": [],
   "source": []
  },
  {
   "cell_type": "code",
   "execution_count": null,
   "metadata": {},
   "outputs": [],
   "source": []
  },
  {
   "cell_type": "code",
   "execution_count": null,
   "metadata": {},
   "outputs": [],
   "source": []
  },
  {
   "cell_type": "code",
   "execution_count": null,
   "metadata": {},
   "outputs": [],
   "source": []
  },
  {
   "cell_type": "code",
   "execution_count": null,
   "metadata": {},
   "outputs": [],
   "source": []
  },
  {
   "cell_type": "code",
   "execution_count": 150,
   "metadata": {},
   "outputs": [],
   "source": [
    "exact_matches ='/home/preacher/Bungee/bnt/data_set/input.csv'\n",
    "input = '/home/preacher/Bungee/bnt/data_set/exact_matches.csv'"
   ]
  },
  {
   "cell_type": "code",
   "execution_count": 151,
   "metadata": {},
   "outputs": [],
   "source": [
    "\n",
    "match_data_warehouse = spark.read.format(\"csv\").option(\"header\",\"true\").load(input)\n",
    "sim_matches_a_b = spark.read.format(\"csv\").option(\"header\",\"true\").load(exact_matches)"
   ]
  },
  {
   "cell_type": "code",
   "execution_count": 175,
   "metadata": {},
   "outputs": [
    {
     "name": "stderr",
     "output_type": "stream",
     "text": [
      "                                                                                \r"
     ]
    },
    {
     "data": {
      "text/plain": [
       "3346933"
      ]
     },
     "execution_count": 175,
     "metadata": {},
     "output_type": "execute_result"
    }
   ],
   "source": [
    "match_data_warehouse.count()"
   ]
  },
  {
   "cell_type": "code",
   "execution_count": null,
   "metadata": {},
   "outputs": [],
   "source": [
    "match_data_warehouse.show()\n",
    "sim_matches_a_b.show()"
   ]
  },
  {
   "cell_type": "code",
   "execution_count": 153,
   "metadata": {},
   "outputs": [
    {
     "name": "stdout",
     "output_type": "stream",
     "text": [
      "Combning dfs\n"
     ]
    }
   ],
   "source": [
    "uuid_a = sim_matches_a_b.select(col('uuid_a').alias('uuid')).dropDuplicates()\n",
    "uuid_b = sim_matches_a_b.select(col('uuid_b').alias('uuid')).dropDuplicates()\n",
    "uuid = combine_dfs([uuid_a, uuid_b]).dropDuplicates()"
   ]
  },
  {
   "cell_type": "code",
   "execution_count": 154,
   "metadata": {},
   "outputs": [
    {
     "name": "stderr",
     "output_type": "stream",
     "text": [
      "                                                                                \r"
     ]
    },
    {
     "data": {
      "text/plain": [
       "669473"
      ]
     },
     "execution_count": 154,
     "metadata": {},
     "output_type": "execute_result"
    }
   ],
   "source": [
    "uuid.count()"
   ]
  },
  {
   "cell_type": "code",
   "execution_count": null,
   "metadata": {},
   "outputs": [],
   "source": [
    "uuid.show()"
   ]
  },
  {
   "cell_type": "code",
   "execution_count": 164,
   "metadata": {},
   "outputs": [],
   "source": [
    "datalake = match_data_warehouse.dropDuplicates(['uuid'])"
   ]
  },
  {
   "cell_type": "code",
   "execution_count": 165,
   "metadata": {},
   "outputs": [],
   "source": [
    "uuid = uuid.withColumnRenamed('uuid','matches_uuid')"
   ]
  },
  {
   "cell_type": "code",
   "execution_count": 166,
   "metadata": {},
   "outputs": [
    {
     "name": "stderr",
     "output_type": "stream",
     "text": [
      "                                                                                \r"
     ]
    },
    {
     "data": {
      "text/plain": [
       "669473"
      ]
     },
     "execution_count": 166,
     "metadata": {},
     "output_type": "execute_result"
    }
   ],
   "source": [
    "uuid.count()"
   ]
  },
  {
   "cell_type": "code",
   "execution_count": 167,
   "metadata": {},
   "outputs": [],
   "source": [
    "similar_uuid = datalake.join(uuid, uuid.matches_uuid == datalake.uuid, 'inner')"
   ]
  },
  {
   "cell_type": "code",
   "execution_count": 168,
   "metadata": {},
   "outputs": [
    {
     "data": {
      "text/plain": [
       "<bound method DataFrame.printSchema of DataFrame[rid: string, uuid: string, upc: string, source_store: string, product_title: string, store_name: string, source_name: string, brand: string, pack_size: string, product_description: string, sku: string, product_url: string, manufacturer_part_number: string, pack_size_alt: string, custom_sku: string, postal_code: string, quantity: string, source_name_display: string, category: string, subcategory: string, sub_subcategory: string, dimension: string, shipping_weight: string, uom_alt: string, size_alt: string, uom: string, size: string, image_url: string, effective_price: string, parent_sku: string, store_name_display: string, product_segment: string, capture_date: string, sku_uuid: string, domain: string, year: string, month: string, day: string, matches_uuid: string]>"
      ]
     },
     "execution_count": 168,
     "metadata": {},
     "output_type": "execute_result"
    }
   ],
   "source": [
    "similar_uuid.printSchema"
   ]
  },
  {
   "cell_type": "code",
   "execution_count": 171,
   "metadata": {},
   "outputs": [],
   "source": [
    "similar_uuid= similar_uuid.drop('matches_uuid')"
   ]
  },
  {
   "cell_type": "code",
   "execution_count": null,
   "metadata": {},
   "outputs": [],
   "source": [
    "similar_uuid.show()"
   ]
  },
  {
   "cell_type": "code",
   "execution_count": 176,
   "metadata": {},
   "outputs": [
    {
     "name": "stderr",
     "output_type": "stream",
     "text": [
      "                                                                                \r"
     ]
    }
   ],
   "source": [
    "similar_uuid.write.mode(\"overwrite\").option(\"header\",True).csv('/home/preacher/Bungee/bnt/data_set/bungeedatalake/input_data')"
   ]
  },
  {
   "cell_type": "code",
   "execution_count": 174,
   "metadata": {},
   "outputs": [
    {
     "name": "stderr",
     "output_type": "stream",
     "text": [
      "                                                                                \r"
     ]
    },
    {
     "data": {
      "text/plain": [
       "379774"
      ]
     },
     "execution_count": 174,
     "metadata": {},
     "output_type": "execute_result"
    }
   ],
   "source": [
    "similar_uuid.count()"
   ]
  },
  {
   "cell_type": "code",
   "execution_count": 177,
   "metadata": {},
   "outputs": [],
   "source": [
    "similar_uuid_only = similar_uuid.select('uuid')"
   ]
  },
  {
   "cell_type": "code",
   "execution_count": 178,
   "metadata": {},
   "outputs": [],
   "source": [
    "sim_matches_a = sim_matches_a_b.join(similar_uuid_only, similar_uuid_only.uuid==sim_matches_a_b.uuid_a, 'inner').drop('uuid')"
   ]
  },
  {
   "cell_type": "code",
   "execution_count": 179,
   "metadata": {},
   "outputs": [
    {
     "name": "stderr",
     "output_type": "stream",
     "text": [
      "                                                                                \r"
     ]
    },
    {
     "data": {
      "text/plain": [
       "1260211"
      ]
     },
     "execution_count": 179,
     "metadata": {},
     "output_type": "execute_result"
    }
   ],
   "source": [
    "sim_matches_a.count()"
   ]
  },
  {
   "cell_type": "code",
   "execution_count": 180,
   "metadata": {},
   "outputs": [],
   "source": [
    "sim_matches_a_b = sim_matches_a.join(similar_uuid_only, similar_uuid_only.uuid==sim_matches_a.uuid_b, 'inner').drop('uuid')"
   ]
  },
  {
   "cell_type": "code",
   "execution_count": 181,
   "metadata": {},
   "outputs": [
    {
     "name": "stderr",
     "output_type": "stream",
     "text": [
      "                                                                                \r"
     ]
    },
    {
     "data": {
      "text/plain": [
       "912456"
      ]
     },
     "execution_count": 181,
     "metadata": {},
     "output_type": "execute_result"
    }
   ],
   "source": [
    "sim_matches_a_b.count()"
   ]
  },
  {
   "cell_type": "code",
   "execution_count": 182,
   "metadata": {},
   "outputs": [
    {
     "name": "stderr",
     "output_type": "stream",
     "text": [
      "[Stage 1387:=================================================>    (12 + 1) / 13]\r"
     ]
    },
    {
     "name": "stdout",
     "output_type": "stream",
     "text": [
      "+--------------------+--------------------+--------------------+--------------------+----------+-----------------+-----------------+---------------+------------+-------------+---------------+----+-----+---+\n",
      "|              uuid_a|              uuid_b|          sku_uuid_a|          sku_uuid_b|     score|base_source_store|comp_source_store|match_timestamp|match_source|         type|        segment|year|month|day|\n",
      "+--------------------+--------------------+--------------------+--------------------+----------+-----------------+-----------------+---------------+------------+-------------+---------------+----+-----+---+\n",
      "|001034383213<>386...|00010343832138<>2...|3861385<>walmart<...|24359469<>staples...|       1.0| walmart<>walmart| staples<>staples|     1665964800|         upc|  exact_match|office_supplies|2022|   11| 01|\n",
      "|11974320827<>1670...|00011974320827<>b...|1670108<>staples<...|b00vbzwuyc<>amazo...|     100.0| staples<>staples|   amazon<>amazon|     1655955182|      manual|similar_match|office_supplies|2022|   11| 01|\n",
      "|11974320827<>1670...|00011974320827<>b...|1670108<>staples<...|b00vbzwuyc<>amazo...|       1.0| staples<>staples|   amazon<>amazon|     1659312000|         upc|  exact_match|office_supplies|2022|   11| 01|\n",
      "|012502635987<>392...|00012502635987<>b...|39239222<>walmart...|b00khve28s<>amazo...|       1.0| walmart<>walmart|   amazon<>amazon|     1663545600|         upc|  exact_match|office_supplies|2022|   11| 01|\n",
      "|12502635987<>1682...|00012502635987<>b...|1682998<>staples<...|b00khve28s<>amazo...|       1.0| staples<>staples|   amazon<>amazon|     1658102400|         upc|  exact_match|office_supplies|2022|   11| 01|\n",
      "|013803078077<>563...|00013803078077<>3...|5637150555<>wbmas...|372884<>staples<>...|       1.0| wbmason<>wbmason| staples<>staples|     1660608000|         upc|  exact_match|office_supplies|2022|   11| 01|\n",
      "|013803078077<>149...|00013803078077<>3...|14917717<>walmart...|372884<>staples<>...|     100.0| walmart<>walmart| staples<>staples|     1657872512|      manual|  exact_match|office_supplies|2022|   11| 01|\n",
      "|sku_b000w7r13a<>b...|00013803078077<>3...|b000w7r13a<>amazo...|372884<>staples<>...|     100.0|   amazon<>amazon| staples<>staples|     1655955337|      manual|similar_match|office_supplies|2022|   11| 01|\n",
      "|13803112986<>1683...|000138031129<>298...|1683090<>staples<...|29889041<>walmart...|  0.671875| staples<>staples| walmart<>walmart|     1658134762|    fastlane|  exact_match|office_supplies|2022|   11| 01|\n",
      "|sku_b0028n6zug<>b...|000138031129<>298...|b0028n6zug<>amazo...|29889041<>walmart...|       1.0|   amazon<>amazon| walmart<>walmart|     1665360000|  transitive|  exact_match|office_supplies|2022|   11| 01|\n",
      "|013803112986<>783...|000138031129<>298...|78399496<>target<...|29889041<>walmart...|       1.0|   target<>target| walmart<>walmart|     1661731200|  transitive|  exact_match|office_supplies|2022|   11| 01|\n",
      "|718103296441<>243...|00017183906913<>b...|24300447<>staples...|b005tlds3q<>amazo...|0.98828125| staples<>staples|   amazon<>amazon|     1664894563|    fastlane|similar_match|office_supplies|2022|   11| 01|\n",
      "|21000016419<>6998...|00021000016419<>b...|699804<>staples<>...|b018hah04i<>amazo...|       1.0| staples<>staples|   amazon<>amazon|     1666051200|         upc|  exact_match|office_supplies|2022|   11| 01|\n",
      "|021196036093<>303...|00021196036093<>b...|30382259<>walmart...|b0042supa6<>amazo...|       1.0| walmart<>walmart|   amazon<>amazon|     1666051200|         upc|  exact_match|office_supplies|2022|   11| 01|\n",
      "|21196036093<>1394...|00021196036093<>b...|139451<>staples<>...|b0042supa6<>amazo...|       1.0| staples<>staples|   amazon<>amazon|     1666051200|         upc|  exact_match|office_supplies|2022|   11| 01|\n",
      "|21196036093<>1394...|00021196036093<>b...|139451<>staples<>...|b0042supa6<>amazo...|       1.0| staples<>staples|   amazon<>amazon|     1664371920|    fastlane|  exact_match|office_supplies|2022|   11| 01|\n",
      "|021200010439<>204...|00021200010439<>b...|20449359<>walmart...|b004ipz8sc<>amazo...|       1.0| walmart<>walmart|   amazon<>amazon|     1662940800|         upc|  exact_match|office_supplies|2022|   11| 01|\n",
      "|021200010439<>114...|00021200010439<>b...|1143256<>staples<...|b004ipz8sc<>amazo...|       1.0| staples<>staples|   amazon<>amazon|     1663545600|         upc|  exact_match|office_supplies|2022|   11| 01|\n",
      "|021200471827<>mmm...|00021200471827<>g...|mmm680ih2<>wbmaso...|g5980849<>zoro<>zoro|       1.0| wbmason<>wbmason|       zoro<>zoro|     1662336000|         upc|  exact_match|office_supplies|2022|   11| 01|\n",
      "|021200471827<>151...|00021200471827<>g...|15105640<>walmart...|g5980849<>zoro<>zoro|       1.0| walmart<>walmart|       zoro<>zoro|     1662336000|         upc|  exact_match|office_supplies|2022|   11| 01|\n",
      "+--------------------+--------------------+--------------------+--------------------+----------+-----------------+-----------------+---------------+------------+-------------+---------------+----+-----+---+\n",
      "only showing top 20 rows\n",
      "\n"
     ]
    },
    {
     "name": "stderr",
     "output_type": "stream",
     "text": [
      "                                                                                \r"
     ]
    }
   ],
   "source": [
    "sim_matches_a_b.show()"
   ]
  },
  {
   "cell_type": "code",
   "execution_count": 183,
   "metadata": {},
   "outputs": [
    {
     "name": "stderr",
     "output_type": "stream",
     "text": [
      "                                                                                \r"
     ]
    }
   ],
   "source": [
    "sim_matches_a_b.write.mode(\"overwrite\").option(\"header\",True).csv('/home/preacher/Bungee/bnt/data_set/match_data_warehouse/exact_matches')"
   ]
  },
  {
   "cell_type": "code",
   "execution_count": 116,
   "metadata": {},
   "outputs": [
    {
     "data": {
      "text/plain": [
       "DataFrame[uuid_a: string, uuid_b: string, sku_uuid_a: string, sku_uuid_b: string, score: string, base_source_store: string, comp_source_store: string, match_timestamp: string, match_source: string, type: string, segment: string, year: string, month: string, day: string]"
      ]
     },
     "execution_count": 116,
     "metadata": {},
     "output_type": "execute_result"
    }
   ],
   "source": [
    "sim_matches_a_b"
   ]
  },
  {
   "cell_type": "code",
   "execution_count": null,
   "metadata": {},
   "outputs": [],
   "source": []
  },
  {
   "cell_type": "code",
   "execution_count": null,
   "metadata": {},
   "outputs": [],
   "source": []
  },
  {
   "cell_type": "code",
   "execution_count": null,
   "metadata": {},
   "outputs": [],
   "source": []
  },
  {
   "cell_type": "code",
   "execution_count": null,
   "metadata": {},
   "outputs": [],
   "source": []
  },
  {
   "cell_type": "code",
   "execution_count": null,
   "metadata": {},
   "outputs": [],
   "source": []
  },
  {
   "cell_type": "code",
   "execution_count": null,
   "metadata": {},
   "outputs": [],
   "source": []
  },
  {
   "cell_type": "code",
   "execution_count": null,
   "metadata": {},
   "outputs": [],
   "source": []
  },
  {
   "cell_type": "code",
   "execution_count": 10,
   "metadata": {},
   "outputs": [
    {
     "name": "stdout",
     "output_type": "stream",
     "text": [
      "root\n",
      " |-- uuid: string (nullable = true)\n",
      " |-- brand: string (nullable = true)\n",
      " |-- source_store: string (nullable = true)\n",
      "\n",
      "1228847\n"
     ]
    }
   ],
   "source": [
    "bungeedatalake = spark.read.format('csv').option('header','true').load('/home/preacher/Bungee/bnt/data_set/saas_team/brand_info.csv')\n",
    "bungeedatalake.printSchema()\n",
    "print(bungeedatalake.count())"
   ]
  },
  {
   "cell_type": "code",
   "execution_count": 11,
   "metadata": {},
   "outputs": [
    {
     "name": "stdout",
     "output_type": "stream",
     "text": [
      "root\n",
      " |-- uuid_a: string (nullable = true)\n",
      " |-- uuid_b: string (nullable = true)\n",
      " |-- sku_uuid_a: string (nullable = true)\n",
      " |-- sku_uuid_b: string (nullable = true)\n",
      " |-- score: string (nullable = true)\n",
      " |-- base_source_store: string (nullable = true)\n",
      " |-- comp_source_store: string (nullable = true)\n",
      " |-- match_timestamp: string (nullable = true)\n",
      " |-- match_source: string (nullable = true)\n",
      " |-- type: string (nullable = true)\n",
      " |-- segment: string (nullable = true)\n",
      " |-- year: string (nullable = true)\n",
      " |-- month: string (nullable = true)\n",
      " |-- day: string (nullable = true)\n",
      "\n",
      "246866\n"
     ]
    }
   ],
   "source": [
    "exact_matches = spark.read.format('csv').option('header','true').load('/home/preacher/Bungee/bnt/data_set/saas_team/exact_matches.csv')\n",
    "exact_matches.printSchema()\n",
    "print(exact_matches.count())"
   ]
  },
  {
   "cell_type": "code",
   "execution_count": 34,
   "metadata": {},
   "outputs": [],
   "source": [
    "uuids = bungeedatalake.select('uuid')"
   ]
  },
  {
   "cell_type": "code",
   "execution_count": 43,
   "metadata": {},
   "outputs": [
    {
     "data": {
      "text/plain": [
       "1228847"
      ]
     },
     "execution_count": 43,
     "metadata": {},
     "output_type": "execute_result"
    }
   ],
   "source": [
    "uuids.count()"
   ]
  },
  {
   "cell_type": "code",
   "execution_count": 51,
   "metadata": {},
   "outputs": [
    {
     "data": {
      "text/plain": [
       "116927"
      ]
     },
     "execution_count": 51,
     "metadata": {},
     "output_type": "execute_result"
    }
   ],
   "source": [
    "bungeedatalake = bungeedatalake.dropDuplicates(['uuid'])\n",
    "bungeedatalake.count()"
   ]
  },
  {
   "cell_type": "code",
   "execution_count": 46,
   "metadata": {},
   "outputs": [
    {
     "data": {
      "text/plain": [
       "246866"
      ]
     },
     "execution_count": 46,
     "metadata": {},
     "output_type": "execute_result"
    }
   ],
   "source": [
    "exact_matches.count()"
   ]
  },
  {
   "cell_type": "code",
   "execution_count": 48,
   "metadata": {},
   "outputs": [
    {
     "name": "stdout",
     "output_type": "stream",
     "text": [
      "root\n",
      " |-- uuid_a: string (nullable = true)\n",
      " |-- uuid_b: string (nullable = true)\n",
      " |-- sku_uuid_a: string (nullable = true)\n",
      " |-- sku_uuid_b: string (nullable = true)\n",
      " |-- score: string (nullable = true)\n",
      " |-- base_source_store: string (nullable = true)\n",
      " |-- comp_source_store: string (nullable = true)\n",
      " |-- match_timestamp: string (nullable = true)\n",
      " |-- match_source: string (nullable = true)\n",
      " |-- type: string (nullable = true)\n",
      " |-- segment: string (nullable = true)\n",
      " |-- year: string (nullable = true)\n",
      " |-- month: string (nullable = true)\n",
      " |-- day: string (nullable = true)\n",
      "\n",
      "146270\n"
     ]
    }
   ],
   "source": [
    "uuid_a_match = exact_matches.join(uuids, exact_matches.uuid_a == uuids.uuid, 'inner').drop('uuid')\n",
    "uuid_a_match.printSchema()\n",
    "print(uuid_a_match.count())"
   ]
  },
  {
   "cell_type": "code",
   "execution_count": 37,
   "metadata": {},
   "outputs": [
    {
     "name": "stdout",
     "output_type": "stream",
     "text": [
      "root\n",
      " |-- uuid: string (nullable = true)\n",
      "\n"
     ]
    }
   ],
   "source": [
    "uuids.printSchema()"
   ]
  },
  {
   "cell_type": "code",
   "execution_count": 49,
   "metadata": {},
   "outputs": [
    {
     "name": "stdout",
     "output_type": "stream",
     "text": [
      "root\n",
      " |-- uuid_a: string (nullable = true)\n",
      " |-- uuid_b: string (nullable = true)\n",
      " |-- sku_uuid_a: string (nullable = true)\n",
      " |-- sku_uuid_b: string (nullable = true)\n",
      " |-- score: string (nullable = true)\n",
      " |-- base_source_store: string (nullable = true)\n",
      " |-- comp_source_store: string (nullable = true)\n",
      " |-- match_timestamp: string (nullable = true)\n",
      " |-- match_source: string (nullable = true)\n",
      " |-- type: string (nullable = true)\n",
      " |-- segment: string (nullable = true)\n",
      " |-- year: string (nullable = true)\n",
      " |-- month: string (nullable = true)\n",
      " |-- day: string (nullable = true)\n",
      "\n"
     ]
    },
    {
     "name": "stderr",
     "output_type": "stream",
     "text": [
      "                                                                                \r"
     ]
    },
    {
     "name": "stdout",
     "output_type": "stream",
     "text": [
      "83683\n"
     ]
    }
   ],
   "source": [
    "uuid_a_b_match = uuid_a_match.join(uuids, uuid_a_match.uuid_b == uuids.uuid, 'inner').drop('uuid')\n",
    "uuid_a_b_match.printSchema()\n",
    "print(uuid_a_b_match.count())"
   ]
  },
  {
   "cell_type": "code",
   "execution_count": 50,
   "metadata": {},
   "outputs": [
    {
     "name": "stderr",
     "output_type": "stream",
     "text": [
      "[Stage 170:====>                                                  (1 + 11) / 12]\r"
     ]
    },
    {
     "name": "stdout",
     "output_type": "stream",
     "text": [
      "+--------------------+--------------------+--------------------+--------------------+-----+--------------------+-----------------+---------------+------------+-----------+-------+----+-----+---+\n",
      "|              uuid_a|              uuid_b|          sku_uuid_a|          sku_uuid_b|score|   base_source_store|comp_source_store|match_timestamp|match_source|       type|segment|year|month|day|\n",
      "+--------------------+--------------------+--------------------+--------------------+-----+--------------------+-----------------+---------------+------------+-----------+-------+----+-----+---+\n",
      "|818271010969<>344...|000000152956<>152...|3449348<>petco<>p...|152956<>chewy<>chewy|100.0|        petco<>petco|     chewy<>chewy|     1636987327|      manual|exact_match|   pets|2022|   12| 13|\n",
      "|800443366110<>300...|000001192247<>119...|3005632<>petco<>p...|119224<>chewy<>chewy|100.0|        petco<>petco|     chewy<>chewy|     1610344020|      manual|not_a_match|   pets|2022|   12| 13|\n",
      "|sku_603375880<>60...|000001192704<>119...|603375880<>walmar...|119270<>chewy<>chewy|100.0|    walmart<>walmart|     chewy<>chewy|     1609228800|      manual|not_a_match|   pets|2022|   12| 13|\n",
      "|sku_11771<>11771<...|000002759067<>111...|11771<>petmeds<>p...|111075<>chewy<>chewy|100.0|    petmeds<>petmeds|     chewy<>chewy|     1610344020|      manual|not_a_match|   pets|2022|   12| 13|\n",
      "|sku_730010<>73001...|000002759067<>111...|730010<>entirelyp...|111075<>chewy<>chewy|100.0|entirelypets<>ent...|     chewy<>chewy|     1610344020|      manual|not_a_match|   pets|2022|   12| 13|\n",
      "|sku_50452-3<>5045...|000002759067<>111...|50452-3<>walmartp...|111075<>chewy<>chewy|100.0|walmartpetrx<>wal...|     chewy<>chewy|     1629261193|      manual|exact_match|   pets|2022|   12| 13|\n",
      "|087219034750<>302...|000005273343<>146...|3022694<>petco<>p...|146241<>chewy<>chewy|92.95|        petco<>petco|     chewy<>chewy|     1600427554|      manual|not_a_match|   pets|2022|   12| 13|\n",
      "|sku_36442<>36442<...|000005273343<>146...|36442<>petflow<>p...|146241<>chewy<>chewy|100.0|    petflow<>petflow|     chewy<>chewy|     1666266365|      manual|exact_match|   pets|2022|   12| 13|\n",
      "|sku_36442<>36442<...|000005273343<>146...|36442<>petflow<>p...|146241<>chewy<>chewy|100.0|    petflow<>petflow|     chewy<>chewy|     1666183322|      manual|not_a_match|   pets|2022|   12| 13|\n",
      "|667854102283<>297...|000005274389<>146...|2977051<>petco<>p...|146662<>chewy<>chewy|100.0|        petco<>petco|     chewy<>chewy|     1610344020|      manual|not_a_match|   pets|2022|   12| 13|\n",
      "|800443529867<>344...|000005274415<>146...|3442736<>petco<>p...|146645<>chewy<>chewy|100.0|        petco<>petco|     chewy<>chewy|     1660161444|      manual|not_a_match|   pets|2022|   12| 13|\n",
      "|sku_doxytab50<>do...|000005274415<>146...|doxytab50<>califo...|146645<>chewy<>chewy|100.0|californiapetphar...|     chewy<>chewy|     1578700800|      manual|not_a_match|   pets|2022|   12| 13|\n",
      "|sku_2974407<>2974...|000005274415<>146...|2974407<>petco<>p...|146645<>chewy<>chewy|100.0|        petco<>petco|     chewy<>chewy|     1610344020|      manual|not_a_match|   pets|2022|   12| 13|\n",
      "|sku_108131<>10813...|000005274422<>146...|108131<>petmeds<>...|146414<>chewy<>chewy|100.0|    petmeds<>petmeds|     chewy<>chewy|     1610344020|      manual|not_a_match|   pets|2022|   12| 13|\n",
      "|sku_met00<>met00<...|000005274440<>146...|met00<>allivet<>a...|146397<>chewy<>chewy|100.0|    allivet<>allivet|     chewy<>chewy|     1593736102|      manual|not_a_match|   pets|2022|   12| 13|\n",
      "|012313601416<>297...|000005274440<>146...|2977085<>petco<>p...|146397<>chewy<>chewy|100.0|        petco<>petco|     chewy<>chewy|     1649926886|      manual|exact_match|   pets|2022|   12| 13|\n",
      "|sku_2976699<>2976...|000005274516<>146...|2976699<>petco<>p...|146721<>chewy<>chewy|100.0|        petco<>petco|     chewy<>chewy|     1610344020|      manual|not_a_match|   pets|2022|   12| 13|\n",
      "|3167140831172<>53...|000005274516<>146...|5317136<>petsmart...|146721<>chewy<>chewy|100.0|  petsmart<>petsmart|     chewy<>chewy|     1633930058|      manual|exact_match|   pets|2022|   12| 13|\n",
      "|sku_2974386<>2974...|000005274576<>146...|2974386<>petco<>p...|146625<>chewy<>chewy|100.0|        petco<>petco|     chewy<>chewy|     1610344020|      manual|not_a_match|   pets|2022|   12| 13|\n",
      "|800443529386<>344...|000005274677<>146...|3443253<>petco<>p...|146891<>chewy<>chewy|100.0|        petco<>petco|     chewy<>chewy|     1650627037|      manual|not_a_match|   pets|2022|   12| 13|\n",
      "+--------------------+--------------------+--------------------+--------------------+-----+--------------------+-----------------+---------------+------------+-----------+-------+----+-----+---+\n",
      "only showing top 20 rows\n",
      "\n"
     ]
    },
    {
     "name": "stderr",
     "output_type": "stream",
     "text": [
      "                                                                                \r"
     ]
    }
   ],
   "source": [
    "uuid_a_b_match.show()"
   ]
  },
  {
   "cell_type": "code",
   "execution_count": 17,
   "metadata": {},
   "outputs": [],
   "source": [
    "def combine_dfs(df_list):\n",
    "    print(\"Combning dfs\")\n",
    "    combined_df = reduce(lambda df1, df2: df1.union(df2.select(df1.columns)), df_list)\n",
    "    print(\"Combined df size = {}\".format(combined_df.count()))\n",
    "    return combined_df"
   ]
  },
  {
   "cell_type": "code",
   "execution_count": 22,
   "metadata": {},
   "outputs": [
    {
     "data": {
      "text/plain": [
       "1544672"
      ]
     },
     "execution_count": 22,
     "metadata": {},
     "output_type": "execute_result"
    }
   ],
   "source": [
    "bungeedatalake.join(uuid_a, bungeedatalake.uuid == uuid_a.uuid, 'inner').count()"
   ]
  },
  {
   "cell_type": "code",
   "execution_count": 23,
   "metadata": {},
   "outputs": [
    {
     "data": {
      "text/plain": [
       "1546759"
      ]
     },
     "execution_count": 23,
     "metadata": {},
     "output_type": "execute_result"
    }
   ],
   "source": [
    "bungeedatalake.join(uuid_b, bungeedatalake.uuid == uuid_b.uuid, 'inner').count()"
   ]
  },
  {
   "cell_type": "code",
   "execution_count": 25,
   "metadata": {},
   "outputs": [
    {
     "ename": "SyntaxError",
     "evalue": "invalid syntax (565249398.py, line 1)",
     "output_type": "error",
     "traceback": [
      "\u001b[0;36m  Input \u001b[0;32mIn [25]\u001b[0;36m\u001b[0m\n\u001b[0;31m    exact_matches.join(bungeedatalake).filter((exact_matches.uuid_a = bungeedatalake.uuid) & (exact_matches.uuid_b = bungeedatalake.uuid)).show()\u001b[0m\n\u001b[0m                                                                    ^\u001b[0m\n\u001b[0;31mSyntaxError\u001b[0m\u001b[0;31m:\u001b[0m invalid syntax\n"
     ]
    }
   ],
   "source": [
    "exact_matches.join(bungeedatalake).filter((exact_matches.uuid_a == bungeedatalake.uuid) & (exact_matches.uuid_b == bungeedatalake.uuid)).show()\n"
   ]
  },
  {
   "cell_type": "code",
   "execution_count": 53,
   "metadata": {},
   "outputs": [
    {
     "name": "stderr",
     "output_type": "stream",
     "text": [
      "[Stage 190:>                                                      (0 + 12) / 12]\r"
     ]
    },
    {
     "name": "stdout",
     "output_type": "stream",
     "text": [
      "+--------------------+--------------+------------+\n",
      "|                uuid|         brand|source_store|\n",
      "+--------------------+--------------+------------+\n",
      "|000000152941<>152...|        GoTags| chewy_chewy|\n",
      "|000000152956<>152...|        GoTags| chewy_chewy|\n",
      "|000001192247<>119...|        Frisco| chewy_chewy|\n",
      "|000001192704<>119...|        Frisco| chewy_chewy|\n",
      "|000002759067<>111...|        OraVet| chewy_chewy|\n",
      "|000005273343<>146...|    Revolution| chewy_chewy|\n",
      "|000005274389<>146...|       Epizyme| chewy_chewy|\n",
      "|000005274413<>146...|   Methimazole| chewy_chewy|\n",
      "|000005274415<>146...|   Doxycycline| chewy_chewy|\n",
      "|000005274422<>146...|      Previcox| chewy_chewy|\n",
      "|000005274440<>146...|       Metacam| chewy_chewy|\n",
      "|000005274464<>146...|      Clavamox| chewy_chewy|\n",
      "|000005274516<>146...|   Hydroxyzine| chewy_chewy|\n",
      "|000005274557<>146...|     Diltiazem| chewy_chewy|\n",
      "|000005274574<>146...|  Acepromazine| chewy_chewy|\n",
      "|000005274576<>146...|       Digoxin| chewy_chewy|\n",
      "|000005274672<>146...|     Simparica| chewy_chewy|\n",
      "|000005274677<>146...|Spironolactone| chewy_chewy|\n",
      "|000005274701<>146...|   Methimazole| chewy_chewy|\n",
      "|000005274771<>146...|         Albon| chewy_chewy|\n",
      "+--------------------+--------------+------------+\n",
      "only showing top 20 rows\n",
      "\n"
     ]
    },
    {
     "name": "stderr",
     "output_type": "stream",
     "text": [
      "                                                                                \r"
     ]
    }
   ],
   "source": [
    "bungeedatalake.show()"
   ]
  },
  {
   "cell_type": "code",
   "execution_count": 54,
   "metadata": {},
   "outputs": [
    {
     "name": "stderr",
     "output_type": "stream",
     "text": [
      "                                                                                \r"
     ]
    }
   ],
   "source": [
    "bungeedatalake.write.mode(\"overwrite\").option(\"header\",True).csv('/home/preacher/Bungee/bnt/data_set/saas_team/brand_info')"
   ]
  },
  {
   "cell_type": "code",
   "execution_count": 57,
   "metadata": {},
   "outputs": [
    {
     "name": "stderr",
     "output_type": "stream",
     "text": [
      "                                                                                \r"
     ]
    }
   ],
   "source": [
    "uuid_a_b_match.write.mode(\"overwrite\").option(\"header\",True).csv('/home/preacher/Bungee/bnt/data_set/saas_team/exact_matches')"
   ]
  }
 ],
 "metadata": {
  "kernelspec": {
   "display_name": "Python 3",
   "language": "python",
   "name": "python3"
  },
  "language_info": {
   "codemirror_mode": {
    "name": "ipython",
    "version": 3
   },
   "file_extension": ".py",
   "mimetype": "text/x-python",
   "name": "python",
   "nbconvert_exporter": "python",
   "pygments_lexer": "ipython3",
   "version": "3.10.6 (main, Nov 14 2022, 16:10:14) [GCC 11.3.0]"
  },
  "orig_nbformat": 4,
  "vscode": {
   "interpreter": {
    "hash": "916dbcbb3f70747c44a77c7bcd40155683ae19c65e1c03b4aa3499c5328201f1"
   }
  }
 },
 "nbformat": 4,
 "nbformat_minor": 2
}
