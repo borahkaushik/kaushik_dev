{
 "cells": [
  {
   "cell_type": "code",
   "execution_count": 1,
   "metadata": {},
   "outputs": [],
   "source": [
    "import sys\n",
    "sys.path.insert(0, os.path.abspath('../'))\n",
    "import os\n",
    "import pyspark as spark\n",
    "from pyspark.sql import SparkSession\n",
    "from pyspark.sql import SQLContext\n",
    "import pyspark.sql.functions as f\n",
    "from pyspark.sql import DataFrame, Row\n",
    "from functools import reduce\n",
    "import functools\n",
    "from pyspark.sql.types import StructType, StructField, StringType, LongType, ArrayType, IntegerType, MapType\n",
    "from pyspark.sql.functions import *"
   ]
  },
  {
   "cell_type": "code",
   "execution_count": 16,
   "metadata": {},
   "outputs": [
    {
     "name": "stdout",
     "output_type": "stream",
     "text": [
      "{'year': '2023', 'month': '01', 'day': '05', 'time': '18:13:55'}\n"
     ]
    }
   ],
   "source": [
    "from datetime import datetime\n",
    "\n",
    "def get_current_datetime_map():\n",
    "    now = datetime.now()\n",
    "    now.strftime(\"%Y-%m-%d_%H:%M:%S\")\n",
    "    date_time = {}\n",
    "    date_time['year'] = now.strftime(\"%Y\")\n",
    "    date_time['month'] = now.strftime(\"%m\")\n",
    "    date_time['day'] = now.strftime(\"%d\")\n",
    "    date_time['time'] = now.strftime(\"%H:%M:%S\")\n",
    "    return date_time\n",
    "\n",
    "print(get_current_datetime_map())"
   ]
  },
  {
   "cell_type": "code",
   "execution_count": 17,
   "metadata": {},
   "outputs": [
    {
     "name": "stdout",
     "output_type": "stream",
     "text": [
      "pets\n"
     ]
    }
   ],
   "source": [
    "events = {'domain':'pets'}\n",
    "if 'domain' in events:\n",
    "    print(events['domain'])"
   ]
  },
  {
   "cell_type": "code",
   "execution_count": 2,
   "metadata": {},
   "outputs": [],
   "source": [
    "from graphframes import *\n",
    "from difflib import get_close_matches"
   ]
  },
  {
   "cell_type": "code",
   "execution_count": 3,
   "metadata": {},
   "outputs": [
    {
     "name": "stderr",
     "output_type": "stream",
     "text": [
      "22/12/29 15:04:56 WARN Utils: Your hostname, preacher resolves to a loopback address: 127.0.1.1; using 192.168.0.101 instead (on interface enp4s0)\n",
      "22/12/29 15:04:56 WARN Utils: Set SPARK_LOCAL_IP if you need to bind to another address\n",
      "WARNING: An illegal reflective access operation has occurred\n",
      "WARNING: Illegal reflective access by org.apache.spark.unsafe.Platform (file:/home/preacher/anaconda3/envs/deltarun/lib/python3.9/site-packages/pyspark/jars/spark-unsafe_2.12-3.2.1.jar) to constructor java.nio.DirectByteBuffer(long,int)\n",
      "WARNING: Please consider reporting this to the maintainers of org.apache.spark.unsafe.Platform\n",
      "WARNING: Use --illegal-access=warn to enable warnings of further illegal reflective access operations\n",
      "WARNING: All illegal access operations will be denied in a future release\n",
      "Using Spark's default log4j profile: org/apache/spark/log4j-defaults.properties\n",
      "Setting default log level to \"WARN\".\n",
      "To adjust logging level use sc.setLogLevel(newLevel). For SparkR, use setLogLevel(newLevel).\n",
      "22/12/29 15:04:57 WARN NativeCodeLoader: Unable to load native-hadoop library for your platform... using builtin-java classes where applicable\n",
      "/home/preacher/anaconda3/envs/deltarun/lib/python3.9/site-packages/pyspark/sql/context.py:77: FutureWarning: Deprecated in 3.0.0. Use SparkSession.builder.getOrCreate() instead.\n",
      "  warnings.warn(\n"
     ]
    }
   ],
   "source": [
    "from pyspark import SparkContext\n",
    "from pyspark import SparkConf\n",
    "from pyspark.sql import SQLContext\n",
    "conf=SparkConf()\n",
    "conf.set(\"spark.executor.memory\", \"4g\")\n",
    "conf.set(\"spark.driver.memory\", \"4g\")\n",
    "conf.set(\"spark.cores.max\", \"6\")\n",
    "\n",
    "sc = SparkContext.getOrCreate(conf)\n",
    "\n",
    "spark = SQLContext(sc)"
   ]
  },
  {
   "cell_type": "code",
   "execution_count": 4,
   "metadata": {},
   "outputs": [],
   "source": [
    "def get_data_from_s3(s3_bucket, file_key):\n",
    "    df = spark.read.format('csv').option('header','true').load(s3_bucket+file_key)\n",
    "    print(df.count())\n",
    "    return df\n",
    "\n",
    "def get_data_from_athena(database, table_name):\n",
    "    df = spark.read.format('csv').option('header','true').load(database+table_name)\n",
    "    print(df.count())\n",
    "    return df\n",
    "\n",
    "def delete_s3_data( s3_bucket, vertex_path):\n",
    "    return\n",
    "\n",
    "def saving_df_to_s3(df, s3_bucket, file_key):\n",
    "    df.write.mode(\"overwrite\").option(\"header\",True).csv(s3_bucket+file_key)\n",
    "    return\n",
    "\n",
    "def get_data_from_aurora_db(s3_bucket, cluster_s3_path):\n",
    "    df = spark.read.format('csv').option('header','true').load(cluster_s3_path)\n",
    "    print(df.count())\n",
    "    return df"
   ]
  },
  {
   "cell_type": "code",
   "execution_count": 37,
   "metadata": {},
   "outputs": [],
   "source": [
    "def convert_to_database_schema(cluster_df: DataFrame, brand_dict: DataFrame, db_brand_list:DataFrame, cluster_type: str)-> DataFrame:\n",
    "    if ( cluster_df == None or len(cluster_df.head(1)) == 0 ) or ( brand_dict == None or len(brand_dict.head(1)) == 0 ):\n",
    "        return None\n",
    "        \n",
    "    cluster_brand_info = cluster_df.join(brand_dict, cluster_df.brand == brand_dict.crawled_name, 'inner').drop('brand')\n",
    "    cluster_brand_info = cluster_brand_info.withColumn('source', lit(cluster_type))\n",
    "    cluster_brand_info = cluster_brand_info.withColumnRenamed('id', 'cluster_id')\n",
    "    cluster_brand_info = cluster_brand_info.withColumn('status', lit('IN_PROGRESS'))\n",
    "    cluster_brand_info = cluster_brand_info.withColumn('updated_date', current_date().cast(\"string\"))\n",
    "    cluster_brand_info = cluster_brand_info.select('cluster_id', 'crawled_name', 'source', 'status', 'updated_date', 'product_url_1', 'image_url_1', 'product_url_2')\n",
    "    updation_brands = cluster_brand_info.filter(cluster_brand_info.crawled_name.isin(db_brand_list))\n",
    "    insertion_brands = cluster_brand_info.filter(~cluster_brand_info.crawled_name.isin(db_brand_list))\n",
    "    updation_brnads = updation_brands.withColumn( 'query_type', lit('U'))\n",
    "    insertion_brnads = insertion_brands.withColumn('query_type', lit('I'))\n",
    "    return insertion_brnads, updation_brnads"
   ]
  },
  {
   "cell_type": "code",
   "execution_count": 6,
   "metadata": {},
   "outputs": [],
   "source": [
    "def combine_dfs(df_list):\n",
    "    print(\"Combning dfs\")\n",
    "    combined_df = reduce(lambda df1, df2: df1.union(df2.select(df1.columns)), df_list)\n",
    "    return combined_df\n",
    "\n",
    "def get_max_id(df):\n",
    "    if df == None or len(df.head(1)) == 0:\n",
    "        return 0\n",
    "\n",
    "    result = df.select([max('id')])\n",
    "    max_id = result.collect()[0]['max(id)']\n",
    "    return int(max_id)\n",
    "\n",
    "def insert_id(df, start_idx):\n",
    "    print(\"Getting ids for new uuids\")\n",
    "    updated_schema = StructType(df.schema.fields[:] + [StructField(\"id\", LongType(), False)])\n",
    "    zipped_rdd = df.rdd.zipWithIndex().map(lambda x: (x[0], x[1] + start_idx))\n",
    "    id_df = (zipped_rdd.map(lambda ri: Row(*list(ri[0]) + [ri[1]])).toDF(updated_schema))\n",
    "    # print(\"New id_uuid = {}\".format(new_id_uuid_df.count()))\n",
    "    return id_df"
   ]
  },
  {
   "cell_type": "code",
   "execution_count": 7,
   "metadata": {},
   "outputs": [],
   "source": [
    "def create_sku_uuid(uuid):\n",
    "    arr = uuid.split(\"<>\")\n",
    "    arr = arr[1:len(arr)]\n",
    "    return \"<>\".join(arr)\n",
    "    \n",
    "def create_sku_uuid_column(df):\n",
    "    sku_uuid = udf(create_sku_uuid, StringType())\n",
    "    res_df = df.withColumn(\"sku_uuid\", sku_uuid(df.uuid))\n",
    "    return res_df\n",
    "\n",
    "def ml_input_preprocessing_preprocessing(ml_input):\n",
    "    required_store = ['petcarerx', 'petsmart', 'lovegroomers', 'ryanspet', 'tractorsupplyrx', 'californiapetpharmacy', 'petsuppliesplus', 'petedge', 'petmeds', 'entirelypetspharmacy', 'chewy', 'vcahospitals', \n",
    "    'heartlandvetsupply', 'petco', 'allivet', 'smartpakequine', 'petflow', 'jefferspet', 'tractorsupply', 'entirelypets', 'groomerschoice', 'baxterboo', 'chewy']\n",
    "    ml_input = ml_input.filter(ml_input.store_name.isin(required_store))\n",
    "    ml_input = create_sku_uuid_column(ml_input)\n",
    "    ml_input = ml_input.dropDuplicates(['sku_uuid'])\n",
    "    print(ml_input.count())\n",
    "    ml_input = ml_input.na.drop(subset=[\"brand\"])\n",
    "    print(ml_input.count())\n",
    "    return ml_input"
   ]
  },
  {
   "cell_type": "code",
   "execution_count": 8,
   "metadata": {},
   "outputs": [],
   "source": [
    "def generate_brand_dictionary(ml_input, store_priority_order):\n",
    "    print(\"Generating brand dictionary\")\n",
    "    ml_input = ml_input.drop('sku','uuid','sku_uuid')\n",
    "    ml_input = ml_input.dropDuplicates(['brand','store_name'])\n",
    "    ml_input = ml_input.join(store_priority_order, ml_input.store_name == store_priority_order.store, 'inner').drop('store')\n",
    "    brand_dict = ml_input.groupBy('brand').agg( collect_set(ml_input.store_name).alias('store_list'), sort_array(collect_set(struct( ml_input.priority, ml_input.product_url, ml_input.image_url))).alias('brand_info'))\n",
    "    brand_dict = brand_dict.withColumn('brand_info', when(size(brand_dict.brand_info) == 0, array()).when(size(brand_dict.brand_info) == 1,  array(brand_dict.brand_info[0])).otherwise(array(brand_dict.brand_info[0], brand_dict.brand_info[1])))\n",
    "    brand_dict = brand_dict.select( brand_dict.brand.alias('crawled_name'), \\\n",
    "            brand_dict.store_list,\\\n",
    "            brand_dict.brand_info[0].product_url.alias('product_url_1'), \\\n",
    "            brand_dict.brand_info[0].image_url.alias('image_url_1'),\\\n",
    "            brand_dict.brand_info[1].product_url.alias('product_url_2'))\n",
    "\n",
    "    print(\"brand dictionary generated\")\n",
    "    return brand_dict\n",
    "    # brand_dict['crawled_name','source_store_list', 'product_url_1', 'product_url_2', 'image_url']"
   ]
  },
  {
   "cell_type": "code",
   "execution_count": 9,
   "metadata": {},
   "outputs": [],
   "source": [
    "def product_matches_preprocessing(product_matches, ml_input):\n",
    "    product_matches = product_matches.select('sku_uuid_a', 'sku_uuid_b')\n",
    "    ml_input = ml_input.withColumnRenamed('sku_uuid','ml_input_sku_uuid')\n",
    "    sku_uuid_a_matched_data = product_matches.join(ml_input, ml_input.ml_input_sku_uuid == product_matches.sku_uuid_a, 'inner').select('sku_uuid_a','sku_uuid_b',col('brand').alias('brand_a'))\n",
    "    sku_uuid_a_and_b_matched_data = sku_uuid_a_matched_data.join(ml_input, ml_input.ml_input_sku_uuid == sku_uuid_a_matched_data.sku_uuid_b, 'inner').select('sku_uuid_a', 'sku_uuid_b', 'brand_a', col('brand').alias('brand_b'))\n",
    "    return sku_uuid_a_and_b_matched_data"
   ]
  },
  {
   "cell_type": "code",
   "execution_count": 10,
   "metadata": {},
   "outputs": [],
   "source": [
    "def generate_brand_matches_from_product_matches(product_matches):\n",
    "    directed_a_b_brand_matches = product_matches\n",
    "    directed_b_a_brand_matches = directed_a_b_brand_matches.select(col('sku_uuid_a').alias('sku_uuid_b'), col('sku_uuid_b').alias('sku_uuid_a'),  col('brand_a').alias('brand_b'), col('brand_b').alias('brand_a'))\n",
    "    undirected_brand_matches = combine_dfs([directed_a_b_brand_matches, directed_b_a_brand_matches]).dropDuplicates(['sku_uuid_a','sku_uuid_b'])\n",
    "    undirected_brand_matches = undirected_brand_matches.groupBy(['brand_a','brand_b']).count()\n",
    "    return undirected_brand_matches"
   ]
  },
  {
   "cell_type": "code",
   "execution_count": 11,
   "metadata": {},
   "outputs": [],
   "source": [
    "def generate_graph_edges(undirected_brand_matches):\n",
    "    edge_df = undirected_brand_matches.withColumnRenamed('brand_a','src').withColumnRenamed('brand_b','dst')\n",
    "    return edge_df"
   ]
  },
  {
   "cell_type": "code",
   "execution_count": 12,
   "metadata": {},
   "outputs": [],
   "source": [
    "def generate_graph_vertices(brand_dict):\n",
    "    vertex_df = brand_dict.select(brand_dict.crawled_name.alias('id'))\n",
    "    return vertex_df"
   ]
  },
  {
   "cell_type": "code",
   "execution_count": 13,
   "metadata": {},
   "outputs": [],
   "source": [
    "class Graph:\n",
    "    def __init__(self, vertices, edges):\n",
    "        self.vertices = vertices\n",
    "        self.edges = edges\n",
    "        self.construct_graph()\n",
    "    \n",
    "    def construct_graph(self):\n",
    "        sc.setCheckpointDir(\"/home/preacher/Bungee/bnt/data_set/checkpoints\")\n",
    "        self.graph = GraphFrame(self.vertices, self.edges)\n",
    "        return self.graph\n",
    "        \n",
    "    def get_connected_componenets(self):\n",
    "        sc.setCheckpointDir(\"/home/preacher/Bungee/bnt/data_set/checkpoints\")\n",
    "        self.connected_components = self.graph.connectedComponents()\n",
    "        return self.connected_components\n",
    "        #  connected_components[\"id\",\"componenets\"]\n",
    "\n",
    "    def generate_filtered_clusters(self):\n",
    "        self.generate_clusters()\n",
    "        self.filtered_cluster = self.connected_component_cluster.filter(size(col(\"cluster\"))>1)\n",
    "        self.filtered_cluster = self.filtered_cluster.filter(size(col(\"cluster\"))<50) \n",
    "        return self.filtered_cluster\n",
    "\n",
    "\n",
    "    def generate_clusters(self):\n",
    "        self.get_connected_componenets()\n",
    "        self.connected_component_cluster = self.connected_components.groupBy('component').agg(collect_set('id').alias(\"cluster\")).drop('component')\n",
    "        #  one sinle brand cannot form a clusters so removing single size array\n",
    "        return self.connected_component_cluster"
   ]
  },
  {
   "cell_type": "code",
   "execution_count": 14,
   "metadata": {},
   "outputs": [],
   "source": [
    "class Brand_normalization:\n",
    "    def __init__(self, new_brand_cluster, old_brand_cluster ):\n",
    "        self.new_cluster_start_index = 1\n",
    "        self.old_brand_cluster = self.get_old_brand_sets(old_brand_cluster)\n",
    "        self.new_brand_cluster = self.get_new_brand_sets(new_brand_cluster)\n",
    "\n",
    "    def generate_brand_clusters(self):\n",
    "        if self.old_brand_cluster != None:\n",
    "            self.new_brand_cluster, self.updated_brand_cluster = self.get_updated_brand_sets()\n",
    "            return self.new_brand_cluster, self.updated_brand_cluster\n",
    "        else :\n",
    "            self.new_brand_cluster = self.new_brand_cluster.withColumnRenamed('new_id','id').withColumnRenamed('new_brand','brand')\n",
    "            self.updated_brand_cluster = None\n",
    "            return self.updated_brand_cluster, None\n",
    "\n",
    "    def get_old_brand_sets(self, old_brand_cluster):\n",
    "        if old_brand_cluster == None:\n",
    "            return None\n",
    "        self.new_cluster_start_idex = get_max_id(old_brand_cluster) + 1\n",
    "        return old_brand_cluster.select(old_brand_cluster.id.alias('old_id'), old_brand_cluster.brand.alias('old_brand'))\n",
    "\n",
    "    def get_new_brand_sets(self, new_brand_cluster):\n",
    "        new_brand_cluster =  insert_id(new_brand_cluster, self.new_cluster_start_idex)\n",
    "        return new_brand_cluster.select(new_brand_cluster.id.alias('new_id'), explode(new_brand_cluster.cluster).alias('new_brand'))\n",
    "\n",
    "    def get_vertex(self, set_id_matches):\n",
    "        set_id_a = set_id_matches.select(col(\"new_id\").alias(\"id\"))\n",
    "        set_id_b = set_id_matches.select(col(\"old_id\").alias(\"id\"))\n",
    "        vertex = combine_dfs([set_id_a, set_id_b]).dropDuplicates(['id'])\n",
    "        return vertex\n",
    "    \n",
    "    def generate_graph_edges(self, set_id_matches):\n",
    "        directed_edge_a_b = set_id_matches.select('new_id','old_id')\n",
    "        directed_edge_b_a = set_id_matches.select(col('new_id').alias('old_id') ,col('old_id').alias('new_id'))\n",
    "        undirected_edges = combine_dfs([directed_edge_a_b, directed_edge_b_a])\n",
    "        undirected_edges = undirected_edges.dropDuplicates([\"new_id\",\"old_id\"]).withColumnRenamed('new_id', 'src').withColumnRenamed('old_id', 'dst')\n",
    "        return undirected_edges\n",
    "\n",
    "    def get_brand_cluster(self, connected_clusters):\n",
    "        old_cluster_brands = connected_clusters.join(self.old_brand_cluster, connected_clusters.id == self.old_brand_cluster.old_id, 'inner').drop('old_id')\n",
    "        old_cluster_brands = old_cluster_brands.withColumnRenamed('old_brand','brand')\n",
    "        new_cluster_brands = connected_clusters.join(self.new_brand_cluster, connected_clusters.id == self.new_brand_cluster.new_id, 'inner').drop('new_id')\n",
    "        new_cluster_brands = new_cluster_brands.withColumnRenamed('new_brand','brand')\n",
    "        connected_brand_clusters = combine_dfs([old_cluster_brands, new_cluster_brands])\n",
    "        return connected_brand_clusters\n",
    "        #  connected_brand_clusters(\"id\", \"\")\n",
    "\n",
    "    def get_updated_brand_sets(self):\n",
    "        set_id_matches = self.new_brand_cluster.join(self.old_brand_cluster, self.new_brand_cluster.new_brand == self.old_brand_cluster.old_brand, 'inner')\n",
    "        vertices = self.get_vertex(set_id_matches)\n",
    "        edges = self.generate_graph_edges(set_id_matches)\n",
    "        graph = Graph(vertices, edges)\n",
    "        connected_clusters = graph.get_connected_componenets()\n",
    "\n",
    "        connected_brand_clusters = self.get_brand_cluster(connected_clusters)\n",
    "        set_id_list_brand_cluster = connected_brand_clusters.groupBy('component').agg(array_sort(collect_set('id')).alias('id_sets'), collect_set('brand').alias('brand_set')).drop('component')\n",
    "        self.updated_id_brand_cluster = set_id_list_brand_cluster.withColumn('id',array_min(set_id_list_brand_cluster.id_sets)).drop('id_sets')\n",
    "\n",
    "        # updated_id_brand_cluster['id','brand_set']\n",
    "        old_brand_set = self.old_brand_cluster.groupBy('old_id').agg(collect_set('old_brand').alias('old_brand_set'))\n",
    "        set_id_old_and_updated_brand_cluster = self.updated_id_brand_cluster.join(old_brand_set, self.updated_id_brand_cluster.id == old_brand_set.old_id, 'inner' ).drop('old_id')\n",
    "        updated_brand_cluster = set_id_old_and_updated_brand_cluster.select(\"id\",array_except(\"brand_set\",\"old_brand_set\").alias('brand_set')).filter(size(col(\"brand_set\"))>0)\n",
    "        updated_brand_cluster = updated_brand_cluster.withColumn('brand', explode('brand_set')).drop('brand_set')\n",
    "\n",
    "        # updation_brand_cluster['id','brand_set']\n",
    "        old_and_updated_set_id = connected_brand_clusters.select(col('id').alias('old_set_id')).dropDuplicates()\n",
    "        new_set_id_brand_cluster = self.new_brand_cluster.groupBy(col(\"new_id\").alias('id')).agg(collect_set('new_brand').alias('brand_set'))\n",
    "        new_brand_cluster = new_set_id_brand_cluster.join(old_and_updated_set_id, new_set_id_brand_cluster.id == old_and_updated_set_id.old_set_id, 'leftanti')\n",
    "        new_brand_cluster = new_brand_cluster.withColumn('brand', explode('brand_set')).drop('brand_set')\n",
    "        # insertion_brand_cluster['id','brand_set']\n",
    "        return new_brand_cluster, updated_brand_cluster\n",
    "    \n",
    "    def get_updated_brand_cluster(self):\n",
    "        if self.new_brand_cluster is None or len(self.new_brand_cluster.head(1)) == 0:\n",
    "            self.merged_brand_cluster = self.updated_brand_cluster\n",
    "        elif self.updated_brand_cluster is None or len(self.updated_brand_cluster.head(1)) == 0:\n",
    "            self.merged_brand_cluster = self.new_brand_cluster\n",
    "        else:\n",
    "            old_cluster = self.old_brand_cluster.join(self.updated_brand_cluster, self.old_brand_cluster.old_brand == self.updated_brand_cluster.brand, 'leftanti')\n",
    "            old_cluster = old_cluster.withColumnRenamed('old_id', 'id').withColumnRenamed('old_brand', 'brand')\n",
    "            self.merged_brand_cluster = combine_dfs([old_cluster, self.updated_brand_cluster, self.new_brand_cluster])\n",
    "        \n",
    "        return self.merged_brand_cluster\n",
    "        # latest_brand_cluster['id','brand']\n"
   ]
  },
  {
   "cell_type": "code",
   "execution_count": 15,
   "metadata": {},
   "outputs": [],
   "source": [
    "class String_Clustering:\n",
    "    def  __init__(self, brand_cluster, brand_dict):\n",
    "        self.normalized_brands = brand_cluster # latest_brand_cluster['id','brand_id_set']\n",
    "        self.brand_dict = brand_dict\n",
    "        self.crawled_brands = self.get_crawled_brands_list()\n",
    "\n",
    "    def get_crawled_brands_list(self):\n",
    "        return self.brand_dict.select( self.brand_dict.crawled_name.alias('brand'))\n",
    "        # crawled_brands['id','brand']\n",
    "\n",
    "    def get_unnormalized_brands(self):\n",
    "        return self.crawled_brands.join(self.normalized_brands, self.crawled_brands.brand == self.normalized_brands.brand, 'leftanti')\n",
    "        # crawled_brands['id','brand']\n",
    "\n",
    "    def get_string_clusters(self, brand_list):\n",
    "        clusters = []\n",
    "        for brand in brand_list:\n",
    "            cluster = get_close_matches(brand, brand_list)\n",
    "            clusters.append(cluster)\n",
    "\n",
    "        cluster_string = [ [','.join(cluster)] for cluster in clusters]\n",
    "        column = ['string_clusters']\n",
    "        brand_string_df = spark.createDataFrame(cluster_string, column)\n",
    "        brand_string_cluster_df = brand_string_df.select(array_sort(split(col(\"string_clusters\"),\",\")).alias(\"brand_cluster\")).drop(\"string_clusters\")\n",
    "        brand_string_cluster_df = brand_string_cluster_df.filter(size(brand_string_cluster_df.brand_cluster)>1).drop_duplicates()\n",
    "        brand_string_cluster_df.printSchema()\n",
    "        return brand_string_cluster_df\n",
    "\n",
    "    def cluster_unnormalized_brands(self):\n",
    "        self.unclustered_brands = self.get_unnormalized_brands()\n",
    "        unclustered_brands_list = self.unclustered_brands.rdd.map(lambda x:x[0]).collect()\n",
    "        string_cluster = self.get_string_clusters(unclustered_brands_list)\n",
    "        idx = get_max_id(self.normalized_brands)\n",
    "        id_string_cluster = insert_id(string_cluster, idx+1)\n",
    "        self.id_string_cluster = id_string_cluster.withColumn('brand', explode('brand_cluster')).drop('brand_cluster')\n",
    "        return self.id_string_cluster\n",
    "\n",
    "    def get_unclustered_brands(self):\n",
    "        if self.id_string_cluster == None:\n",
    "            return self.unclustered_brands\n",
    "        else :\n",
    "            self.unclustered_brands = self.unclustered_brands.subtract(self.id_string_cluster.select('brand'))\n",
    "            return self.unclustered_brands "
   ]
  },
  {
   "cell_type": "code",
   "execution_count": 90,
   "metadata": {},
   "outputs": [],
   "source": [
    "bungeedatalake_path = \"/home/preacher/Bungee/bnt/data_set/saas_team/crawled_data.csv\"\n",
    "exact_matches_path = \"/home/preacher/Bungee/bnt/data_set/saas_team/exact_matches.csv\""
   ]
  },
  {
   "cell_type": "markdown",
   "metadata": {},
   "source": [
    "<h2>Input</h2>"
   ]
  },
  {
   "cell_type": "code",
   "execution_count": 16,
   "metadata": {},
   "outputs": [],
   "source": [
    "s3_bucket = '/home/preacher/Bungee/bnt/data_set/'\n",
    "run_type = 'NEW'\n",
    "exact_matches_database = '/home/preacher/Bungee/CodeRepo/kaushik_forked_repo/kaushik_dev/bnt/data_set/'\n",
    "exact_matches_table_name = 'exact_matches_run_2.csv'\n",
    "bungeedatalake_database = '/home/preacher/Bungee/CodeRepo/kaushik_forked_repo/kaushik_dev/bnt/data_set/'\n",
    "bungeedatalake_table_name = 'datalake_run_2.csv'"
   ]
  },
  {
   "cell_type": "markdown",
   "metadata": {},
   "source": [
    "<h2>Data Fetching</h2>"
   ]
  },
  {
   "cell_type": "code",
   "execution_count": 17,
   "metadata": {},
   "outputs": [
    {
     "name": "stdout",
     "output_type": "stream",
     "text": [
      "8\n",
      "24\n"
     ]
    }
   ],
   "source": [
    "cluster_s3_path = ''\n",
    "vertex_path = ''\n",
    "exact_matches = get_data_from_athena(exact_matches_database, exact_matches_table_name)\n",
    "bungeedatalake = get_data_from_athena(bungeedatalake_database, bungeedatalake_table_name)\n"
   ]
  },
  {
   "cell_type": "code",
   "execution_count": 18,
   "metadata": {},
   "outputs": [
    {
     "name": "stdout",
     "output_type": "stream",
     "text": [
      "+--------------------------------------------------+-----------------------------------------------------+------------------------------------+---------------------------------------+-----+-----------------+-----------------+\n",
      "|uuid_a                                            |uuid_b                                               |sku_uuid_a                          |sku_uuid_b                             |score|base_source_store|comp_source_store|\n",
      "+--------------------------------------------------+-----------------------------------------------------+------------------------------------+---------------------------------------+-----+-----------------+-----------------+\n",
      "|sku_pb002554<>pb002554<>entirelypets<>entirelypets|sku_328012055<>328012055<>walmart<>walmart           |pb002554<>entirelypets<>entirelypets|328012055<>walmart<>walmart            |0.9  |walmart          |walmart          |\n",
      "|sku_917115167<>917115167<>walmart<>walmart        |000005274508<>146940<>chewy<>chewy                   |917115167<>walmart<>walmart         |146940<>chewy<>chewy                   |0.9  |walmart          |walmart          |\n",
      "|Sku_253665225<>253665225<>walmart<>walmart        |sku_509654014<>509654014<>walmart<>walmart           |253665225<>walmart<>walmart         |509654014<>walmart<>walmart            |0.9  |walmart          |walmart          |\n",
      "|877370002039<>2987697<>petco<>petco               |Sku_253665225<>253665225<>walmart<>walmart           |2987697<>petco<>petco               |253665225<>walmart<>walmart            |0.9  |walmart          |walmart          |\n",
      "|736511466614<>1565303<>petco<>petco               |sku_753214905<>753214905<>walmart<>walmart           |1565303<>petco<>petco               |753214905<>walmart<>walmart            |0.9  |walmart          |walmart          |\n",
      "|sku_722146949<>722146949<>walmart<>walmart        |012104975085<>244029899<>tractorsupply<>tractorsupply|722146949<>walmart<>walmart         |244029899<>tractorsupply<>tractorsupply|0.9  |walmart          |walmart          |\n",
      "|019035462721<>783011909<>walmart<>walmart         |656661119621<>442452479<>walmart<>walmart            |783011909<>walmart<>walmart         |442452479<>walmart<>walmart            |0.9  |walmart          |walmart          |\n",
      "|807203105262<>83438<>chewy<>chewy                 |076484030406<>202146<>chewy<>chewy                   |83438<>chewy<>chewy                 |202146<>chewy<>chewy                   |0.9  |walmart          |walmart          |\n",
      "+--------------------------------------------------+-----------------------------------------------------+------------------------------------+---------------------------------------+-----+-----------------+-----------------+\n",
      "\n",
      "+-----------------------------------------------------+-------------+-------------------+----------+-----------------------------------------------------------------------------------------------------------+---------------------------------------------------+\n",
      "|uuid                                                 |store_name   |brand              |sku       |image_url                                                                                                  |product_url                                        |\n",
      "+-----------------------------------------------------+-------------+-------------------+----------+-----------------------------------------------------------------------------------------------------------+---------------------------------------------------+\n",
      "|sku_821829793<>821829793<>walmart<>walmart           |tractorsupply|purina             |821829793 |https://i5.walmartimages.com/asr/4b79b2eb-4353-4b11-b0df-184ffed0a6e7.ef4e3616f8dd65489288ec99c924f68b.jpeg|https://www.walmart.com/ip/821829793?selected=true |\n",
      "|sku_pb002554<>pb002554<>entirelypets<>entirelypets   |tractorsupply|purr               |pb002554  |https://i5.walmartimages.com/asr/4b79b2eb-4353-4b11-b0df-184ffed0a6e7.ef4e3616f8dd65489288ec99c924f68b.jpeg|https://www.walmart.com/ip/821829793?selected=true |\n",
      "|sku_328012055<>328012055<>walmart<>walmart           |tractorsupply|pro purina         |328012055 |https://i5.walmartimages.com/asr/4b79b2eb-4353-4b11-b0df-184ffed0a6e7.ef4e3616f8dd65489288ec99c924f68b.jpeg|https://www.walmart.com/ip/821829793?selected=true |\n",
      "|sku_848389863<>848389863<>walmart<>walmart           |tractorsupply|pro plan           |848389863 |https://i5.walmartimages.com/asr/4b79b2eb-4353-4b11-b0df-184ffed0a6e7.ef4e3616f8dd65489288ec99c924f68b.jpeg|https://www.walmart.com/ip/821829793?selected=true |\n",
      "|sku_938776669<>938776669<>walmart<>walmart           |tractorsupply|apple              |938776669 |https://i5.walmartimages.com/asr/4b79b2eb-4353-4b11-b0df-184ffed0a6e7.ef4e3616f8dd65489288ec99c924f68b.jpeg|https://www.walmart.com/ip/821829793?selected=true |\n",
      "|sku_917115167<>917115167<>walmart<>walmart           |tractorsupply|apple inc          |917115167 |https://i5.walmartimages.com/asr/4b79b2eb-4353-4b11-b0df-184ffed0a6e7.ef4e3616f8dd65489288ec99c924f68b.jpeg|https://www.walmart.com/ip/821829793?selected=true |\n",
      "|000005274508<>146940<>chewy<>chewy                   |tractorsupply|apple corp ltd     |146940    |https://i5.walmartimages.com/asr/4b79b2eb-4353-4b11-b0df-184ffed0a6e7.ef4e3616f8dd65489288ec99c924f68b.jpeg|https://www.walmart.com/ip/821829793?selected=true |\n",
      "|Sku_253665225<>253665225<>walmart<>walmart           |tractorsupply|Perfect-product    |253665225 |https://i5.walmartimages.com/asr/4b79b2eb-4353-4b11-b0df-184ffed0a6e7.ef4e3616f8dd65489288ec99c924f68b.jpeg|https://www.walmart.com/ip/821829793?selected=true |\n",
      "|sku_509654014<>509654014<>walmart<>walmart           |tractorsupply|perfect prep eq    |509654014 |https://i5.walmartimages.com/asr/4b79b2eb-4353-4b11-b0df-184ffed0a6e7.ef4e3616f8dd65489288ec99c924f68b.jpeg|https://www.walmart.com/ip/821829793?selected=true |\n",
      "|877370002039<>2987697<>petco<>petco                  |tractorsupply|perfect product llc|2987697   |https://i5.walmartimages.com/asr/4b79b2eb-4353-4b11-b0df-184ffed0a6e7.ef4e3616f8dd65489288ec99c924f68b.jpeg|https://www.walmart.com/ip/821829793?selected=true |\n",
      "|sku_753214905<>753214905<>walmart<>walmart           |tractorsupply|aerodawg           |753214905 |https://i5.walmartimages.com/asr/4b79b2eb-4353-4b11-b0df-184ffed0a6e7.ef4e3616f8dd65489288ec99c924f68b.jpeg|https://www.walmart.com/ip/821829793?selected=true |\n",
      "|sku_722146949<>722146949<>walmart<>walmart           |tractorsupply|aerokat            |722146949 |https://i5.walmartimages.com/asr/4b79b2eb-4353-4b11-b0df-184ffed0a6e7.ef4e3616f8dd65489288ec99c924f68b.jpeg|https://www.walmart.com/ip/821829793?selected=true |\n",
      "|736511466614<>1565303<>petco<>petco                  |tractorsupply|trudell            |1565303   |https://i5.walmartimages.com/asr/4b79b2eb-4353-4b11-b0df-184ffed0a6e7.ef4e3616f8dd65489288ec99c924f68b.jpeg|https://www.walmart.com/ip/821829793?selected=true |\n",
      "|012104975085<>244029899<>tractorsupply<>tractorsupply|tractorsupply|trudell medicin    |244029899 |https://i5.walmartimages.com/asr/4b79b2eb-4353-4b11-b0df-184ffed0a6e7.ef4e3616f8dd65489288ec99c924f68b.jpeg|https://www.walmart.com/ip/821829793?selected=true |\n",
      "|019035462721<>783011909<>walmart<>walmart            |tractorsupply|handson equine     |783011909 |https://i5.walmartimages.com/asr/4b79b2eb-4353-4b11-b0df-184ffed0a6e7.ef4e3616f8dd65489288ec99c924f68b.jpeg|https://www.walmart.com/ip/821829793?selected=true |\n",
      "|sku_1532138711<>1532138711<>walmart<>walmart         |tractorsupply|handson equine. Llc|1532138711|https://i5.walmartimages.com/asr/4b79b2eb-4353-4b11-b0df-184ffed0a6e7.ef4e3616f8dd65489288ec99c924f68b.jpeg|https://www.walmart.com/ip/821829793?selected=true |\n",
      "+-----------------------------------------------------+-------------+-------------------+----------+-----------------------------------------------------------------------------------------------------------+---------------------------------------------------+\n",
      "only showing top 16 rows\n",
      "\n"
     ]
    }
   ],
   "source": [
    "exact_matches.show(truncate=False, n = 16)\n",
    "bungeedatalake.show(truncate=False, n = 16)"
   ]
  },
  {
   "cell_type": "code",
   "execution_count": 94,
   "metadata": {},
   "outputs": [
    {
     "name": "stdout",
     "output_type": "stream",
     "text": [
      "+--------------------------------------------------+-----------------------------------------------------+------------------------------------+---------------------------------------+-----+-----------------+-----------------+\n",
      "|uuid_a                                            |uuid_b                                               |sku_uuid_a                          |sku_uuid_b                             |score|base_source_store|comp_source_store|\n",
      "+--------------------------------------------------+-----------------------------------------------------+------------------------------------+---------------------------------------+-----+-----------------+-----------------+\n",
      "|sku_pb002554<>pb002554<>entirelypets<>entirelypets|sku_328012055<>328012055<>walmart<>walmart           |pb002554<>entirelypets<>entirelypets|328012055<>walmart<>walmart            |0.9  |walmart          |walmart          |\n",
      "|sku_917115167<>917115167<>walmart<>walmart        |000005274508<>146940<>chewy<>chewy                   |917115167<>walmart<>walmart         |146940<>chewy<>chewy                   |0.9  |walmart          |walmart          |\n",
      "|Sku_253665225<>253665225<>walmart<>walmart        |sku_509654014<>509654014<>walmart<>walmart           |253665225<>walmart<>walmart         |509654014<>walmart<>walmart            |0.9  |walmart          |walmart          |\n",
      "|877370002039<>2987697<>petco<>petco               |Sku_253665225<>253665225<>walmart<>walmart           |2987697<>petco<>petco               |253665225<>walmart<>walmart            |0.9  |walmart          |walmart          |\n",
      "|736511466614<>1565303<>petco<>petco               |sku_753214905<>753214905<>walmart<>walmart           |1565303<>petco<>petco               |753214905<>walmart<>walmart            |0.9  |walmart          |walmart          |\n",
      "|sku_722146949<>722146949<>walmart<>walmart        |012104975085<>244029899<>tractorsupply<>tractorsupply|722146949<>walmart<>walmart         |244029899<>tractorsupply<>tractorsupply|0.9  |walmart          |walmart          |\n",
      "|019035462721<>783011909<>walmart<>walmart         |656661119621<>442452479<>walmart<>walmart            |783011909<>walmart<>walmart         |442452479<>walmart<>walmart            |0.9  |walmart          |walmart          |\n",
      "|807203105262<>83438<>chewy<>chewy                 |076484030406<>202146<>chewy<>chewy                   |83438<>chewy<>chewy                 |202146<>chewy<>chewy                   |0.9  |walmart          |walmart          |\n",
      "+--------------------------------------------------+-----------------------------------------------------+------------------------------------+---------------------------------------+-----+-----------------+-----------------+\n",
      "\n"
     ]
    }
   ],
   "source": [
    "abc = exact_matches.show(16, truncate=False)\n",
    "#  write.mode(\"overwrite\").option(\"header\",True).parquet('/home/preacher/Bungee/bnt/data_set/saas_team/brand_dict') -->"
   ]
  },
  {
   "cell_type": "code",
   "execution_count": 95,
   "metadata": {},
   "outputs": [],
   "source": [
    "abc"
   ]
  },
  {
   "cell_type": "markdown",
   "metadata": {},
   "source": [
    "<h2>Data Preprocessing</h2>"
   ]
  },
  {
   "cell_type": "code",
   "execution_count": 19,
   "metadata": {},
   "outputs": [
    {
     "name": "stdout",
     "output_type": "stream",
     "text": [
      "24\n",
      "24\n"
     ]
    }
   ],
   "source": [
    "\n",
    "filtered_crawled_data = ml_input_preprocessing_preprocessing(bungeedatalake)\n",
    "filtered_product_matches = product_matches_preprocessing(exact_matches, filtered_crawled_data)"
   ]
  },
  {
   "cell_type": "code",
   "execution_count": 97,
   "metadata": {},
   "outputs": [
    {
     "data": {
      "text/plain": [
       "8"
      ]
     },
     "execution_count": 97,
     "metadata": {},
     "output_type": "execute_result"
    }
   ],
   "source": [
    "filtered_crawled_data.count()\n",
    "filtered_product_matches.count()\n"
   ]
  },
  {
   "cell_type": "markdown",
   "metadata": {},
   "source": [
    "<h2>Vertex and Edge Generation</h2>"
   ]
  },
  {
   "cell_type": "code",
   "execution_count": 98,
   "metadata": {},
   "outputs": [
    {
     "name": "stdout",
     "output_type": "stream",
     "text": [
      "+-----------------------------------------------------+-------------+-------------------+----------+-----------------------------------------------------------------------------------------------------------+---------------------------------------------------+---------------------------------------+\n",
      "|uuid                                                 |store_name   |brand              |sku       |image_url                                                                                                  |product_url                                        |sku_uuid                               |\n",
      "+-----------------------------------------------------+-------------+-------------------+----------+-----------------------------------------------------------------------------------------------------------+---------------------------------------------------+---------------------------------------+\n",
      "|000005274508<>146940<>chewy<>chewy                   |tractorsupply|apple corp ltd     |146940    |https://i5.walmartimages.com/asr/4b79b2eb-4353-4b11-b0df-184ffed0a6e7.ef4e3616f8dd65489288ec99c924f68b.jpeg|https://www.walmart.com/ip/821829793?selected=true |146940<>chewy<>chewy                   |\n",
      "|sku_1532138711<>1532138711<>walmart<>walmart         |tractorsupply|handson equine. Llc|1532138711|https://i5.walmartimages.com/asr/4b79b2eb-4353-4b11-b0df-184ffed0a6e7.ef4e3616f8dd65489288ec99c924f68b.jpeg|https://www.walmart.com/ip/821829793?selected=true |1532138711<>walmart<>walmart           |\n",
      "|736511466614<>1565303<>petco<>petco                  |tractorsupply|trudell            |1565303   |https://i5.walmartimages.com/asr/4b79b2eb-4353-4b11-b0df-184ffed0a6e7.ef4e3616f8dd65489288ec99c924f68b.jpeg|https://www.walmart.com/ip/821829793?selected=true |1565303<>petco<>petco                  |\n",
      "|sku_190331<>190331<>bigdweb<>bigdweb                 |tractorsupply|Pure Sole Products |190331    |https://i5.walmartimages.com/asr/4b79b2eb-4353-4b11-b0df-184ffed0a6e7.ef4e3616f8dd65489288ec99c924f68b.jpeg|https://www.walmart.com/ip/821829793?selected=true |190331<>bigdweb<>bigdweb               |\n",
      "|076484030406<>202146<>chewy<>chewy                   |tractorsupply|averapack          |202146    |https://i5.walmartimages.com/asr/4b79b2eb-4353-4b11-b0df-184ffed0a6e7.ef4e3616f8dd65489288ec99c924f68b.jpeg|https://www.walmart.com/ip/821829793?selected=true |202146<>chewy<>chewy                   |\n",
      "|012104975085<>244029899<>tractorsupply<>tractorsupply|tractorsupply|trudell medicin    |244029899 |https://i5.walmartimages.com/asr/4b79b2eb-4353-4b11-b0df-184ffed0a6e7.ef4e3616f8dd65489288ec99c924f68b.jpeg|https://www.walmart.com/ip/821829793?selected=true |244029899<>tractorsupply<>tractorsupply|\n",
      "|Sku_253665225<>253665225<>walmart<>walmart           |tractorsupply|Perfect-product    |253665225 |https://i5.walmartimages.com/asr/4b79b2eb-4353-4b11-b0df-184ffed0a6e7.ef4e3616f8dd65489288ec99c924f68b.jpeg|https://www.walmart.com/ip/821829793?selected=true |253665225<>walmart<>walmart            |\n",
      "|82829304876<>278934<>bigdweb<>bigdweb                |tractorsupply|Goodwinol          |278934    |https://i5.walmartimages.com/asr/4b79b2eb-4353-4b11-b0df-184ffed0a6e7.ef4e3616f8dd65489288ec99c924f68b.jpeg|https://www.walmart.com/ip/821829793?selected=true |278934<>bigdweb<>bigdweb               |\n",
      "|877370002039<>2987697<>petco<>petco                  |tractorsupply|perfect product llc|2987697   |https://i5.walmartimages.com/asr/4b79b2eb-4353-4b11-b0df-184ffed0a6e7.ef4e3616f8dd65489288ec99c924f68b.jpeg|https://www.walmart.com/ip/821829793?selected=true |2987697<>petco<>petco                  |\n",
      "|sku_328012055<>328012055<>walmart<>walmart           |tractorsupply|pro purina         |328012055 |https://i5.walmartimages.com/asr/4b79b2eb-4353-4b11-b0df-184ffed0a6e7.ef4e3616f8dd65489288ec99c924f68b.jpeg|https://www.walmart.com/ip/821829793?selected=true |328012055<>walmart<>walmart            |\n",
      "|656661119621<>442452479<>walmart<>walmart            |tractorsupply|handson            |442452479 |https://i5.walmartimages.com/asr/4b79b2eb-4353-4b11-b0df-184ffed0a6e7.ef4e3616f8dd65489288ec99c924f68b.jpeg|https://www.walmart.com/ip/821829793?selected=true |442452479<>walmart<>walmart            |\n",
      "|656661120429<>494938475<>walmart<>walmart            |tractorsupply|dry shod           |494938475 |https://i5.walmartimages.com/asr/4b79b2eb-4353-4b11-b0df-184ffed0a6e7.ef4e3616f8dd65489288ec99c924f68b.jpeg|https://www.walmart.com/ip/821829793?selected=true |494938475<>walmart<>walmart            |\n",
      "|sku_509654014<>509654014<>walmart<>walmart           |tractorsupply|perfect prep eq    |509654014 |https://i5.walmartimages.com/asr/4b79b2eb-4353-4b11-b0df-184ffed0a6e7.ef4e3616f8dd65489288ec99c924f68b.jpeg|https://www.walmart.com/ip/821829793?selected=true |509654014<>walmart<>walmart            |\n",
      "|656661119836<>693342359<>walmart<>walmart            |tractorsupply|dryshod west       |693342359 |https://i5.walmartimages.com/asr/4b79b2eb-4353-4b11-b0df-184ffed0a6e7.ef4e3616f8dd65489288ec99c924f68b.jpeg|https://www.walmart.com/ip/821829793?selected=true |693342359<>walmart<>walmart            |\n",
      "|sku_722146949<>722146949<>walmart<>walmart           |tractorsupply|aerokat            |722146949 |https://i5.walmartimages.com/asr/4b79b2eb-4353-4b11-b0df-184ffed0a6e7.ef4e3616f8dd65489288ec99c924f68b.jpeg|https://www.walmart.com/ip/821829793?selected=true |722146949<>walmart<>walmart            |\n",
      "|sku_753214905<>753214905<>walmart<>walmart           |tractorsupply|aerodawg           |753214905 |https://i5.walmartimages.com/asr/4b79b2eb-4353-4b11-b0df-184ffed0a6e7.ef4e3616f8dd65489288ec99c924f68b.jpeg|https://www.walmart.com/ip/821829793?selected=true |753214905<>walmart<>walmart            |\n",
      "|019035462721<>783011909<>walmart<>walmart            |tractorsupply|handson equine     |783011909 |https://i5.walmartimages.com/asr/4b79b2eb-4353-4b11-b0df-184ffed0a6e7.ef4e3616f8dd65489288ec99c924f68b.jpeg|https://www.walmart.com/ip/821829793?selected=true |783011909<>walmart<>walmart            |\n",
      "|sku_821829793<>821829793<>walmart<>walmart           |tractorsupply|purina             |821829793 |https://i5.walmartimages.com/asr/4b79b2eb-4353-4b11-b0df-184ffed0a6e7.ef4e3616f8dd65489288ec99c924f68b.jpeg|https://www.walmart.com/ip/821829793?selected=true |821829793<>walmart<>walmart            |\n",
      "|807203105262<>83438<>chewy<>chewy                    |tractorsupply|touch              |83438     |https://i5.walmartimages.com/asr/4b79b2eb-4353-4b11-b0df-184ffed0a6e7.ef4e3616f8dd65489288ec99c924f68b.jpeg|https://www.walmart.com/ip/821829793?selected=true |83438<>chewy<>chewy                    |\n",
      "|sku_848389863<>848389863<>walmart<>walmart           |tractorsupply|pro plan           |848389863 |https://i5.walmartimages.com/asr/4b79b2eb-4353-4b11-b0df-184ffed0a6e7.ef4e3616f8dd65489288ec99c924f68b.jpeg|https://www.walmart.com/ip/821829793?selected=true |848389863<>walmart<>walmart            |\n",
      "+-----------------------------------------------------+-------------+-------------------+----------+-----------------------------------------------------------------------------------------------------------+---------------------------------------------------+---------------------------------------+\n",
      "only showing top 20 rows\n",
      "\n",
      "+------------------------------------+---------------------------------------+-------------------+---------------+\n",
      "|sku_uuid_a                          |sku_uuid_b                             |brand_a            |brand_b        |\n",
      "+------------------------------------+---------------------------------------+-------------------+---------------+\n",
      "|1565303<>petco<>petco               |753214905<>walmart<>walmart            |trudell            |aerodawg       |\n",
      "|253665225<>walmart<>walmart         |509654014<>walmart<>walmart            |Perfect-product    |perfect prep eq|\n",
      "|2987697<>petco<>petco               |253665225<>walmart<>walmart            |perfect product llc|Perfect-product|\n",
      "|722146949<>walmart<>walmart         |244029899<>tractorsupply<>tractorsupply|aerokat            |trudell medicin|\n",
      "|783011909<>walmart<>walmart         |442452479<>walmart<>walmart            |handson equine     |handson        |\n",
      "|83438<>chewy<>chewy                 |202146<>chewy<>chewy                   |touch              |averapack      |\n",
      "|917115167<>walmart<>walmart         |146940<>chewy<>chewy                   |apple inc          |apple corp ltd |\n",
      "|pb002554<>entirelypets<>entirelypets|328012055<>walmart<>walmart            |purr               |pro purina     |\n",
      "+------------------------------------+---------------------------------------+-------------------+---------------+\n",
      "\n"
     ]
    }
   ],
   "source": [
    "filtered_crawled_data.show(n=20, truncate=False)\n",
    "filtered_product_matches.show(n=20, truncate=False)"
   ]
  },
  {
   "cell_type": "code",
   "execution_count": 20,
   "metadata": {},
   "outputs": [],
   "source": [
    "def get_store_priority_order():\n",
    "    store_priority_order = [['petcarerx', 0], ['petsmart',1], ['lovegroomers',2], ['ryanspet',3], ['tractorsupplyrx',4], ['californiapetpharmacy',5], ['petsuppliesplus',6], ['petedge',7], ['petmeds',8], ['entirelypetspharmacy',9], ['chewy',10], ['vcahospitals',11], \n",
    "        ['heartlandvetsupply',12], ['petco',13], ['allivet',14], ['smartpakequine',15], ['petflow',16], ['jefferspet',17], ['tractorsupply',18], ['entirelypets',19], ['groomerschoice',20], ['baxterboo',21], ['chewy',22]]\n",
    "    column = ['store','priority']\n",
    "    store_priority_order = spark.createDataFrame(store_priority_order, column)\n",
    "    return store_priority_order"
   ]
  },
  {
   "cell_type": "code",
   "execution_count": 21,
   "metadata": {},
   "outputs": [
    {
     "name": "stdout",
     "output_type": "stream",
     "text": [
      "Generating brand dictionary\n",
      "brand dictionary generated\n",
      "Combning dfs\n"
     ]
    }
   ],
   "source": [
    "store_priority_order = get_store_priority_order()\n",
    "brand_dict = generate_brand_dictionary(filtered_crawled_data, store_priority_order)\n",
    "brand_matches = generate_brand_matches_from_product_matches(filtered_product_matches)"
   ]
  },
  {
   "cell_type": "code",
   "execution_count": null,
   "metadata": {},
   "outputs": [],
   "source": []
  },
  {
   "cell_type": "code",
   "execution_count": 101,
   "metadata": {},
   "outputs": [
    {
     "name": "stdout",
     "output_type": "stream",
     "text": [
      "root\n",
      " |-- crawled_name: string (nullable = true)\n",
      " |-- store_list: array (nullable = false)\n",
      " |    |-- element: string (containsNull = false)\n",
      " |-- product_url_1: string (nullable = true)\n",
      " |-- image_url_1: string (nullable = true)\n",
      " |-- product_url_2: string (nullable = true)\n",
      "\n"
     ]
    }
   ],
   "source": [
    "brand_dict.printSchema()"
   ]
  },
  {
   "cell_type": "code",
   "execution_count": 22,
   "metadata": {},
   "outputs": [],
   "source": [
    "vertice_df = generate_graph_vertices(brand_dict)\n",
    "edge_df = generate_graph_edges(brand_matches)"
   ]
  },
  {
   "cell_type": "code",
   "execution_count": null,
   "metadata": {},
   "outputs": [],
   "source": []
  },
  {
   "cell_type": "code",
   "execution_count": 103,
   "metadata": {},
   "outputs": [
    {
     "name": "stdout",
     "output_type": "stream",
     "text": [
      "root\n",
      " |-- id: string (nullable = true)\n",
      "\n",
      "+--------------------+\n",
      "|                  id|\n",
      "+--------------------+\n",
      "|            dry shod|\n",
      "|           Goodwinol|\n",
      "|             handson|\n",
      "|Pure Sole Hoof Pr...|\n",
      "|               touch|\n",
      "|     perfect prep eq|\n",
      "|               apple|\n",
      "|             trudell|\n",
      "|           apple inc|\n",
      "|            pro plan|\n",
      "|              purina|\n",
      "|          pro purina|\n",
      "|        dryshod west|\n",
      "|                purr|\n",
      "| handson equine. Llc|\n",
      "|     Perfect-product|\n",
      "|             aerokat|\n",
      "|            aerodawg|\n",
      "|      apple corp ltd|\n",
      "|      handson equine|\n",
      "+--------------------+\n",
      "only showing top 20 rows\n",
      "\n",
      "root\n",
      " |-- src: string (nullable = true)\n",
      " |-- dst: string (nullable = true)\n",
      " |-- count: long (nullable = false)\n",
      "\n",
      "+-------------------+-------------------+-----+\n",
      "|                src|                dst|count|\n",
      "+-------------------+-------------------+-----+\n",
      "|           aerodawg|            trudell|    1|\n",
      "|     handson equine|            handson|    1|\n",
      "|            handson|     handson equine|    1|\n",
      "|          apple inc|     apple corp ltd|    1|\n",
      "|         pro purina|               purr|    1|\n",
      "|            aerokat|    trudell medicin|    1|\n",
      "|     apple corp ltd|          apple inc|    1|\n",
      "|               purr|         pro purina|    1|\n",
      "|    trudell medicin|            aerokat|    1|\n",
      "|    Perfect-product|    perfect prep eq|    1|\n",
      "|    Perfect-product|perfect product llc|    1|\n",
      "|              touch|          averapack|    1|\n",
      "|    perfect prep eq|    Perfect-product|    1|\n",
      "|            trudell|           aerodawg|    1|\n",
      "|          averapack|              touch|    1|\n",
      "|perfect product llc|    Perfect-product|    1|\n",
      "+-------------------+-------------------+-----+\n",
      "\n"
     ]
    }
   ],
   "source": [
    "vertice_df.printSchema()\n",
    "vertice_df.show()\n",
    "edge_df.printSchema()\n",
    "edge_df.show()\n"
   ]
  },
  {
   "cell_type": "code",
   "execution_count": 104,
   "metadata": {},
   "outputs": [
    {
     "name": "stdout",
     "output_type": "stream",
     "text": [
      "root\n",
      " |-- id: string (nullable = true)\n",
      "\n"
     ]
    }
   ],
   "source": [
    "vertice_df.printSchema()"
   ]
  },
  {
   "cell_type": "code",
   "execution_count": 105,
   "metadata": {},
   "outputs": [
    {
     "name": "stdout",
     "output_type": "stream",
     "text": [
      "root\n",
      " |-- src: string (nullable = true)\n",
      " |-- dst: string (nullable = true)\n",
      " |-- count: long (nullable = false)\n",
      "\n"
     ]
    }
   ],
   "source": [
    "edge_df.printSchema()"
   ]
  },
  {
   "attachments": {},
   "cell_type": "markdown",
   "metadata": {},
   "source": [
    "<h2>Graph Generation</h2>\n"
   ]
  },
  {
   "cell_type": "code",
   "execution_count": 23,
   "metadata": {},
   "outputs": [
    {
     "name": "stderr",
     "output_type": "stream",
     "text": [
      "                                                                                \r"
     ]
    },
    {
     "name": "stdout",
     "output_type": "stream",
     "text": [
      "+--------------------+\n",
      "|             cluster|\n",
      "+--------------------+\n",
      "|[trudell medicin,...|\n",
      "|[perfect prep eq,...|\n",
      "|[handson, handson...|\n",
      "|[apple corp ltd, ...|\n",
      "|  [averapack, touch]|\n",
      "| [aerodawg, trudell]|\n",
      "|  [purr, pro purina]|\n",
      "+--------------------+\n",
      "\n"
     ]
    }
   ],
   "source": [
    "brand_graph = Graph(vertice_df, edge_df)\n",
    "brand_cluster = brand_graph.generate_filtered_clusters()\n",
    "brand_cluster.show()\n",
    "# brand_cluster['id_set']\n"
   ]
  },
  {
   "cell_type": "code",
   "execution_count": 24,
   "metadata": {},
   "outputs": [],
   "source": [
    "def generate_existing_graph(aurora_db_data):\n",
    "    if aurora_db_data == None:\n",
    "        return None\n",
    "    old_cluster = aurora_db_data.select(aurora_db_data.crawled_name.alias('brand'), aurora_db_data.cluster_id.cast(IntegerType()).alias('id'))\n",
    "    return old_cluster"
   ]
  },
  {
   "cell_type": "code",
   "execution_count": 25,
   "metadata": {},
   "outputs": [],
   "source": [
    "def get_brnads_in_db(aurora_db_df):\n",
    "    if aurora_db_df == None:\n",
    "        return [] \n",
    "    \n",
    "    db_brands = aurora_db_df.rdd.map(lambda df: df.crawled_name).collect()\n",
    "    return db_brands"
   ]
  },
  {
   "cell_type": "code",
   "execution_count": 26,
   "metadata": {},
   "outputs": [],
   "source": [
    "cluster_s3_path = '/home/preacher/Bungee/CodeRepo/kaushik_forked_repo/kaushik_dev/bnt/data_set/insertion_brand_match_cluster/part-00000-4222cd0d-b04a-480d-af9e-32b64ff331e8-c000.csv'"
   ]
  },
  {
   "cell_type": "code",
   "execution_count": 27,
   "metadata": {},
   "outputs": [
    {
     "name": "stdout",
     "output_type": "stream",
     "text": [
      "15\n"
     ]
    },
    {
     "data": {
      "text/plain": [
       "DataFrame[brand: string, id: int]"
      ]
     },
     "execution_count": 27,
     "metadata": {},
     "output_type": "execute_result"
    }
   ],
   "source": [
    "aurora_db_data = get_data_from_aurora_db(s3_bucket, cluster_s3_path) #if run_type == 'DAILY' else None\n",
    "old_brand_cluster = generate_existing_graph(aurora_db_data)\n",
    "db_brand_list = get_brnads_in_db(aurora_db_data)\n",
    "old_brand_cluster\n",
    "# old_brand_cluster['old_id','old_brand']//exploded brand_id cluster"
   ]
  },
  {
   "cell_type": "code",
   "execution_count": 28,
   "metadata": {},
   "outputs": [
    {
     "data": {
      "text/plain": [
       "['dry shod',\n",
       " 'handson',\n",
       " 'perfect prep eq',\n",
       " 'apple',\n",
       " 'apple inc',\n",
       " 'pro plan',\n",
       " 'purina',\n",
       " 'pro purina',\n",
       " 'dryshod west',\n",
       " 'purr',\n",
       " 'handson equine. Llc',\n",
       " 'Perfect-product',\n",
       " 'aerokat',\n",
       " 'aerodawg',\n",
       " 'handson equine']"
      ]
     },
     "execution_count": 28,
     "metadata": {},
     "output_type": "execute_result"
    }
   ],
   "source": [
    "db_brand_list"
   ]
  },
  {
   "cell_type": "code",
   "execution_count": 137,
   "metadata": {},
   "outputs": [
    {
     "name": "stdout",
     "output_type": "stream",
     "text": [
      "+-------------------+---+\n",
      "|              brand| id|\n",
      "+-------------------+---+\n",
      "|           dry shod|  7|\n",
      "|            handson|  6|\n",
      "|    perfect prep eq|  2|\n",
      "|              apple|  3|\n",
      "|          apple inc|  3|\n",
      "|           pro plan|  4|\n",
      "|             purina|  5|\n",
      "|         pro purina|  4|\n",
      "|       dryshod west|  7|\n",
      "|               purr|  5|\n",
      "|handson equine. Llc|  6|\n",
      "|    Perfect-product|  2|\n",
      "|            aerokat|  1|\n",
      "|           aerodawg|  1|\n",
      "|     handson equine|  6|\n",
      "+-------------------+---+\n",
      "\n",
      "root\n",
      " |-- brand: string (nullable = true)\n",
      " |-- id: integer (nullable = true)\n",
      "\n"
     ]
    }
   ],
   "source": [
    "old_brand_cluster.show()\n",
    "old_brand_cluster.printSchema()"
   ]
  },
  {
   "cell_type": "code",
   "execution_count": 138,
   "metadata": {},
   "outputs": [
    {
     "name": "stdout",
     "output_type": "stream",
     "text": [
      "+---+----------------------------------------------+\n",
      "|id |collect_set(brand)                            |\n",
      "+---+----------------------------------------------+\n",
      "|1  |[aerodawg, aerokat]                           |\n",
      "|6  |[handson equine. Llc, handson, handson equine]|\n",
      "|3  |[apple, apple inc]                            |\n",
      "|5  |[purina, purr]                                |\n",
      "|4  |[pro plan, pro purina]                        |\n",
      "|7  |[dry shod, dryshod west]                      |\n",
      "|2  |[perfect prep eq, Perfect-product]            |\n",
      "+---+----------------------------------------------+\n",
      "\n"
     ]
    }
   ],
   "source": [
    "old_brand_cluster.groupBy('id').agg(collect_set('brand')).show(truncate=False)"
   ]
  },
  {
   "cell_type": "code",
   "execution_count": 139,
   "metadata": {},
   "outputs": [
    {
     "name": "stdout",
     "output_type": "stream",
     "text": [
      "+-------------------------------------------------------+\n",
      "|cluster                                                |\n",
      "+-------------------------------------------------------+\n",
      "|[trudell medicin, aerokat]                             |\n",
      "|[perfect prep eq, perfect product llc, Perfect-product]|\n",
      "|[handson, handson equine]                              |\n",
      "|[apple corp ltd, apple inc]                            |\n",
      "|[averapack, touch]                                     |\n",
      "|[aerodawg, trudell]                                    |\n",
      "|[purr, pro purina]                                     |\n",
      "+-------------------------------------------------------+\n",
      "\n"
     ]
    }
   ],
   "source": [
    "brand_cluster.show(truncate=False)"
   ]
  },
  {
   "cell_type": "markdown",
   "metadata": {},
   "source": [
    "<h2>Brand normalization</h2>"
   ]
  },
  {
   "cell_type": "code",
   "execution_count": 29,
   "metadata": {},
   "outputs": [
    {
     "name": "stdout",
     "output_type": "stream",
     "text": [
      "Getting ids for new uuids\n",
      "Combning dfs\n",
      "Combning dfs\n"
     ]
    },
    {
     "name": "stderr",
     "output_type": "stream",
     "text": [
      "                                                                                \r"
     ]
    },
    {
     "name": "stdout",
     "output_type": "stream",
     "text": [
      "Combning dfs\n",
      "Combning dfs\n"
     ]
    }
   ],
   "source": [
    "\n",
    "bnt = Brand_normalization(brand_cluster, old_brand_cluster)\n",
    "new_brand_cluster, updated_brand_cluster = bnt.generate_brand_clusters()\n",
    "merged_brand_cluster = bnt.get_updated_brand_cluster()"
   ]
  },
  {
   "cell_type": "code",
   "execution_count": 165,
   "metadata": {},
   "outputs": [
    {
     "name": "stdout",
     "output_type": "stream",
     "text": [
      "root\n",
      " |-- id: long (nullable = false)\n",
      " |-- brand: string (nullable = false)\n",
      "\n",
      "+---+---------+\n",
      "|id |brand    |\n",
      "+---+---------+\n",
      "|12 |averapack|\n",
      "|12 |touch    |\n",
      "+---+---------+\n",
      "\n"
     ]
    }
   ],
   "source": [
    "new_brand_cluster.printSchema()\n",
    "new_brand_cluster.show(truncate=False, n = 50)"
   ]
  },
  {
   "cell_type": "code",
   "execution_count": 166,
   "metadata": {},
   "outputs": [
    {
     "name": "stdout",
     "output_type": "stream",
     "text": [
      "root\n",
      " |-- id: long (nullable = true)\n",
      " |-- brand: string (nullable = false)\n",
      "\n",
      "+---+-------------------+\n",
      "|id |brand              |\n",
      "+---+-------------------+\n",
      "|1  |trudell medicin    |\n",
      "|1  |trudell            |\n",
      "|3  |apple corp ltd     |\n",
      "|2  |perfect product llc|\n",
      "|4  |purina             |\n",
      "|4  |purr               |\n",
      "+---+-------------------+\n",
      "\n"
     ]
    }
   ],
   "source": [
    "updated_brand_cluster.printSchema()\n",
    "updated_brand_cluster.show(truncate=False, n = 50)"
   ]
  },
  {
   "cell_type": "code",
   "execution_count": 167,
   "metadata": {},
   "outputs": [
    {
     "name": "stdout",
     "output_type": "stream",
     "text": [
      "root\n",
      " |-- id: long (nullable = true)\n",
      " |-- brand: string (nullable = true)\n",
      "\n",
      "+---+-------------------+\n",
      "|id |brand              |\n",
      "+---+-------------------+\n",
      "|2  |Perfect-product    |\n",
      "|1  |aerodawg           |\n",
      "|1  |aerokat            |\n",
      "|3  |apple              |\n",
      "|3  |apple inc          |\n",
      "|7  |dry shod           |\n",
      "|7  |dryshod west       |\n",
      "|6  |handson            |\n",
      "|6  |handson equine     |\n",
      "|6  |handson equine. Llc|\n",
      "|2  |perfect prep eq    |\n",
      "|4  |pro plan           |\n",
      "|4  |pro purina         |\n",
      "|1  |trudell medicin    |\n",
      "|1  |trudell            |\n",
      "|3  |apple corp ltd     |\n",
      "|2  |perfect product llc|\n",
      "|4  |purina             |\n",
      "|4  |purr               |\n",
      "|12 |averapack          |\n",
      "|12 |touch              |\n",
      "+---+-------------------+\n",
      "\n"
     ]
    }
   ],
   "source": [
    "merged_brand_cluster.printSchema()\n",
    "merged_brand_cluster.show(truncate=False, n = 50)"
   ]
  },
  {
   "cell_type": "markdown",
   "metadata": {},
   "source": [
    "<h1>CONVERT TO DB SCHEMA</h1>"
   ]
  },
  {
   "cell_type": "code",
   "execution_count": 40,
   "metadata": {},
   "outputs": [],
   "source": [
    "insertion_brnads_a, updation_brnads_a = convert_to_database_schema(new_brand_cluster, brand_dict, db_brand_list, 'BC')\n",
    "insertion_brnads_b, updation_brnads_b = convert_to_database_schema(updated_brand_cluster, brand_dict,db_brand_list, 'BC')"
   ]
  },
  {
   "cell_type": "code",
   "execution_count": 41,
   "metadata": {},
   "outputs": [
    {
     "name": "stdout",
     "output_type": "stream",
     "text": [
      "+----------+------------+------+-----------+------------+--------------------+--------------------+-------------+----------+\n",
      "|cluster_id|crawled_name|source|     status|updated_date|       product_url_1|         image_url_1|product_url_2|query_type|\n",
      "+----------+------------+------+-----------+------------+--------------------+--------------------+-------------+----------+\n",
      "|        12|       touch|    BC|IN_PROGRESS|  2022-12-29|https://www.walma...|https://i5.walmar...|         null|         I|\n",
      "|        12|   averapack|    BC|IN_PROGRESS|  2022-12-29|https://www.walma...|https://i5.walmar...|         null|         I|\n",
      "+----------+------------+------+-----------+------------+--------------------+--------------------+-------------+----------+\n",
      "\n",
      "+----------+------------+------+------+------------+-------------+-----------+-------------+----------+\n",
      "|cluster_id|crawled_name|source|status|updated_date|product_url_1|image_url_1|product_url_2|query_type|\n",
      "+----------+------------+------+------+------------+-------------+-----------+-------------+----------+\n",
      "+----------+------------+------+------+------------+-------------+-----------+-------------+----------+\n",
      "\n",
      "+----------+-------------------+------+-----------+------------+--------------------+--------------------+-------------+----------+\n",
      "|cluster_id|       crawled_name|source|     status|updated_date|       product_url_1|         image_url_1|product_url_2|query_type|\n",
      "+----------+-------------------+------+-----------+------------+--------------------+--------------------+-------------+----------+\n",
      "|         1|            trudell|    BC|IN_PROGRESS|  2022-12-29|https://www.walma...|https://i5.walmar...|         null|         I|\n",
      "|         3|     apple corp ltd|    BC|IN_PROGRESS|  2022-12-29|https://www.walma...|https://i5.walmar...|         null|         I|\n",
      "|         1|    trudell medicin|    BC|IN_PROGRESS|  2022-12-29|https://www.walma...|https://i5.walmar...|         null|         I|\n",
      "|         2|perfect product llc|    BC|IN_PROGRESS|  2022-12-29|https://www.walma...|https://i5.walmar...|         null|         I|\n",
      "+----------+-------------------+------+-----------+------------+--------------------+--------------------+-------------+----------+\n",
      "\n",
      "+----------+------------+------+-----------+------------+--------------------+--------------------+-------------+----------+\n",
      "|cluster_id|crawled_name|source|     status|updated_date|       product_url_1|         image_url_1|product_url_2|query_type|\n",
      "+----------+------------+------+-----------+------------+--------------------+--------------------+-------------+----------+\n",
      "|         4|      purina|    BC|IN_PROGRESS|  2022-12-29|https://www.walma...|https://i5.walmar...|         null|         U|\n",
      "|         4|        purr|    BC|IN_PROGRESS|  2022-12-29|https://www.walma...|https://i5.walmar...|         null|         U|\n",
      "+----------+------------+------+-----------+------------+--------------------+--------------------+-------------+----------+\n",
      "\n"
     ]
    }
   ],
   "source": [
    "insertion_brnads_a.show()\n",
    "updation_brnads_a.show()\n",
    "insertion_brnads_b.show()\n",
    "updation_brnads_b.show()\n"
   ]
  },
  {
   "cell_type": "markdown",
   "metadata": {},
   "source": [
    "<h1>SAVING DF TO S3</h1>"
   ]
  },
  {
   "cell_type": "code",
   "execution_count": null,
   "metadata": {},
   "outputs": [],
   "source": [
    "saving_s3_bucket = '/home/preacher/Bungee/CodeRepo/kaushik_forked_repo/kaushik_dev/bnt/data_set/'"
   ]
  },
  {
   "cell_type": "code",
   "execution_count": 169,
   "metadata": {},
   "outputs": [
    {
     "name": "stdout",
     "output_type": "stream",
     "text": [
      "+----------+------------+------+-----------+------------+--------------------+--------------------+-------------+\n",
      "|cluster_id|crawled_name|source|     status|updated_date|       product_url_1|         image_url_1|product_url_2|\n",
      "+----------+------------+------+-----------+------------+--------------------+--------------------+-------------+\n",
      "|        12|       touch|    EM|IN_PROGRESS|  2022-12-29|https://www.walma...|https://i5.walmar...|         null|\n",
      "|        12|   averapack|    EM|IN_PROGRESS|  2022-12-29|https://www.walma...|https://i5.walmar...|         null|\n",
      "+----------+------------+------+-----------+------------+--------------------+--------------------+-------------+\n",
      "\n"
     ]
    }
   ],
   "source": [
    "\n",
    "new_ids_brand_cluster.show()\n",
    "# new_ids_brand_cluster = new_ids_brand_cluster.drop('store_list')"
   ]
  },
  {
   "cell_type": "code",
   "execution_count": 170,
   "metadata": {},
   "outputs": [
    {
     "name": "stdout",
     "output_type": "stream",
     "text": [
      "+----------+-------------------+------+-----------+------------+--------------------+--------------------+-------------+\n",
      "|cluster_id|       crawled_name|source|     status|updated_date|       product_url_1|         image_url_1|product_url_2|\n",
      "+----------+-------------------+------+-----------+------------+--------------------+--------------------+-------------+\n",
      "|         1|    trudell medicin|    EM|IN_PROGRESS|  2022-12-29|https://www.walma...|https://i5.walmar...|         null|\n",
      "|         1|            trudell|    EM|IN_PROGRESS|  2022-12-29|https://www.walma...|https://i5.walmar...|         null|\n",
      "|         3|     apple corp ltd|    EM|IN_PROGRESS|  2022-12-29|https://www.walma...|https://i5.walmar...|         null|\n",
      "|         2|perfect product llc|    EM|IN_PROGRESS|  2022-12-29|https://www.walma...|https://i5.walmar...|         null|\n",
      "|         4|             purina|    EM|IN_PROGRESS|  2022-12-29|https://www.walma...|https://i5.walmar...|         null|\n",
      "|         4|               purr|    EM|IN_PROGRESS|  2022-12-29|https://www.walma...|https://i5.walmar...|         null|\n",
      "+----------+-------------------+------+-----------+------------+--------------------+--------------------+-------------+\n",
      "\n"
     ]
    }
   ],
   "source": [
    "updated_ids_brand_cluster.show()\n"
   ]
  },
  {
   "cell_type": "code",
   "execution_count": null,
   "metadata": {},
   "outputs": [],
   "source": [
    "new_ids_brand_cluster_file_key = 'insertion_brand_match_cluster'\n",
    "saving_df_to_s3(new_ids_brand_cluster, saving_s3_bucket, new_ids_brand_cluster_file_key)"
   ]
  },
  {
   "cell_type": "code",
   "execution_count": null,
   "metadata": {},
   "outputs": [],
   "source": [
    "updated_ids_brand_cluster = 'updation_brand_match_cluster'\n",
    "saving_df_to_s3(new_ids_brand_cluster)"
   ]
  },
  {
   "attachments": {},
   "cell_type": "markdown",
   "metadata": {},
   "source": [
    "<h1>STRING CLUSTERING</h1>"
   ]
  },
  {
   "cell_type": "code",
   "execution_count": null,
   "metadata": {},
   "outputs": [
    {
     "name": "stdout",
     "output_type": "stream",
     "text": [
      "+---+-------------------+\n",
      "| id|              brand|\n",
      "+---+-------------------+\n",
      "|  1|           aerodawg|\n",
      "|  1|            aerokat|\n",
      "|  2|    perfect prep eq|\n",
      "|  2|    Perfect-product|\n",
      "|  3|              apple|\n",
      "|  3|          apple inc|\n",
      "|  4|           pro plan|\n",
      "|  4|         pro purina|\n",
      "|  5|             purina|\n",
      "|  5|               purr|\n",
      "|  6|handson equine. Llc|\n",
      "|  6|            handson|\n",
      "|  6|     handson equine|\n",
      "|  7|           dry shod|\n",
      "|  7|       dryshod west|\n",
      "+---+-------------------+\n",
      "\n"
     ]
    }
   ],
   "source": [
    "final_brand_cluster.show()"
   ]
  },
  {
   "cell_type": "code",
   "execution_count": null,
   "metadata": {},
   "outputs": [
    {
     "name": "stdout",
     "output_type": "stream",
     "text": [
      "root\n",
      " |-- brand_cluster: array (nullable = true)\n",
      " |    |-- element: string (containsNull = true)\n",
      "\n",
      "Getting ids for new uuids\n"
     ]
    }
   ],
   "source": [
    "str_cluster = String_Clustering(final_brand_cluster, brand_dict)\n",
    "string_cluster = str_cluster.cluster_unnormalized_brands()\n",
    "unclustered_brands = str_cluster.get_unclustered_brands()"
   ]
  },
  {
   "cell_type": "code",
   "execution_count": null,
   "metadata": {},
   "outputs": [
    {
     "name": "stdout",
     "output_type": "stream",
     "text": [
      "+---+--------------------+\n",
      "| id|               brand|\n",
      "+---+--------------------+\n",
      "|  8|Pure Sole Hoof Pr...|\n",
      "|  8| Pure Sole Products |\n",
      "+---+--------------------+\n",
      "\n"
     ]
    }
   ],
   "source": [
    "string_cluster.show()"
   ]
  },
  {
   "cell_type": "code",
   "execution_count": null,
   "metadata": {},
   "outputs": [
    {
     "name": "stdout",
     "output_type": "stream",
     "text": [
      "+---------+\n",
      "|    brand|\n",
      "+---------+\n",
      "|Goodwinol|\n",
      "+---------+\n",
      "\n"
     ]
    }
   ],
   "source": [
    "unclustered_brands.show()"
   ]
  },
  {
   "cell_type": "markdown",
   "metadata": {},
   "source": [
    "<h1> Saving string cluster to s3</h1>"
   ]
  },
  {
   "cell_type": "code",
   "execution_count": null,
   "metadata": {},
   "outputs": [],
   "source": []
  },
  {
   "cell_type": "code",
   "execution_count": null,
   "metadata": {},
   "outputs": [],
   "source": [
    "string_cluster_db_format = convert_to_database_schema(string_cluster, brand_dict, 'SC')\n",
    "# unclustered_brands_db_format = convert_to_database_schema(unclustered_brands, brand_dict, 'UC')"
   ]
  },
  {
   "cell_type": "code",
   "execution_count": null,
   "metadata": {},
   "outputs": [
    {
     "name": "stdout",
     "output_type": "stream",
     "text": [
      "+----------+--------------------+------+-----------+------------+--------------------+--------------------+-------------+\n",
      "|cluster_id|        crawled_name|source|     status|updated_date|       product_url_1|         image_url_1|product_url_2|\n",
      "+----------+--------------------+------+-----------+------------+--------------------+--------------------+-------------+\n",
      "|         8|Pure Sole Hoof Pr...|    SC|IN_PROGRESS|  2022-12-28|https://www.walma...|https://i5.walmar...|         null|\n",
      "|         8| Pure Sole Products |    SC|IN_PROGRESS|  2022-12-28|https://www.walma...|https://i5.walmar...|         null|\n",
      "+----------+--------------------+------+-----------+------------+--------------------+--------------------+-------------+\n",
      "\n"
     ]
    }
   ],
   "source": [
    "\n",
    "string_cluster_db_format.show()"
   ]
  },
  {
   "cell_type": "code",
   "execution_count": null,
   "metadata": {},
   "outputs": [],
   "source": [
    "string_cluster_file_key = 'updation_string_cluster_file_key'\n",
    "saving_df_to_s3(string_cluster_db_format, saving_s3_bucket, string_cluster_file_key)"
   ]
  },
  {
   "cell_type": "code",
   "execution_count": null,
   "metadata": {},
   "outputs": [],
   "source": []
  },
  {
   "cell_type": "code",
   "execution_count": null,
   "metadata": {},
   "outputs": [],
   "source": []
  },
  {
   "cell_type": "code",
   "execution_count": null,
   "metadata": {},
   "outputs": [],
   "source": []
  },
  {
   "cell_type": "code",
   "execution_count": null,
   "metadata": {},
   "outputs": [],
   "source": []
  },
  {
   "cell_type": "code",
   "execution_count": null,
   "metadata": {},
   "outputs": [],
   "source": []
  },
  {
   "cell_type": "code",
   "execution_count": null,
   "metadata": {},
   "outputs": [],
   "source": []
  },
  {
   "cell_type": "code",
   "execution_count": null,
   "metadata": {},
   "outputs": [],
   "source": []
  },
  {
   "cell_type": "code",
   "execution_count": null,
   "metadata": {},
   "outputs": [],
   "source": []
  },
  {
   "cell_type": "code",
   "execution_count": null,
   "metadata": {},
   "outputs": [],
   "source": []
  },
  {
   "cell_type": "code",
   "execution_count": null,
   "metadata": {},
   "outputs": [],
   "source": []
  },
  {
   "cell_type": "code",
   "execution_count": null,
   "metadata": {},
   "outputs": [],
   "source": []
  },
  {
   "cell_type": "code",
   "execution_count": null,
   "metadata": {},
   "outputs": [
    {
     "name": "stdout",
     "output_type": "stream",
     "text": [
      "root\n",
      " |-- brand: string (nullable = true)\n",
      "\n"
     ]
    }
   ],
   "source": [
    "acx.printSchema()"
   ]
  },
  {
   "cell_type": "code",
   "execution_count": null,
   "metadata": {},
   "outputs": [
    {
     "name": "stdout",
     "output_type": "stream",
     "text": [
      "root\n",
      " |-- id: long (nullable = false)\n",
      " |-- brand: string (nullable = true)\n",
      "\n"
     ]
    }
   ],
   "source": [
    "strcluster.printSchema()"
   ]
  },
  {
   "cell_type": "code",
   "execution_count": null,
   "metadata": {},
   "outputs": [],
   "source": [
    "def get_data_from_aurora_db():\n",
    "    db_url = \"jdbc:postgresql://sandbox-db-cluster.cluster-cf6pgrepnkpy.us-east-1.rds.amazonaws.com:5432/BungeeMatchPool\"\n",
    "    table_name = \"brand_standardization\"\n",
    "    db_username = \"postgres\"\n",
    "    db_password = \"Bungee_sand_rds_2021!\"\n",
    "    df = glueContext.read.format(\"jdbc\").option(\"url\", db_url).option(\"dbtable\", table_name).option(\"user\", db_username).option(\"password\", db_password).load()\n",
    "    return df"
   ]
  },
  {
   "cell_type": "code",
   "execution_count": null,
   "metadata": {},
   "outputs": [],
   "source": []
  },
  {
   "cell_type": "code",
   "execution_count": null,
   "metadata": {},
   "outputs": [],
   "source": []
  },
  {
   "cell_type": "code",
   "execution_count": null,
   "metadata": {},
   "outputs": [],
   "source": [
    "df = final_brand_cluster.groupBy('cluster_id').agg(collect_set('brand').alias('clusters'))"
   ]
  },
  {
   "cell_type": "code",
   "execution_count": null,
   "metadata": {},
   "outputs": [
    {
     "name": "stdout",
     "output_type": "stream",
     "text": [
      "+----------+--------------------+\n",
      "|cluster_id|            clusters|\n",
      "+----------+--------------------+\n",
      "|         1|[Magnetic Pedigre...|\n",
      "|         2|[Ark Naturals, Fu...|\n",
      "|         3|        [3M, 3M,3M™]|\n",
      "|         4|[4BF For Best Fri...|\n",
      "|         5|[4x4 North Americ...|\n",
      "|         6|[A&E Cage Co., A&...|\n",
      "|         7|   [AA Aquarium, AA]|\n",
      "|         8|[ABDragons, Black...|\n",
      "|         9|[CareFRESH, Caref...|\n",
      "|        10|[ADM Animal Nutri...|\n",
      "|        11|[AMIGO, Rambo, Ho...|\n",
      "|        12|[API, Aquarium Ph...|\n",
      "|        13|[DP Hunter, ASL S...|\n",
      "|        14|[Worldwide, Absorbz]|\n",
      "|        15|[Lannett Company,...|\n",
      "|        16|[Minocycline, Suc...|\n",
      "|        17|[FELIWAY, Synovi,...|\n",
      "|        18|[Addiction Foods,...|\n",
      "|        19|[Adventure Medica...|\n",
      "|        20|[AERODAWG, AeroDa...|\n",
      "+----------+--------------------+\n",
      "only showing top 20 rows\n",
      "\n"
     ]
    }
   ],
   "source": [
    "df.show()"
   ]
  },
  {
   "cell_type": "code",
   "execution_count": null,
   "metadata": {},
   "outputs": [],
   "source": [
    "df = df.filter(size(col(\"clusters\"))<20)\n"
   ]
  },
  {
   "cell_type": "code",
   "execution_count": null,
   "metadata": {},
   "outputs": [
    {
     "data": {
      "text/plain": [
       "668"
      ]
     },
     "execution_count": 59,
     "metadata": {},
     "output_type": "execute_result"
    }
   ],
   "source": [
    "df.count()"
   ]
  },
  {
   "cell_type": "code",
   "execution_count": null,
   "metadata": {},
   "outputs": [],
   "source": [
    "df = df.withColumn(\"clusters_str\",concat_ws(\",\",col(\"clusters\"))).drop('clusters')\n"
   ]
  },
  {
   "cell_type": "code",
   "execution_count": null,
   "metadata": {},
   "outputs": [
    {
     "name": "stdout",
     "output_type": "stream",
     "text": [
      "+----------+--------------------+\n",
      "|cluster_id|        clusters_str|\n",
      "+----------+--------------------+\n",
      "|         1|Magnetic Pedigree...|\n",
      "|         3|           3M,3M,3M™|\n",
      "|         4|4BF For Best Frie...|\n",
      "|         5|4x4 North America...|\n",
      "|         6|A&E Cage Co.,A&E ...|\n",
      "|         7|      AA Aquarium,AA|\n",
      "|         8|ABDragons,Black C...|\n",
      "|         9|CareFRESH,Carefre...|\n",
      "|        10|ADM Animal Nutrit...|\n",
      "|        11|AMIGO,Rambo,Horse...|\n",
      "|        12|API,Aquarium Phar...|\n",
      "|        13|DP Hunter,ASL Sol...|\n",
      "|        14|   Worldwide,Absorbz|\n",
      "|        15|Lannett Company,A...|\n",
      "|        16|Minocycline,Sucra...|\n",
      "|        17|FELIWAY,Synovi,Do...|\n",
      "|        18|Addiction Foods,A...|\n",
      "|        19|Adventure Medical...|\n",
      "|        20|AERODAWG,AeroDawg...|\n",
      "|        21|Alen,Alen Breathe...|\n",
      "+----------+--------------------+\n",
      "only showing top 20 rows\n",
      "\n"
     ]
    }
   ],
   "source": [
    "df.show()"
   ]
  },
  {
   "cell_type": "code",
   "execution_count": null,
   "metadata": {},
   "outputs": [],
   "source": [
    "final_brand_cluster.write.mode(\"overwrite\").option(\"header\",True).csv('/home/preacher/Bungee/bnt/data_set/saas_team/cluster_for_back_tracking')"
   ]
  },
  {
   "cell_type": "code",
   "execution_count": null,
   "metadata": {},
   "outputs": [],
   "source": [
    "final_brand_cluster.write.mode(\"overwrite\").option(\"header\",True).parquet('/home/preacher/Bungee/bnt/data_set/saas_team/clusters')"
   ]
  },
  {
   "cell_type": "code",
   "execution_count": null,
   "metadata": {},
   "outputs": [
    {
     "ename": "AnalysisException",
     "evalue": "CSV data source does not support array<string> data type.",
     "output_type": "error",
     "traceback": [
      "\u001b[0;31m---------------------------------------------------------------------------\u001b[0m",
      "\u001b[0;31mAnalysisException\u001b[0m                         Traceback (most recent call last)",
      "\u001b[1;32m/home/preacher/Bungee/CodeRepo/kaushik_forked_repo/kaushik_dev/bnt/fianal_bnt_algo.ipynb Cell 34\u001b[0m in \u001b[0;36m<cell line: 1>\u001b[0;34m()\u001b[0m\n\u001b[0;32m----> <a href='vscode-notebook-cell:/home/preacher/Bungee/CodeRepo/kaushik_forked_repo/kaushik_dev/bnt/fianal_bnt_algo.ipynb#X50sZmlsZQ%3D%3D?line=0'>1</a>\u001b[0m final_brand_cluster\u001b[39m.\u001b[39;49mwrite\u001b[39m.\u001b[39;49mmode(\u001b[39m\"\u001b[39;49m\u001b[39moverwrite\u001b[39;49m\u001b[39m\"\u001b[39;49m)\u001b[39m.\u001b[39;49moption(\u001b[39m\"\u001b[39;49m\u001b[39mheader\u001b[39;49m\u001b[39m\"\u001b[39;49m,\u001b[39mTrue\u001b[39;49;00m)\u001b[39m.\u001b[39;49mcsv(\u001b[39m'\u001b[39;49m\u001b[39m/home/preacher/Bungee/bnt/data_set/saas_team/save_to_db\u001b[39;49m\u001b[39m'\u001b[39;49m)\n",
      "File \u001b[0;32m~/anaconda3/envs/deltarun/lib/python3.9/site-packages/pyspark/sql/readwriter.py:955\u001b[0m, in \u001b[0;36mDataFrameWriter.csv\u001b[0;34m(self, path, mode, compression, sep, quote, escape, header, nullValue, escapeQuotes, quoteAll, dateFormat, timestampFormat, ignoreLeadingWhiteSpace, ignoreTrailingWhiteSpace, charToEscapeQuoteEscaping, encoding, emptyValue, lineSep)\u001b[0m\n\u001b[1;32m    947\u001b[0m \u001b[39mself\u001b[39m\u001b[39m.\u001b[39mmode(mode)\n\u001b[1;32m    948\u001b[0m \u001b[39mself\u001b[39m\u001b[39m.\u001b[39m_set_opts(compression\u001b[39m=\u001b[39mcompression, sep\u001b[39m=\u001b[39msep, quote\u001b[39m=\u001b[39mquote, escape\u001b[39m=\u001b[39mescape, header\u001b[39m=\u001b[39mheader,\n\u001b[1;32m    949\u001b[0m                nullValue\u001b[39m=\u001b[39mnullValue, escapeQuotes\u001b[39m=\u001b[39mescapeQuotes, quoteAll\u001b[39m=\u001b[39mquoteAll,\n\u001b[1;32m    950\u001b[0m                dateFormat\u001b[39m=\u001b[39mdateFormat, timestampFormat\u001b[39m=\u001b[39mtimestampFormat,\n\u001b[0;32m   (...)\u001b[0m\n\u001b[1;32m    953\u001b[0m                charToEscapeQuoteEscaping\u001b[39m=\u001b[39mcharToEscapeQuoteEscaping,\n\u001b[1;32m    954\u001b[0m                encoding\u001b[39m=\u001b[39mencoding, emptyValue\u001b[39m=\u001b[39memptyValue, lineSep\u001b[39m=\u001b[39mlineSep)\n\u001b[0;32m--> 955\u001b[0m \u001b[39mself\u001b[39;49m\u001b[39m.\u001b[39;49m_jwrite\u001b[39m.\u001b[39;49mcsv(path)\n",
      "File \u001b[0;32m~/anaconda3/envs/deltarun/lib/python3.9/site-packages/py4j/java_gateway.py:1321\u001b[0m, in \u001b[0;36mJavaMember.__call__\u001b[0;34m(self, *args)\u001b[0m\n\u001b[1;32m   1315\u001b[0m command \u001b[39m=\u001b[39m proto\u001b[39m.\u001b[39mCALL_COMMAND_NAME \u001b[39m+\u001b[39m\\\n\u001b[1;32m   1316\u001b[0m     \u001b[39mself\u001b[39m\u001b[39m.\u001b[39mcommand_header \u001b[39m+\u001b[39m\\\n\u001b[1;32m   1317\u001b[0m     args_command \u001b[39m+\u001b[39m\\\n\u001b[1;32m   1318\u001b[0m     proto\u001b[39m.\u001b[39mEND_COMMAND_PART\n\u001b[1;32m   1320\u001b[0m answer \u001b[39m=\u001b[39m \u001b[39mself\u001b[39m\u001b[39m.\u001b[39mgateway_client\u001b[39m.\u001b[39msend_command(command)\n\u001b[0;32m-> 1321\u001b[0m return_value \u001b[39m=\u001b[39m get_return_value(\n\u001b[1;32m   1322\u001b[0m     answer, \u001b[39mself\u001b[39;49m\u001b[39m.\u001b[39;49mgateway_client, \u001b[39mself\u001b[39;49m\u001b[39m.\u001b[39;49mtarget_id, \u001b[39mself\u001b[39;49m\u001b[39m.\u001b[39;49mname)\n\u001b[1;32m   1324\u001b[0m \u001b[39mfor\u001b[39;00m temp_arg \u001b[39min\u001b[39;00m temp_args:\n\u001b[1;32m   1325\u001b[0m     temp_arg\u001b[39m.\u001b[39m_detach()\n",
      "File \u001b[0;32m~/anaconda3/envs/deltarun/lib/python3.9/site-packages/pyspark/sql/utils.py:117\u001b[0m, in \u001b[0;36mcapture_sql_exception.<locals>.deco\u001b[0;34m(*a, **kw)\u001b[0m\n\u001b[1;32m    113\u001b[0m converted \u001b[39m=\u001b[39m convert_exception(e\u001b[39m.\u001b[39mjava_exception)\n\u001b[1;32m    114\u001b[0m \u001b[39mif\u001b[39;00m \u001b[39mnot\u001b[39;00m \u001b[39misinstance\u001b[39m(converted, UnknownException):\n\u001b[1;32m    115\u001b[0m     \u001b[39m# Hide where the exception came from that shows a non-Pythonic\u001b[39;00m\n\u001b[1;32m    116\u001b[0m     \u001b[39m# JVM exception message.\u001b[39;00m\n\u001b[0;32m--> 117\u001b[0m     \u001b[39mraise\u001b[39;00m converted \u001b[39mfrom\u001b[39;00m \u001b[39mNone\u001b[39m\n\u001b[1;32m    118\u001b[0m \u001b[39melse\u001b[39;00m:\n\u001b[1;32m    119\u001b[0m     \u001b[39mraise\u001b[39;00m\n",
      "\u001b[0;31mAnalysisException\u001b[0m: CSV data source does not support array<string> data type."
     ]
    }
   ],
   "source": [
    "final_brand_cluster.write.mode(\"overwrite\").option(\"header\",True).csv('/home/preacher/Bungee/bnt/data_set/saas_team/save_to_db')"
   ]
  },
  {
   "cell_type": "code",
   "execution_count": null,
   "metadata": {},
   "outputs": [
    {
     "name": "stdout",
     "output_type": "stream",
     "text": [
      "+----------+--------------------+--------------------+\n",
      "|cluster_id|               brand|   source_store_list|\n",
      "+----------+--------------------+--------------------+\n",
      "|        15|       Acetazolamide|       [chewy_chewy]|\n",
      "|         2|        Ethical Pets|   [walmart_walmart]|\n",
      "|       328|            Necoichi|[chewy_chewy, wal...|\n",
      "|         2|              Zuke's|[chewy_chewy, pet...|\n",
      "|       251|           long rich|     [amazon_amazon]|\n",
      "|        27|               Andis|[chewy_chewy, pet...|\n",
      "|        74|    Bluebonnet Feeds|[chewy_chewy, wal...|\n",
      "|       161|EQyss Grooming Pr...|       [chewy_chewy]|\n",
      "|         2|          Fussie Cat|[chewy_chewy, ama...|\n",
      "|         2|Old Mother Hubbar...|     [target_target]|\n",
      "|         2|             Prozyme|[entirelypets_ent...|\n",
      "|         2|                ROAM|[petsmart_petsmar...|\n",
      "|       410|             Rep-Cal|[chewy_chewy, pet...|\n",
      "|        89|       Byer of Maine|       [chewy_chewy]|\n",
      "|         2|    Central Aquatics|   [walmart_walmart]|\n",
      "|         2|         Clavacillin|       [chewy_chewy]|\n",
      "|         2|              Innova|[tractorsupplyrx_...|\n",
      "|         2|            Pet-Tabs|[petmeds_petmeds,...|\n",
      "|         2|               Petco|[amazon_amazon, p...|\n",
      "|       479|    Variety Pet Food|   [walmart_walmart]|\n",
      "+----------+--------------------+--------------------+\n",
      "only showing top 20 rows\n",
      "\n"
     ]
    }
   ],
   "source": [
    "final_brand_cluster.show()"
   ]
  },
  {
   "cell_type": "code",
   "execution_count": null,
   "metadata": {},
   "outputs": [],
   "source": []
  },
  {
   "cell_type": "code",
   "execution_count": null,
   "metadata": {},
   "outputs": [
    {
     "name": "stdout",
     "output_type": "stream",
     "text": [
      "root\n",
      " |-- cluster_id: long (nullable = false)\n",
      " |-- brand: string (nullable = true)\n",
      " |-- store_name_list: array (nullable = false)\n",
      " |    |-- element: string (containsNull = false)\n",
      "\n"
     ]
    }
   ],
   "source": [
    "final_brand_cluster.printSchema()\n",
    "brands = final_brand_cluster.select(\"cluster_id\", 'brand')\n",
    "brand_set = brands.groupBy('cluster_id').agg(collect_set('brand').alias(\"brand_list\"))"
   ]
  },
  {
   "cell_type": "code",
   "execution_count": null,
   "metadata": {},
   "outputs": [],
   "source": [
    "brand_set = brand_set.withColumn('set_length', size(col(\"brand_list\")))"
   ]
  },
  {
   "cell_type": "code",
   "execution_count": null,
   "metadata": {},
   "outputs": [
    {
     "name": "stdout",
     "output_type": "stream",
     "text": [
      "root\n",
      " |-- id_set: array (nullable = false)\n",
      " |    |-- element: string (containsNull = false)\n",
      " |-- cluster_size: integer (nullable = false)\n",
      "\n"
     ]
    },
    {
     "name": "stderr",
     "output_type": "stream",
     "text": [
      "[Stage 502:=============================================>         (25 + 5) / 30]\r"
     ]
    },
    {
     "name": "stdout",
     "output_type": "stream",
     "text": [
      "+------------+--------------------+\n",
      "|cluster_size|          brand_list|\n",
      "+------------+--------------------+\n",
      "|        5304|OLA,Vanderpump Pe...|\n",
      "|           3|Pure Sole Product...|\n",
      "|           2|     Stroodies,Skoon|\n",
      "|           2|Contender,KineticVet|\n",
      "|           2|   Schlueter,Waikato|\n",
      "|           5|AeroDawg,AeroKat,...|\n",
      "|           2|Alen BreatheSmart...|\n",
      "|           2|Goodwinol,Goodwin...|\n",
      "|           3|HandsOn Equine,Ha...|\n",
      "|           2|RELIQ,Amerisource...|\n",
      "|           2|Farrier's Fix,Far...|\n",
      "|           2|Squire Laboratori...|\n",
      "|           2|I-Lid 'n Lash,I-M...|\n",
      "|           2|Van Beek Natural ...|\n",
      "|           2|FENCEMASTER Kenne...|\n",
      "|           2|The Petz Kitchen,...|\n",
      "|           2|This and That Can...|\n",
      "|           2|    Sassy,Sassy Woof|\n",
      "|           2|Claudia's Canine ...|\n",
      "|           2|GLC Direct,GLC Di...|\n",
      "+------------+--------------------+\n",
      "only showing top 20 rows\n",
      "\n"
     ]
    },
    {
     "name": "stderr",
     "output_type": "stream",
     "text": [
      "                                                                                \r"
     ]
    }
   ],
   "source": [
    "brand_cluster.printSchema()\n",
    "brand_set = brand_cluster.withColumn('brand_list', concat_ws(\",\", col('id_set'))).drop('id_set')\n",
    "brand_set.show()"
   ]
  },
  {
   "cell_type": "code",
   "execution_count": null,
   "metadata": {},
   "outputs": [
    {
     "name": "stdout",
     "output_type": "stream",
     "text": [
      "root\n",
      " |-- cluster_size: integer (nullable = false)\n",
      " |-- brand_list: string (nullable = false)\n",
      "\n"
     ]
    }
   ],
   "source": [
    "brand_set.printSchema()"
   ]
  },
  {
   "cell_type": "code",
   "execution_count": null,
   "metadata": {},
   "outputs": [
    {
     "name": "stderr",
     "output_type": "stream",
     "text": [
      "                                                                                \r"
     ]
    }
   ],
   "source": [
    "brand_set.write.mode(\"overwrite\").option(\"header\",True).csv('/home/preacher/Bungee/bnt/data_set/saas_team/intitial_output')"
   ]
  },
  {
   "cell_type": "code",
   "execution_count": null,
   "metadata": {},
   "outputs": [
    {
     "name": "stdout",
     "output_type": "stream",
     "text": [
      "root\n",
      " |-- brand_a: string (nullable = true)\n",
      " |-- brand_b: string (nullable = true)\n",
      " |-- count: long (nullable = false)\n",
      "\n"
     ]
    }
   ],
   "source": [
    "brand_matches.printSchema()"
   ]
  },
  {
   "cell_type": "code",
   "execution_count": null,
   "metadata": {},
   "outputs": [
    {
     "name": "stderr",
     "output_type": "stream",
     "text": [
      "                                                                                \r"
     ]
    },
    {
     "name": "stdout",
     "output_type": "stream",
     "text": [
      "40909\n"
     ]
    },
    {
     "name": "stderr",
     "output_type": "stream",
     "text": [
      "[Stage 612:==================================================>    (24 + 2) / 26]\r"
     ]
    },
    {
     "name": "stdout",
     "output_type": "stream",
     "text": [
      "36942\n"
     ]
    },
    {
     "name": "stderr",
     "output_type": "stream",
     "text": [
      "                                                                                \r"
     ]
    }
   ],
   "source": [
    "print(brand_matches.count())\n",
    "print(brand_matches.dropna().count())"
   ]
  },
  {
   "cell_type": "code",
   "execution_count": null,
   "metadata": {},
   "outputs": [
    {
     "name": "stderr",
     "output_type": "stream",
     "text": [
      "                                                                                \r"
     ]
    }
   ],
   "source": [
    "brand_matches.write.mode(\"overwrite\").option(\"header\",True).csv('/home/preacher/Bungee/bnt/data_set/saas_team/weighted_brand_matches')"
   ]
  },
  {
   "cell_type": "code",
   "execution_count": null,
   "metadata": {},
   "outputs": [
    {
     "name": "stdout",
     "output_type": "stream",
     "text": [
      "root\n",
      " |-- brand: string (nullable = true)\n",
      " |-- brand_info: array (nullable = false)\n",
      " |    |-- element: struct (containsNull = false)\n",
      " |    |    |-- store_name: string (nullable = true)\n",
      " |    |    |-- product_url: string (nullable = true)\n",
      " |    |    |-- image_url: string (nullable = true)\n",
      "\n"
     ]
    }
   ],
   "source": [
    "brand_dict.printSchema()"
   ]
  },
  {
   "cell_type": "code",
   "execution_count": null,
   "metadata": {},
   "outputs": [
    {
     "ename": "AnalysisException",
     "evalue": "cannot resolve 'concat_ws(',', brand_info)' due to data type mismatch: argument 2 requires (array<string> or string) type, however, 'brand_info' is of array<struct<store_name:string,product_url:string,image_url:string>> type.;\n'Project [brand#81, brand_info#17010, concat_ws(,, brand_info#17010) AS brand_info_str#23774]\n+- Aggregate [brand#81], [brand#81, collect_set(struct(store_name, store_name#80, product_url, product_url#84, image_url, image_url#83), 0, 0) AS brand_info#17010]\n   +- Deduplicate [brand#81, store_name#80]\n      +- Project [store_name#80, brand#81, image_url#83, product_url#84]\n         +- Filter atleastnnonnulls(1, brand#81)\n            +- Deduplicate [sku_uuid#16521]\n               +- Project [uuid#79, store_name#80, brand#81, sku#82, image_url#83, product_url#84, create_sku_uuid(uuid#79) AS sku_uuid#16521]\n                  +- Filter store_name#80 IN (petcarerx,petsmart,lovegroomers,ryanspet,tractorsupplyrx,californiapetpharmacy,petsuppliesplus,petedge,petmeds,entirelypetspharmacy,chewy,vcahospitals,heartlandvetsupply,petco,allivet,smartpakequine,petflow,jefferspet,tractorsupply,entirelypets,groomerschoice,baxterboo,chewy)\n                     +- Relation [uuid#79,store_name#80,brand#81,sku#82,image_url#83,product_url#84] csv\n",
     "output_type": "error",
     "traceback": [
      "\u001b[0;31m---------------------------------------------------------------------------\u001b[0m",
      "\u001b[0;31mAnalysisException\u001b[0m                         Traceback (most recent call last)",
      "\u001b[1;32m/home/preacher/Bungee/CodeRepo/kaushik_forked_repo/kaushik_dev/bnt/fianal_bnt_algo.ipynb Cell 71\u001b[0m in \u001b[0;36m<cell line: 1>\u001b[0;34m()\u001b[0m\n\u001b[0;32m----> <a href='vscode-notebook-cell:/home/preacher/Bungee/CodeRepo/kaushik_forked_repo/kaushik_dev/bnt/fianal_bnt_algo.ipynb#Y136sZmlsZQ%3D%3D?line=0'>1</a>\u001b[0m brand_dist_to_store \u001b[39m=\u001b[39m brand_dict\u001b[39m.\u001b[39;49mwithColumn(\u001b[39m'\u001b[39;49m\u001b[39mbrand_info_str\u001b[39;49m\u001b[39m'\u001b[39;49m, concat_ws(\u001b[39m\"\u001b[39;49m\u001b[39m,\u001b[39;49m\u001b[39m\"\u001b[39;49m, col(\u001b[39m'\u001b[39;49m\u001b[39mbrand_info\u001b[39;49m\u001b[39m'\u001b[39;49m)))\u001b[39m.\u001b[39mdrop(\u001b[39m'\u001b[39m\u001b[39mbrand_info\u001b[39m\u001b[39m'\u001b[39m)\n",
      "File \u001b[0;32m~/anaconda3/envs/deltarun/lib/python3.9/site-packages/pyspark/sql/dataframe.py:2478\u001b[0m, in \u001b[0;36mDataFrame.withColumn\u001b[0;34m(self, colName, col)\u001b[0m\n\u001b[1;32m   2476\u001b[0m \u001b[39mif\u001b[39;00m \u001b[39mnot\u001b[39;00m \u001b[39misinstance\u001b[39m(col, Column):\n\u001b[1;32m   2477\u001b[0m     \u001b[39mraise\u001b[39;00m \u001b[39mTypeError\u001b[39;00m(\u001b[39m\"\u001b[39m\u001b[39mcol should be Column\u001b[39m\u001b[39m\"\u001b[39m)\n\u001b[0;32m-> 2478\u001b[0m \u001b[39mreturn\u001b[39;00m DataFrame(\u001b[39mself\u001b[39;49m\u001b[39m.\u001b[39;49m_jdf\u001b[39m.\u001b[39;49mwithColumn(colName, col\u001b[39m.\u001b[39;49m_jc), \u001b[39mself\u001b[39m\u001b[39m.\u001b[39msql_ctx)\n",
      "File \u001b[0;32m~/anaconda3/envs/deltarun/lib/python3.9/site-packages/py4j/java_gateway.py:1321\u001b[0m, in \u001b[0;36mJavaMember.__call__\u001b[0;34m(self, *args)\u001b[0m\n\u001b[1;32m   1315\u001b[0m command \u001b[39m=\u001b[39m proto\u001b[39m.\u001b[39mCALL_COMMAND_NAME \u001b[39m+\u001b[39m\\\n\u001b[1;32m   1316\u001b[0m     \u001b[39mself\u001b[39m\u001b[39m.\u001b[39mcommand_header \u001b[39m+\u001b[39m\\\n\u001b[1;32m   1317\u001b[0m     args_command \u001b[39m+\u001b[39m\\\n\u001b[1;32m   1318\u001b[0m     proto\u001b[39m.\u001b[39mEND_COMMAND_PART\n\u001b[1;32m   1320\u001b[0m answer \u001b[39m=\u001b[39m \u001b[39mself\u001b[39m\u001b[39m.\u001b[39mgateway_client\u001b[39m.\u001b[39msend_command(command)\n\u001b[0;32m-> 1321\u001b[0m return_value \u001b[39m=\u001b[39m get_return_value(\n\u001b[1;32m   1322\u001b[0m     answer, \u001b[39mself\u001b[39;49m\u001b[39m.\u001b[39;49mgateway_client, \u001b[39mself\u001b[39;49m\u001b[39m.\u001b[39;49mtarget_id, \u001b[39mself\u001b[39;49m\u001b[39m.\u001b[39;49mname)\n\u001b[1;32m   1324\u001b[0m \u001b[39mfor\u001b[39;00m temp_arg \u001b[39min\u001b[39;00m temp_args:\n\u001b[1;32m   1325\u001b[0m     temp_arg\u001b[39m.\u001b[39m_detach()\n",
      "File \u001b[0;32m~/anaconda3/envs/deltarun/lib/python3.9/site-packages/pyspark/sql/utils.py:117\u001b[0m, in \u001b[0;36mcapture_sql_exception.<locals>.deco\u001b[0;34m(*a, **kw)\u001b[0m\n\u001b[1;32m    113\u001b[0m converted \u001b[39m=\u001b[39m convert_exception(e\u001b[39m.\u001b[39mjava_exception)\n\u001b[1;32m    114\u001b[0m \u001b[39mif\u001b[39;00m \u001b[39mnot\u001b[39;00m \u001b[39misinstance\u001b[39m(converted, UnknownException):\n\u001b[1;32m    115\u001b[0m     \u001b[39m# Hide where the exception came from that shows a non-Pythonic\u001b[39;00m\n\u001b[1;32m    116\u001b[0m     \u001b[39m# JVM exception message.\u001b[39;00m\n\u001b[0;32m--> 117\u001b[0m     \u001b[39mraise\u001b[39;00m converted \u001b[39mfrom\u001b[39;00m \u001b[39mNone\u001b[39m\n\u001b[1;32m    118\u001b[0m \u001b[39melse\u001b[39;00m:\n\u001b[1;32m    119\u001b[0m     \u001b[39mraise\u001b[39;00m\n",
      "\u001b[0;31mAnalysisException\u001b[0m: cannot resolve 'concat_ws(',', brand_info)' due to data type mismatch: argument 2 requires (array<string> or string) type, however, 'brand_info' is of array<struct<store_name:string,product_url:string,image_url:string>> type.;\n'Project [brand#81, brand_info#17010, concat_ws(,, brand_info#17010) AS brand_info_str#23774]\n+- Aggregate [brand#81], [brand#81, collect_set(struct(store_name, store_name#80, product_url, product_url#84, image_url, image_url#83), 0, 0) AS brand_info#17010]\n   +- Deduplicate [brand#81, store_name#80]\n      +- Project [store_name#80, brand#81, image_url#83, product_url#84]\n         +- Filter atleastnnonnulls(1, brand#81)\n            +- Deduplicate [sku_uuid#16521]\n               +- Project [uuid#79, store_name#80, brand#81, sku#82, image_url#83, product_url#84, create_sku_uuid(uuid#79) AS sku_uuid#16521]\n                  +- Filter store_name#80 IN (petcarerx,petsmart,lovegroomers,ryanspet,tractorsupplyrx,californiapetpharmacy,petsuppliesplus,petedge,petmeds,entirelypetspharmacy,chewy,vcahospitals,heartlandvetsupply,petco,allivet,smartpakequine,petflow,jefferspet,tractorsupply,entirelypets,groomerschoice,baxterboo,chewy)\n                     +- Relation [uuid#79,store_name#80,brand#81,sku#82,image_url#83,product_url#84] csv\n"
     ]
    }
   ],
   "source": [
    "brand_dist_to_store = brand_dict.withColumn('brand_info_str', concat_ws(\",\", col('brand_info'))).drop('brand_info')\n"
   ]
  },
  {
   "cell_type": "code",
   "execution_count": null,
   "metadata": {},
   "outputs": [
    {
     "name": "stderr",
     "output_type": "stream",
     "text": [
      "                                                                                \r"
     ]
    }
   ],
   "source": [
    "brand_dict.write.mode(\"overwrite\").option(\"header\",True).parquet('/home/preacher/Bungee/bnt/data_set/saas_team/brand_dict')"
   ]
  }
 ],
 "metadata": {
  "kernelspec": {
   "display_name": "Python 3",
   "language": "python",
   "name": "python3"
  },
  "language_info": {
   "codemirror_mode": {
    "name": "ipython",
    "version": 3
   },
   "file_extension": ".py",
   "mimetype": "text/x-python",
   "name": "python",
   "nbconvert_exporter": "python",
   "pygments_lexer": "ipython3",
   "version": "3.10.6 (main, Nov 14 2022, 16:10:14) [GCC 11.3.0]"
  },
  "orig_nbformat": 4,
  "vscode": {
   "interpreter": {
    "hash": "916dbcbb3f70747c44a77c7bcd40155683ae19c65e1c03b4aa3499c5328201f1"
   }
  }
 },
 "nbformat": 4,
 "nbformat_minor": 2
}
