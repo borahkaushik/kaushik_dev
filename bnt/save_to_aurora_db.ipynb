{
 "cells": [
  {
   "cell_type": "code",
   "execution_count": 3,
   "metadata": {},
   "outputs": [],
   "source": [
    "import sys\n",
    "import logging\n",
    "import pymysql as sq\n",
    "import boto3\n",
    "import psycopg2\n",
    "import pandas as pd\n",
    "import json\n",
    "import http"
   ]
  },
  {
   "cell_type": "code",
   "execution_count": 2,
   "metadata": {},
   "outputs": [],
   "source": [
    "ENDPOINT = \"sandbox-db-cluster.cluster-cf6pgrepnkpy.us-east-1.rds.amazonaws.com\"\n",
    "PORT = 5432\n",
    "USR = \"postgres\"\n",
    "REGION = \"us-east-1\"\n",
    "DBNAME = \"BungeeMatchPool\"\n",
    "PASS= \"Bungee_sand_rds_2021!\"\n",
    "db_table_name = \"brand_standardization\"\n"
   ]
  },
  {
   "cell_type": "code",
   "execution_count": 150,
   "metadata": {},
   "outputs": [],
   "source": [
    "\n",
    "def connect_to_database():\n",
    "    try:\n",
    "        ENDPOINT = \"sandbox-db-cluster.cluster-cf6pgrepnkpy.us-east-1.rds.amazonaws.com\"\n",
    "        PORT = 5432\n",
    "        USR = \"postgres\"\n",
    "        DBNAME = \"BungeeMatchPool\"\n",
    "        PASS= \"Bungee_sand_rds_2021!\"\n",
    "        conn = psycopg2.connect(host=ENDPOINT, port=PORT, database=DBNAME, user=USR, password=PASS)\n",
    "        \n",
    "        return conn\n",
    "        # cur.execute(\"\"\"SELECT * from brand_standardization\"\"\")\n",
    "        # query_results = cur.fetchall()\n",
    "        # print(f'Query results: {query_results}')\n",
    "        # print(type(query_results))\n",
    "    \n",
    "    except Exception as error:\n",
    "        print(f'in Creating connection ! {error}')"
   ]
  },
  {
   "cell_type": "code",
   "execution_count": 15,
   "metadata": {},
   "outputs": [],
   "source": []
  },
  {
   "cell_type": "code",
   "execution_count": 13,
   "metadata": {},
   "outputs": [],
   "source": [
    "def open_file(s3_bucket, s3_key):    \n",
    "    print(\"Importing file from s3\")\n",
    "    path = 's3://{}/{}'.format(s3_bucket, s3_key)\n",
    "    print('IMporting file from {}'.format(path))\n",
    "    df = pd.read_parquet(path=s3_key)\n",
    "    df = df[[\"cluster_id\", \"crawled_name\", \"source\", \"status\", \"updated_date\", \"product_url_1\", \"image_url_1\", \"product_url_2\"]]\n",
    "    df = df.fillna(\"\")\n",
    "    df.insert(2, \"standard_name\", \"\")\n",
    "    df.rename(columns = {'image_url_1':'image_url'}, inplace = True)\n",
    "    print(\"File loaded sucessfully :\", len(df.index))\n",
    "    return df\n",
    "   "
   ]
  },
  {
   "cell_type": "code",
   "execution_count": 148,
   "metadata": {},
   "outputs": [],
   "source": [
    "def show_db( table_name):\n",
    "    db_connection = connect_to_database()\n",
    "    cur = db_connection.cursor()\n",
    "    cur.execute(\"\"\"SELECT * from brand_standardization\"\"\")\n",
    "    query_results = cur.fetchall()\n",
    "    print(f'Query results: {query_results}')\n",
    "    print(len(query_results))\n",
    "    db_connection.close()"
   ]
  },
  {
   "cell_type": "code",
   "execution_count": 149,
   "metadata": {},
   "outputs": [],
   "source": [
    "def execute_db_query( query):\n",
    "    db_connection = connect_to_database()\n",
    "    cur = db_connection.cursor()\n",
    "    print('executing query', query)\n",
    "    try : \n",
    "        cur.execute(query)\n",
    "        db_connection.commit()\n",
    "        print('executing finished successfully')\n",
    "        db_connection.close()\n",
    "    except Exception as e:\n",
    "        print(e)\n",
    "        db_connection.close ()\n",
    "    "
   ]
  },
  {
   "cell_type": "code",
   "execution_count": 15,
   "metadata": {},
   "outputs": [
    {
     "name": "stdout",
     "output_type": "stream",
     "text": [
      "Importing file from s3\n",
      "IMporting file from s3:////home/preacher/Bungee/bnt/sample_update_brands.parquet\n",
      "File loaded sucessfully : 10\n"
     ]
    }
   ],
   "source": [
    "\n",
    "updated_brand_Cluster = open_file('', '/home/preacher/Bungee/bnt/sample_update_brands.parquet')"
   ]
  },
  {
   "cell_type": "code",
   "execution_count": 265,
   "metadata": {},
   "outputs": [],
   "source": [
    "def get_db_query(source_df,  target_db_table, action):\n",
    "\n",
    "    string_dtypes = source_df.convert_dtypes().select_dtypes(\"string\")\n",
    "    source_df[string_dtypes.columns] = string_dtypes.apply(lambda x: x.str.replace(\"'\",\"''\")).apply(lambda x: x.str.strip('\"\\' '))\n",
    "#     source_df[string_dtypes.columns] = string_dtypes.\n",
    "    if action == 'INSERT':\n",
    "        print(\"Generating insert query\")\n",
    "        query  = 'INSERT INTO '+target_db_table+' ('+ str(', '.join(source_df.columns))+ ') VALUES '\n",
    "        for index, row in source_df.iterrows():\n",
    "            query = query + str(tuple(row.values)) + ','\n",
    "        query = query[:-1]\n",
    "\n",
    "    elif action == 'UPDATE':\n",
    "        print(\"Generating update query\")\n",
    "        source_df.insert(2, \"user_id\", \"\")\n",
    "        source_df.insert(2, \"current_step\", \"\")\n",
    "        query = \"UPDATE \"+ target_db_table+ \" SET \"\n",
    "        for column_name in source_df.columns:\n",
    "            if column_name in ['crawled_name']:\n",
    "                continue\n",
    "            if column_name == 'updated_date':\n",
    "                sub_query =  \" \" + column_name + \" = CASE crawled_name \"\n",
    "                for index, row in source_df.iterrows():\n",
    "                    sub_query = sub_query + \"  WHEN '\" + str(row.crawled_name) + \"' THEN TO_TIMESTAMP('\" + str(row[column_name]) + \"', 'YYYY-MM-DD HH24:MI:SS.MS') \"\n",
    "\n",
    "                sub_query = sub_query + \" END,\"\n",
    "                query = query + sub_query\n",
    "            else:\n",
    "                sub_query =  \" \" + column_name + \" = CASE crawled_name \"\n",
    "                for index, row in source_df.iterrows():\n",
    "                    sub_query = sub_query + \"  WHEN '\" + str(row.crawled_name) + \"' THEN '\" + str(row[column_name]) + \"' \"\n",
    "\n",
    "                sub_query = sub_query + \" END,\"\n",
    "                query = query + sub_query\n",
    "\n",
    "\n",
    "        query = query.rstrip(query[-1])\n",
    "\n",
    "        id_list = str(\"', '\".join(source_df.crawled_name))\n",
    "        query  = query + \" WHERE crawled_name in ('\" + id_list + \"') \"\n",
    "\n",
    "\n",
    "    query = query.replace(\"\\\\\",\"\")\n",
    "    print('Query generated')\n",
    "    return query \n"
   ]
  },
  {
   "cell_type": "code",
   "execution_count": 47,
   "metadata": {},
   "outputs": [],
   "source": [
    "table_name = 'brand_standardization'"
   ]
  },
  {
   "cell_type": "code",
   "execution_count": 266,
   "metadata": {},
   "outputs": [],
   "source": [
    "df = updated_brand_Cluster.head(2)"
   ]
  },
  {
   "cell_type": "code",
   "execution_count": 267,
   "metadata": {},
   "outputs": [],
   "source": [
    "df.at[0,'crawled_name']= \"Purnell's \\\"Old Fol\\\"\""
   ]
  },
  {
   "cell_type": "code",
   "execution_count": 262,
   "metadata": {
    "scrolled": true
   },
   "outputs": [
    {
     "data": {
      "text/html": [
       "<div>\n",
       "<style scoped>\n",
       "    .dataframe tbody tr th:only-of-type {\n",
       "        vertical-align: middle;\n",
       "    }\n",
       "\n",
       "    .dataframe tbody tr th {\n",
       "        vertical-align: top;\n",
       "    }\n",
       "\n",
       "    .dataframe thead th {\n",
       "        text-align: right;\n",
       "    }\n",
       "</style>\n",
       "<table border=\"1\" class=\"dataframe\">\n",
       "  <thead>\n",
       "    <tr style=\"text-align: right;\">\n",
       "      <th></th>\n",
       "      <th>cluster_id</th>\n",
       "      <th>crawled_name</th>\n",
       "      <th>standard_name</th>\n",
       "      <th>source</th>\n",
       "      <th>status</th>\n",
       "      <th>updated_date</th>\n",
       "      <th>product_url_1</th>\n",
       "      <th>image_url</th>\n",
       "      <th>product_url_2</th>\n",
       "    </tr>\n",
       "  </thead>\n",
       "  <tbody>\n",
       "    <tr>\n",
       "      <th>0</th>\n",
       "      <td>-1</td>\n",
       "      <td>Purnell's \"Old Fol\"</td>\n",
       "      <td></td>\n",
       "      <td>UC</td>\n",
       "      <td>IN_PROGRESS</td>\n",
       "      <td>2023-01-09 13:19:13.694</td>\n",
       "      <td></td>\n",
       "      <td></td>\n",
       "      <td></td>\n",
       "    </tr>\n",
       "    <tr>\n",
       "      <th>1</th>\n",
       "      <td>-1</td>\n",
       "      <td>\"TBA\"</td>\n",
       "      <td></td>\n",
       "      <td>UC</td>\n",
       "      <td>IN_PROGRESS</td>\n",
       "      <td>2023-01-09 13:19:13.694</td>\n",
       "      <td></td>\n",
       "      <td></td>\n",
       "      <td></td>\n",
       "    </tr>\n",
       "  </tbody>\n",
       "</table>\n",
       "</div>"
      ],
      "text/plain": [
       "   cluster_id         crawled_name standard_name source       status  \\\n",
       "0          -1  Purnell's \"Old Fol\"                   UC  IN_PROGRESS   \n",
       "1          -1                \"TBA\"                   UC  IN_PROGRESS   \n",
       "\n",
       "              updated_date product_url_1 image_url product_url_2  \n",
       "0  2023-01-09 13:19:13.694                                        \n",
       "1  2023-01-09 13:19:13.694                                        "
      ]
     },
     "execution_count": 262,
     "metadata": {},
     "output_type": "execute_result"
    }
   ],
   "source": [
    "df"
   ]
  },
  {
   "cell_type": "code",
   "execution_count": null,
   "metadata": {},
   "outputs": [],
   "source": []
  },
  {
   "cell_type": "code",
   "execution_count": 226,
   "metadata": {},
   "outputs": [],
   "source": [
    "pd.options.mode.chained_assignment = None"
   ]
  },
  {
   "cell_type": "code",
   "execution_count": 227,
   "metadata": {
    "scrolled": true
   },
   "outputs": [],
   "source": []
  },
  {
   "cell_type": "code",
   "execution_count": null,
   "metadata": {},
   "outputs": [],
   "source": []
  },
  {
   "cell_type": "code",
   "execution_count": null,
   "metadata": {
    "scrolled": true
   },
   "outputs": [],
   "source": []
  },
  {
   "cell_type": "code",
   "execution_count": null,
   "metadata": {
    "scrolled": false
   },
   "outputs": [],
   "source": []
  },
  {
   "cell_type": "code",
   "execution_count": 268,
   "metadata": {
    "scrolled": true
   },
   "outputs": [
    {
     "name": "stdout",
     "output_type": "stream",
     "text": [
      "Generating insert query\n",
      "Query generated\n"
     ]
    }
   ],
   "source": [
    "query = get_db_query(df, table_name, 'INSERT')\n",
    "# execute_db_query(query)\n",
    "# show_db( table_name)"
   ]
  },
  {
   "cell_type": "code",
   "execution_count": 269,
   "metadata": {
    "scrolled": false
   },
   "outputs": [
    {
     "name": "stdout",
     "output_type": "stream",
     "text": [
      "INSERT INTO brand_standardization (cluster_id, crawled_name, standard_name, source, status, updated_date, product_url_1, image_url, product_url_2) VALUES (-1, 'Purnell''s \"Old Fol', '', 'UC', 'IN_PROGRESS', '2023-01-09 13:19:13.694', '', '', ''),(-1, 'TBA', '', 'UC', 'IN_PROGRESS', '2023-01-09 13:19:13.694', '', '', '')\n"
     ]
    }
   ],
   "source": [
    "print(query)"
   ]
  },
  {
   "cell_type": "code",
   "execution_count": 235,
   "metadata": {
    "scrolled": true
   },
   "outputs": [],
   "source": [
    "query = query.replace(\"\\\\\",\"\")"
   ]
  },
  {
   "cell_type": "code",
   "execution_count": 236,
   "metadata": {
    "scrolled": true
   },
   "outputs": [
    {
     "name": "stdout",
     "output_type": "stream",
     "text": [
      "INSERT INTO brand_standardization (cluster_id, crawled_name, standard_name, source, status, updated_date, product_url_1, image_url, product_url_2) VALUES (-1, 'Purnell''s \"Old Fol\"', '', 'UC', 'IN_PROGRESS', '2023-01-09 13:19:13.694', '', '', ''),(-1, '\"TBA\"', '', 'UC', 'IN_PROGRESS', '2023-01-09 13:19:13.694', '', '', '')\n"
     ]
    }
   ],
   "source": [
    "print(query)"
   ]
  },
  {
   "cell_type": "code",
   "execution_count": 206,
   "metadata": {},
   "outputs": [],
   "source": [
    "s = 'Kaushik\\'s'"
   ]
  },
  {
   "cell_type": "code",
   "execution_count": 207,
   "metadata": {},
   "outputs": [
    {
     "name": "stdout",
     "output_type": "stream",
     "text": [
      "Kaushik's\n"
     ]
    }
   ],
   "source": [
    "print(s)"
   ]
  },
  {
   "cell_type": "code",
   "execution_count": 208,
   "metadata": {},
   "outputs": [
    {
     "name": "stdout",
     "output_type": "stream",
     "text": [
      "Kaushik''s\n"
     ]
    }
   ],
   "source": [
    "print(s.replace(\"'\",\"''\"))"
   ]
  },
  {
   "cell_type": "code",
   "execution_count": 81,
   "metadata": {},
   "outputs": [],
   "source": [
    "query = query.replace('\"0\"\"isAjaxComplete_B001IOHA8M\"', 'new_brand_1')"
   ]
  },
  {
   "cell_type": "code",
   "execution_count": 82,
   "metadata": {},
   "outputs": [],
   "source": [
    "query = query.replace('\"TBA\"', 'new_brand_2')"
   ]
  },
  {
   "cell_type": "code",
   "execution_count": null,
   "metadata": {},
   "outputs": [],
   "source": []
  },
  {
   "cell_type": "code",
   "execution_count": null,
   "metadata": {},
   "outputs": [],
   "source": [
    "UPDATE brand_standardization SET  cluster_id = CASE crawled_name   WHEN 'purinaagold' THEN '-1'   WHEN 'purinaone' THEN '-1'  END,\n",
    " current_step = CASE crawled_name   WHEN 'purinaagold' THEN ''   WHEN 'purinaone' THEN ''  END,\n",
    " user_id = CASE crawled_name   WHEN 'purinaagold' THEN ''   WHEN 'purinaone' THEN ''  END,\n",
    " standard_name = CASE crawled_name   WHEN 'purinaagold' THEN ''   WHEN 'purinaone' THEN ''  END,\n",
    " source = CASE crawled_name   WHEN 'purinaagold' THEN 'UC'   WHEN 'purinaone' THEN 'UC'  END,\n",
    " status = CASE crawled_name   WHEN 'purinaagold' THEN 'IN_PROGRESS'   WHEN 'purinaone' THEN 'IN_PROGRESS'  END,\n",
    " updated_date = CASE crawled_name   WHEN 'purinaagold' THEN '2023-01-09 13:19:13.694'   WHEN 'purinaone' THEN '2023-01-09 13:19:13.694'  END,\n",
    " product_url_1 = CASE crawled_name   WHEN 'purinaagold' THEN 'new_product_url_1'   WHEN 'purinaone' THEN 'new_product_url_1'  END,\n",
    " image_url = CASE crawled_name   WHEN 'purinaagold' THEN 'new_image_url'   WHEN 'purinaone' THEN 'new_image_url'  END,\n",
    " product_url_2 = CASE crawled_name   WHEN 'purinaagold' THEN 'new_product_url_2'   WHEN 'purinaone' THEN 'new_product_url_2'  END, WHERE crawled_name in ('purinaagold', 'purinaone') "
   ]
  },
  {
   "cell_type": "code",
   "execution_count": null,
   "metadata": {},
   "outputs": [],
   "source": []
  },
  {
   "cell_type": "code",
   "execution_count": 81,
   "metadata": {},
   "outputs": [],
   "source": [
    "new_brand_cluster = open_file('', '/home/preacher/Bungee/bnt/data_set/database/updation.csv')"
   ]
  },
  {
   "cell_type": "code",
   "execution_count": 82,
   "metadata": {},
   "outputs": [
    {
     "data": {
      "text/plain": [
       "Index(['id', 'crawled_name', 'standard_name', 'cluster_id', 'status',\n",
       "       'user_id', 'updated_date', 'source', 'product_url_1', 'product_url_2',\n",
       "       'image_url', 'current_step'],\n",
       "      dtype='object')"
      ]
     },
     "execution_count": 82,
     "metadata": {},
     "output_type": "execute_result"
    }
   ],
   "source": [
    "new_brand_cluster.columns"
   ]
  },
  {
   "cell_type": "code",
   "execution_count": 113,
   "metadata": {},
   "outputs": [
    {
     "name": "stdout",
     "output_type": "stream",
     "text": [
      "UPDATE target_db_table SET \n",
      "\tcrawled_name = CASE id \n",
      "\t\t WHEN '6e49474c-8103-11ed-8410-ebb084c2a71f' THEN 'NUTRO MAX' \n",
      "\t\t WHEN '742b0f74-8103-11ed-8410-ebb084c2a71f' THEN 'NUTRO Ultra' \n",
      "\t\t WHEN 'a67d5688-5ee1-11ed-9f7e-5fce40501278' THEN 'purrrr' \n",
      "\t\t WHEN 'd2a19802-4fbc-11ed-9c57-a181204819a4' THEN 'Purina pro plan' \n",
      "\t\t WHEN '890d0180-5c01-11ed-b331-2b7bf508673' THEN 'Abc' \n",
      "\tEND \n",
      "\tcluster_id = CASE id \n",
      "\t\t WHEN '6e49474c-8103-11ed-8410-ebb084c2a71f' THEN '45' \n",
      "\t\t WHEN '742b0f74-8103-11ed-8410-ebb084c2a71f' THEN '45' \n",
      "\t\t WHEN 'a67d5688-5ee1-11ed-9f7e-5fce40501278' THEN '45' \n",
      "\t\t WHEN 'd2a19802-4fbc-11ed-9c57-a181204819a4' THEN '45' \n",
      "\t\t WHEN '890d0180-5c01-11ed-b331-2b7bf508673' THEN '45' \n",
      "\tEND \n",
      "\tstatus = CASE id \n",
      "\t\t WHEN '6e49474c-8103-11ed-8410-ebb084c2a71f' THEN 'IN_PROGRESS' \n",
      "\t\t WHEN '742b0f74-8103-11ed-8410-ebb084c2a71f' THEN 'IN_PROGRESS' \n",
      "\t\t WHEN 'a67d5688-5ee1-11ed-9f7e-5fce40501278' THEN 'IN_PROGRESS' \n",
      "\t\t WHEN 'd2a19802-4fbc-11ed-9c57-a181204819a4' THEN 'IN_PROGRESS' \n",
      "\t\t WHEN '890d0180-5c01-11ed-b331-2b7bf508673' THEN 'IN_PROGRESS' \n",
      "\tEND \n",
      "\tupdated_date = CASE id \n",
      "\t\t WHEN '6e49474c-8103-11ed-8410-ebb084c2a71f' THEN '2022-12-22T20:17:09.303Z' \n",
      "\t\t WHEN '742b0f74-8103-11ed-8410-ebb084c2a71f' THEN '2022-12-22T20:17:09.303Z' \n",
      "\t\t WHEN 'a67d5688-5ee1-11ed-9f7e-5fce40501278' THEN '2022-12-22T06:23:25.695Z' \n",
      "\t\t WHEN 'd2a19802-4fbc-11ed-9c57-a181204819a4' THEN '2022-12-22T06:23:25.695Z' \n",
      "\t\t WHEN '890d0180-5c01-11ed-b331-2b7bf508673' THEN '2022-12-22T06:23:25.695Z' \n",
      "\tEND \n",
      "\tsource = CASE id \n",
      "\t\t WHEN '6e49474c-8103-11ed-8410-ebb084c2a71f' THEN 'nan' \n",
      "\t\t WHEN '742b0f74-8103-11ed-8410-ebb084c2a71f' THEN 'nan' \n",
      "\t\t WHEN 'a67d5688-5ee1-11ed-9f7e-5fce40501278' THEN 'pc' \n",
      "\t\t WHEN 'd2a19802-4fbc-11ed-9c57-a181204819a4' THEN 'pc' \n",
      "\t\t WHEN '890d0180-5c01-11ed-b331-2b7bf508673' THEN 'pc' \n",
      "\tEND \n",
      " WHERE id in (6e49474c-8103-11ed-8410-ebb084c2a71f, 742b0f74-8103-11ed-8410-ebb084c2a71f, a67d5688-5ee1-11ed-9f7e-5fce40501278, d2a19802-4fbc-11ed-9c57-a181204819a4, 890d0180-5c01-11ed-b331-2b7bf508673) \n"
     ]
    }
   ],
   "source": [
    "target_db_table = 'target_db_table'\n",
    "query = 'UPDATE '+ target_db_table+ ' SET \\n'\n",
    "for column_name in new_brand_cluster.columns:\n",
    "    if column_name in ['id', 'user_id', 'product_url_1', 'product_url_2', 'image_url', 'current_step', 'standard_name']:\n",
    "        continue\n",
    "    sub_query =  '\\t' + column_name + ' = CASE id \\n'\n",
    "    for index, row in new_brand_cluster.iterrows():\n",
    "        sub_query = sub_query + \"\\t\\t WHEN '\" + str(row.id) + \"' THEN '\" + str(row[column_name]) + \"' \\n\"\n",
    "    sub_query = sub_query + '\\tEND \\n'\n",
    "\n",
    "    query = query + sub_query\n",
    "id_list = str(', '.join(new_brand_cluster.id))\n",
    "query  = query + ' WHERE id in (' + id_list + ') '\n",
    "print(query)\n",
    "    "
   ]
  },
  {
   "cell_type": "code",
   "execution_count": null,
   "metadata": {},
   "outputs": [],
   "source": []
  },
  {
   "cell_type": "code",
   "execution_count": 1,
   "metadata": {},
   "outputs": [],
   "source": [
    "import boto3"
   ]
  },
  {
   "cell_type": "code",
   "execution_count": 2,
   "metadata": {},
   "outputs": [],
   "source": [
    "boto3.setup_default_session(\n",
    "    profile_name=\"kaushik\",\n",
    "    region_name=\"us-east-1\"\n",
    "    )\n"
   ]
  },
  {
   "cell_type": "code",
   "execution_count": 9,
   "metadata": {},
   "outputs": [],
   "source": [
    "s3 = boto3.resource('s3')\n",
    "\n",
    "# Get bucket object\n",
    "my_bucket = s3.Bucket('ml-stack.prod')\n",
    "# Iterate over objects in bucket\n",
    "insertion_s3_object_key = []\n",
    "updation_s3_object_key = []\n",
    "for obj in my_bucket.objects.filter(Prefix=\"brand_normalization\"):\n",
    "    \n",
    "    if 'insert' in obj.key:\n",
    "        insertion_s3_object_key.append(obj.key)\n",
    "    elif 'update' in obj.key:\n",
    "        updation_s3_object_key.append(obj.key)\n"
   ]
  },
  {
   "cell_type": "code",
   "execution_count": 10,
   "metadata": {},
   "outputs": [
    {
     "name": "stdout",
     "output_type": "stream",
     "text": [
      "['brand_normalization/leftover_brands/insert/part-00000-2ea9511c-dcaf-4e76-b158-975a662fd038-c000.snappy.parquet', 'brand_normalization/leftover_brands/insert/part-00001-2ea9511c-dcaf-4e76-b158-975a662fd038-c000.snappy.parquet', 'brand_normalization/leftover_brands/insert/part-00002-2ea9511c-dcaf-4e76-b158-975a662fd038-c000.snappy.parquet', 'brand_normalization/leftover_brands/insert/part-00003-2ea9511c-dcaf-4e76-b158-975a662fd038-c000.snappy.parquet', 'brand_normalization/leftover_brands/insert/part-00004-2ea9511c-dcaf-4e76-b158-975a662fd038-c000.snappy.parquet', 'brand_normalization/leftover_brands/insert/part-00005-2ea9511c-dcaf-4e76-b158-975a662fd038-c000.snappy.parquet', 'brand_normalization/leftover_brands/insert/part-00006-2ea9511c-dcaf-4e76-b158-975a662fd038-c000.snappy.parquet', 'brand_normalization/leftover_brands/insert/part-00007-2ea9511c-dcaf-4e76-b158-975a662fd038-c000.snappy.parquet', 'brand_normalization/leftover_brands/insert/part-00008-2ea9511c-dcaf-4e76-b158-975a662fd038-c000.snappy.parquet', 'brand_normalization/leftover_brands/insert/part-00009-2ea9511c-dcaf-4e76-b158-975a662fd038-c000.snappy.parquet', 'brand_normalization/leftover_brands/insert/part-00010-2ea9511c-dcaf-4e76-b158-975a662fd038-c000.snappy.parquet', 'brand_normalization/leftover_brands/insert/part-00011-2ea9511c-dcaf-4e76-b158-975a662fd038-c000.snappy.parquet', 'brand_normalization/leftover_brands/insert/part-00012-2ea9511c-dcaf-4e76-b158-975a662fd038-c000.snappy.parquet', 'brand_normalization/leftover_brands/insert/part-00013-2ea9511c-dcaf-4e76-b158-975a662fd038-c000.snappy.parquet', 'brand_normalization/leftover_brands/insert/part-00014-2ea9511c-dcaf-4e76-b158-975a662fd038-c000.snappy.parquet', 'brand_normalization/leftover_brands/insert/part-00015-2ea9511c-dcaf-4e76-b158-975a662fd038-c000.snappy.parquet', 'brand_normalization/leftover_brands/insert/part-00016-2ea9511c-dcaf-4e76-b158-975a662fd038-c000.snappy.parquet', 'brand_normalization/leftover_brands/insert/part-00017-2ea9511c-dcaf-4e76-b158-975a662fd038-c000.snappy.parquet', 'brand_normalization/leftover_brands/insert/part-00018-2ea9511c-dcaf-4e76-b158-975a662fd038-c000.snappy.parquet', 'brand_normalization/leftover_brands/insert/part-00019-2ea9511c-dcaf-4e76-b158-975a662fd038-c000.snappy.parquet', 'brand_normalization/leftover_brands/insert/part-00020-2ea9511c-dcaf-4e76-b158-975a662fd038-c000.snappy.parquet', 'brand_normalization/leftover_brands/insert/part-00021-2ea9511c-dcaf-4e76-b158-975a662fd038-c000.snappy.parquet', 'brand_normalization/leftover_brands/insert/part-00022-2ea9511c-dcaf-4e76-b158-975a662fd038-c000.snappy.parquet', 'brand_normalization/leftover_brands/insert/part-00023-2ea9511c-dcaf-4e76-b158-975a662fd038-c000.snappy.parquet', 'brand_normalization/leftover_brands/insert/part-00024-2ea9511c-dcaf-4e76-b158-975a662fd038-c000.snappy.parquet', 'brand_normalization/leftover_brands/insert/part-00025-2ea9511c-dcaf-4e76-b158-975a662fd038-c000.snappy.parquet', 'brand_normalization/leftover_brands/insert/part-00026-2ea9511c-dcaf-4e76-b158-975a662fd038-c000.snappy.parquet', 'brand_normalization/leftover_brands/insert/part-00027-2ea9511c-dcaf-4e76-b158-975a662fd038-c000.snappy.parquet', 'brand_normalization/leftover_brands/insert/part-00028-2ea9511c-dcaf-4e76-b158-975a662fd038-c000.snappy.parquet', 'brand_normalization/leftover_brands/insert/part-00029-2ea9511c-dcaf-4e76-b158-975a662fd038-c000.snappy.parquet', 'brand_normalization/leftover_brands/insert/part-00030-2ea9511c-dcaf-4e76-b158-975a662fd038-c000.snappy.parquet', 'brand_normalization/leftover_brands/insert/part-00031-2ea9511c-dcaf-4e76-b158-975a662fd038-c000.snappy.parquet', 'brand_normalization/leftover_brands/insert/part-00032-2ea9511c-dcaf-4e76-b158-975a662fd038-c000.snappy.parquet', 'brand_normalization/leftover_brands/insert/part-00033-2ea9511c-dcaf-4e76-b158-975a662fd038-c000.snappy.parquet', 'brand_normalization/leftover_brands/insert/part-00034-2ea9511c-dcaf-4e76-b158-975a662fd038-c000.snappy.parquet', 'brand_normalization/leftover_brands/insert/part-00035-2ea9511c-dcaf-4e76-b158-975a662fd038-c000.snappy.parquet', 'brand_normalization/new_brand_cluster/insert/part-00000-6b36c831-3780-4fed-af7a-ed59867271d9-c000.snappy.parquet', 'brand_normalization/new_brand_cluster/insert/part-00001-6b36c831-3780-4fed-af7a-ed59867271d9-c000.snappy.parquet', 'brand_normalization/new_brand_cluster/insert/part-00002-6b36c831-3780-4fed-af7a-ed59867271d9-c000.snappy.parquet', 'brand_normalization/new_brand_cluster/insert/part-00003-6b36c831-3780-4fed-af7a-ed59867271d9-c000.snappy.parquet', 'brand_normalization/new_brand_cluster/insert/part-00004-6b36c831-3780-4fed-af7a-ed59867271d9-c000.snappy.parquet', 'brand_normalization/new_brand_cluster/insert/part-00005-6b36c831-3780-4fed-af7a-ed59867271d9-c000.snappy.parquet', 'brand_normalization/new_brand_cluster/insert/part-00006-6b36c831-3780-4fed-af7a-ed59867271d9-c000.snappy.parquet', 'brand_normalization/new_brand_cluster/insert/part-00007-6b36c831-3780-4fed-af7a-ed59867271d9-c000.snappy.parquet', 'brand_normalization/new_brand_cluster/insert/part-00008-6b36c831-3780-4fed-af7a-ed59867271d9-c000.snappy.parquet', 'brand_normalization/new_brand_cluster/insert/part-00009-6b36c831-3780-4fed-af7a-ed59867271d9-c000.snappy.parquet', 'brand_normalization/new_brand_cluster/insert/part-00010-6b36c831-3780-4fed-af7a-ed59867271d9-c000.snappy.parquet', 'brand_normalization/new_brand_cluster/insert/part-00011-6b36c831-3780-4fed-af7a-ed59867271d9-c000.snappy.parquet', 'brand_normalization/new_brand_cluster/insert/part-00012-6b36c831-3780-4fed-af7a-ed59867271d9-c000.snappy.parquet', 'brand_normalization/new_brand_cluster/insert/part-00013-6b36c831-3780-4fed-af7a-ed59867271d9-c000.snappy.parquet', 'brand_normalization/new_brand_cluster/insert/part-00014-6b36c831-3780-4fed-af7a-ed59867271d9-c000.snappy.parquet', 'brand_normalization/new_brand_cluster/insert/part-00015-6b36c831-3780-4fed-af7a-ed59867271d9-c000.snappy.parquet', 'brand_normalization/new_brand_cluster/insert/part-00016-6b36c831-3780-4fed-af7a-ed59867271d9-c000.snappy.parquet', 'brand_normalization/new_brand_cluster/insert/part-00017-6b36c831-3780-4fed-af7a-ed59867271d9-c000.snappy.parquet', 'brand_normalization/new_brand_cluster/insert/part-00018-6b36c831-3780-4fed-af7a-ed59867271d9-c000.snappy.parquet', 'brand_normalization/new_brand_cluster/insert/part-00019-6b36c831-3780-4fed-af7a-ed59867271d9-c000.snappy.parquet', 'brand_normalization/new_brand_cluster/insert/part-00020-6b36c831-3780-4fed-af7a-ed59867271d9-c000.snappy.parquet', 'brand_normalization/new_brand_cluster/insert/part-00021-6b36c831-3780-4fed-af7a-ed59867271d9-c000.snappy.parquet', 'brand_normalization/new_brand_cluster/insert/part-00022-6b36c831-3780-4fed-af7a-ed59867271d9-c000.snappy.parquet', 'brand_normalization/new_brand_cluster/insert/part-00023-6b36c831-3780-4fed-af7a-ed59867271d9-c000.snappy.parquet', 'brand_normalization/new_string_cluster/insert/part-00000-e69b9c4f-55a0-4cb2-9c22-0e7f9e12aea8-c000.snappy.parquet', 'brand_normalization/new_string_cluster/insert/part-00001-e69b9c4f-55a0-4cb2-9c22-0e7f9e12aea8-c000.snappy.parquet', 'brand_normalization/new_string_cluster/insert/part-00002-e69b9c4f-55a0-4cb2-9c22-0e7f9e12aea8-c000.snappy.parquet', 'brand_normalization/new_string_cluster/insert/part-00003-e69b9c4f-55a0-4cb2-9c22-0e7f9e12aea8-c000.snappy.parquet', 'brand_normalization/new_string_cluster/insert/part-00004-e69b9c4f-55a0-4cb2-9c22-0e7f9e12aea8-c000.snappy.parquet', 'brand_normalization/new_string_cluster/insert/part-00005-e69b9c4f-55a0-4cb2-9c22-0e7f9e12aea8-c000.snappy.parquet', 'brand_normalization/new_string_cluster/insert/part-00006-e69b9c4f-55a0-4cb2-9c22-0e7f9e12aea8-c000.snappy.parquet', 'brand_normalization/new_string_cluster/insert/part-00007-e69b9c4f-55a0-4cb2-9c22-0e7f9e12aea8-c000.snappy.parquet', 'brand_normalization/new_string_cluster/insert/part-00008-e69b9c4f-55a0-4cb2-9c22-0e7f9e12aea8-c000.snappy.parquet', 'brand_normalization/new_string_cluster/insert/part-00009-e69b9c4f-55a0-4cb2-9c22-0e7f9e12aea8-c000.snappy.parquet', 'brand_normalization/new_string_cluster/insert/part-00010-e69b9c4f-55a0-4cb2-9c22-0e7f9e12aea8-c000.snappy.parquet', 'brand_normalization/new_string_cluster/insert/part-00011-e69b9c4f-55a0-4cb2-9c22-0e7f9e12aea8-c000.snappy.parquet', 'brand_normalization/new_string_cluster/insert/part-00012-e69b9c4f-55a0-4cb2-9c22-0e7f9e12aea8-c000.snappy.parquet', 'brand_normalization/new_string_cluster/insert/part-00013-e69b9c4f-55a0-4cb2-9c22-0e7f9e12aea8-c000.snappy.parquet', 'brand_normalization/new_string_cluster/insert/part-00014-e69b9c4f-55a0-4cb2-9c22-0e7f9e12aea8-c000.snappy.parquet', 'brand_normalization/new_string_cluster/insert/part-00015-e69b9c4f-55a0-4cb2-9c22-0e7f9e12aea8-c000.snappy.parquet', 'brand_normalization/new_string_cluster/insert/part-00016-e69b9c4f-55a0-4cb2-9c22-0e7f9e12aea8-c000.snappy.parquet', 'brand_normalization/new_string_cluster/insert/part-00017-e69b9c4f-55a0-4cb2-9c22-0e7f9e12aea8-c000.snappy.parquet', 'brand_normalization/new_string_cluster/insert/part-00018-e69b9c4f-55a0-4cb2-9c22-0e7f9e12aea8-c000.snappy.parquet', 'brand_normalization/new_string_cluster/insert/part-00019-e69b9c4f-55a0-4cb2-9c22-0e7f9e12aea8-c000.snappy.parquet', 'brand_normalization/new_string_cluster/insert/part-00020-e69b9c4f-55a0-4cb2-9c22-0e7f9e12aea8-c000.snappy.parquet', 'brand_normalization/new_string_cluster/insert/part-00021-e69b9c4f-55a0-4cb2-9c22-0e7f9e12aea8-c000.snappy.parquet', 'brand_normalization/new_string_cluster/insert/part-00022-e69b9c4f-55a0-4cb2-9c22-0e7f9e12aea8-c000.snappy.parquet', 'brand_normalization/new_string_cluster/insert/part-00023-e69b9c4f-55a0-4cb2-9c22-0e7f9e12aea8-c000.snappy.parquet', 'brand_normalization/unclustered_brands/insert/part-00000-29ed5629-32e0-499c-8f3a-4cdd69decaef-c000.snappy.parquet', 'brand_normalization/unclustered_brands/insert/part-00001-29ed5629-32e0-499c-8f3a-4cdd69decaef-c000.snappy.parquet', 'brand_normalization/unclustered_brands/insert/part-00002-29ed5629-32e0-499c-8f3a-4cdd69decaef-c000.snappy.parquet', 'brand_normalization/unclustered_brands/insert/part-00003-29ed5629-32e0-499c-8f3a-4cdd69decaef-c000.snappy.parquet', 'brand_normalization/unclustered_brands/insert/part-00004-29ed5629-32e0-499c-8f3a-4cdd69decaef-c000.snappy.parquet', 'brand_normalization/unclustered_brands/insert/part-00005-29ed5629-32e0-499c-8f3a-4cdd69decaef-c000.snappy.parquet', 'brand_normalization/unclustered_brands/insert/part-00006-29ed5629-32e0-499c-8f3a-4cdd69decaef-c000.snappy.parquet', 'brand_normalization/unclustered_brands/insert/part-00007-29ed5629-32e0-499c-8f3a-4cdd69decaef-c000.snappy.parquet', 'brand_normalization/unclustered_brands/insert/part-00008-29ed5629-32e0-499c-8f3a-4cdd69decaef-c000.snappy.parquet', 'brand_normalization/unclustered_brands/insert/part-00009-29ed5629-32e0-499c-8f3a-4cdd69decaef-c000.snappy.parquet', 'brand_normalization/unclustered_brands/insert/part-00010-29ed5629-32e0-499c-8f3a-4cdd69decaef-c000.snappy.parquet', 'brand_normalization/unclustered_brands/insert/part-00011-29ed5629-32e0-499c-8f3a-4cdd69decaef-c000.snappy.parquet', 'brand_normalization/unclustered_brands/insert/part-00012-29ed5629-32e0-499c-8f3a-4cdd69decaef-c000.snappy.parquet', 'brand_normalization/unclustered_brands/insert/part-00013-29ed5629-32e0-499c-8f3a-4cdd69decaef-c000.snappy.parquet', 'brand_normalization/unclustered_brands/insert/part-00014-29ed5629-32e0-499c-8f3a-4cdd69decaef-c000.snappy.parquet', 'brand_normalization/unclustered_brands/insert/part-00015-29ed5629-32e0-499c-8f3a-4cdd69decaef-c000.snappy.parquet', 'brand_normalization/unclustered_brands/insert/part-00016-29ed5629-32e0-499c-8f3a-4cdd69decaef-c000.snappy.parquet', 'brand_normalization/unclustered_brands/insert/part-00017-29ed5629-32e0-499c-8f3a-4cdd69decaef-c000.snappy.parquet', 'brand_normalization/unclustered_brands/insert/part-00018-29ed5629-32e0-499c-8f3a-4cdd69decaef-c000.snappy.parquet', 'brand_normalization/unclustered_brands/insert/part-00019-29ed5629-32e0-499c-8f3a-4cdd69decaef-c000.snappy.parquet', 'brand_normalization/unclustered_brands/insert/part-00020-29ed5629-32e0-499c-8f3a-4cdd69decaef-c000.snappy.parquet', 'brand_normalization/unclustered_brands/insert/part-00021-29ed5629-32e0-499c-8f3a-4cdd69decaef-c000.snappy.parquet', 'brand_normalization/unclustered_brands/insert/part-00022-29ed5629-32e0-499c-8f3a-4cdd69decaef-c000.snappy.parquet', 'brand_normalization/unclustered_brands/insert/part-00023-29ed5629-32e0-499c-8f3a-4cdd69decaef-c000.snappy.parquet', 'brand_normalization/unclustered_brands/insert/part-00024-29ed5629-32e0-499c-8f3a-4cdd69decaef-c000.snappy.parquet', 'brand_normalization/unclustered_brands/insert/part-00025-29ed5629-32e0-499c-8f3a-4cdd69decaef-c000.snappy.parquet', 'brand_normalization/unclustered_brands/insert/part-00026-29ed5629-32e0-499c-8f3a-4cdd69decaef-c000.snappy.parquet', 'brand_normalization/unclustered_brands/insert/part-00027-29ed5629-32e0-499c-8f3a-4cdd69decaef-c000.snappy.parquet', 'brand_normalization/unclustered_brands/insert/part-00028-29ed5629-32e0-499c-8f3a-4cdd69decaef-c000.snappy.parquet', 'brand_normalization/unclustered_brands/insert/part-00029-29ed5629-32e0-499c-8f3a-4cdd69decaef-c000.snappy.parquet', 'brand_normalization/unclustered_brands/insert/part-00030-29ed5629-32e0-499c-8f3a-4cdd69decaef-c000.snappy.parquet', 'brand_normalization/unclustered_brands/insert/part-00031-29ed5629-32e0-499c-8f3a-4cdd69decaef-c000.snappy.parquet', 'brand_normalization/unclustered_brands/insert/part-00032-29ed5629-32e0-499c-8f3a-4cdd69decaef-c000.snappy.parquet', 'brand_normalization/unclustered_brands/insert/part-00033-29ed5629-32e0-499c-8f3a-4cdd69decaef-c000.snappy.parquet', 'brand_normalization/unclustered_brands/insert/part-00034-29ed5629-32e0-499c-8f3a-4cdd69decaef-c000.snappy.parquet', 'brand_normalization/unclustered_brands/insert/part-00035-29ed5629-32e0-499c-8f3a-4cdd69decaef-c000.snappy.parquet']\n",
      "['brand_normalization/leftover_brands/update/part-00000-caf9bdf6-bcd7-4727-8933-3620a4abdfcf-c000.snappy.parquet', 'brand_normalization/leftover_brands/update/part-00009-caf9bdf6-bcd7-4727-8933-3620a4abdfcf-c000.snappy.parquet', 'brand_normalization/new_brand_cluster/update/part-00000-7e8c916c-1d4c-4f27-8169-910881a3aae4-c000.snappy.parquet', 'brand_normalization/unclustered_brands/update/part-00000-d7dcf590-2838-47ab-be55-8ad7e4633f0a-c000.snappy.parquet', 'brand_normalization/unclustered_brands/update/part-00009-d7dcf590-2838-47ab-be55-8ad7e4633f0a-c000.snappy.parquet']\n"
     ]
    }
   ],
   "source": [
    "print(insertion_s3_object_key)\n",
    "print(updation_s3_object_key)"
   ]
  },
  {
   "cell_type": "code",
   "execution_count": 7,
   "metadata": {},
   "outputs": [],
   "source": [
    "path = '/home/preacher/Bungee/bnt/upodate_brands.parquet'"
   ]
  },
  {
   "cell_type": "code",
   "execution_count": 8,
   "metadata": {},
   "outputs": [],
   "source": [
    "df = pd.read_parquet(path)"
   ]
  },
  {
   "cell_type": "code",
   "execution_count": 9,
   "metadata": {},
   "outputs": [],
   "source": [
    "df_sample = df.head(10)"
   ]
  },
  {
   "cell_type": "code",
   "execution_count": 10,
   "metadata": {},
   "outputs": [
    {
     "data": {
      "text/html": [
       "<div>\n",
       "<style scoped>\n",
       "    .dataframe tbody tr th:only-of-type {\n",
       "        vertical-align: middle;\n",
       "    }\n",
       "\n",
       "    .dataframe tbody tr th {\n",
       "        vertical-align: top;\n",
       "    }\n",
       "\n",
       "    .dataframe thead th {\n",
       "        text-align: right;\n",
       "    }\n",
       "</style>\n",
       "<table border=\"1\" class=\"dataframe\">\n",
       "  <thead>\n",
       "    <tr style=\"text-align: right;\">\n",
       "      <th></th>\n",
       "      <th>cluster_id</th>\n",
       "      <th>crawled_name</th>\n",
       "      <th>source</th>\n",
       "      <th>status</th>\n",
       "      <th>updated_date</th>\n",
       "      <th>product_url_1</th>\n",
       "      <th>image_url_1</th>\n",
       "      <th>product_url_2</th>\n",
       "      <th>query_type</th>\n",
       "    </tr>\n",
       "  </thead>\n",
       "  <tbody>\n",
       "    <tr>\n",
       "      <th>0</th>\n",
       "      <td>-1</td>\n",
       "      <td>\"0\"\"isAjaxComplete_B001IOHA8M\"</td>\n",
       "      <td>UC</td>\n",
       "      <td>IN_PROGRESS</td>\n",
       "      <td>2023-01-09 13:19:13.694</td>\n",
       "      <td>None</td>\n",
       "      <td>None</td>\n",
       "      <td>None</td>\n",
       "      <td>I</td>\n",
       "    </tr>\n",
       "    <tr>\n",
       "      <th>1</th>\n",
       "      <td>-1</td>\n",
       "      <td>\"TBA\"</td>\n",
       "      <td>UC</td>\n",
       "      <td>IN_PROGRESS</td>\n",
       "      <td>2023-01-09 13:19:13.694</td>\n",
       "      <td>None</td>\n",
       "      <td>None</td>\n",
       "      <td>None</td>\n",
       "      <td>I</td>\n",
       "    </tr>\n",
       "    <tr>\n",
       "      <th>2</th>\n",
       "      <td>-1</td>\n",
       "      <td>\"YelloWay\"</td>\n",
       "      <td>UC</td>\n",
       "      <td>IN_PROGRESS</td>\n",
       "      <td>2023-01-09 13:19:13.694</td>\n",
       "      <td>None</td>\n",
       "      <td>None</td>\n",
       "      <td>None</td>\n",
       "      <td>I</td>\n",
       "    </tr>\n",
       "    <tr>\n",
       "      <th>3</th>\n",
       "      <td>-1</td>\n",
       "      <td>'jade-collector.com'</td>\n",
       "      <td>UC</td>\n",
       "      <td>IN_PROGRESS</td>\n",
       "      <td>2023-01-09 13:19:13.694</td>\n",
       "      <td>https://amazon.com/dp/b09sp2877f</td>\n",
       "      <td>https://m.media-amazon.com/images/i/510lu8zfhj...</td>\n",
       "      <td>https://amazon.com/dp/b09sv9dpwp</td>\n",
       "      <td>I</td>\n",
       "    </tr>\n",
       "    <tr>\n",
       "      <th>4</th>\n",
       "      <td>-1</td>\n",
       "      <td>($13 Value) AXE 4-pc Apollo Holiday Gift Set (...</td>\n",
       "      <td>UC</td>\n",
       "      <td>IN_PROGRESS</td>\n",
       "      <td>2023-01-09 13:19:13.694</td>\n",
       "      <td>None</td>\n",
       "      <td>None</td>\n",
       "      <td>None</td>\n",
       "      <td>I</td>\n",
       "    </tr>\n",
       "    <tr>\n",
       "      <th>5</th>\n",
       "      <td>-1</td>\n",
       "      <td>(2 Pack) Salon Perfect Nail Lacquer - Under Th...</td>\n",
       "      <td>UC</td>\n",
       "      <td>IN_PROGRESS</td>\n",
       "      <td>2023-01-09 13:19:13.694</td>\n",
       "      <td>None</td>\n",
       "      <td>None</td>\n",
       "      <td>None</td>\n",
       "      <td>I</td>\n",
       "    </tr>\n",
       "    <tr>\n",
       "      <th>6</th>\n",
       "      <td>-1</td>\n",
       "      <td>(6 Packs) Plum Organics</td>\n",
       "      <td>UC</td>\n",
       "      <td>IN_PROGRESS</td>\n",
       "      <td>2023-01-09 13:19:13.694</td>\n",
       "      <td>None</td>\n",
       "      <td>None</td>\n",
       "      <td>None</td>\n",
       "      <td>I</td>\n",
       "    </tr>\n",
       "    <tr>\n",
       "      <th>7</th>\n",
       "      <td>-1</td>\n",
       "      <td>(Absport)</td>\n",
       "      <td>UC</td>\n",
       "      <td>IN_PROGRESS</td>\n",
       "      <td>2023-01-09 13:19:13.694</td>\n",
       "      <td>https://amazon.com/dp/b07pjh4fxf</td>\n",
       "      <td>https://m.media-amazon.com/images/i/61g-7o6lat...</td>\n",
       "      <td>https://amazon.com/dp/b07pjh4fxf</td>\n",
       "      <td>I</td>\n",
       "    </tr>\n",
       "    <tr>\n",
       "      <th>8</th>\n",
       "      <td>-1</td>\n",
       "      <td>(FINE JAPAN)</td>\n",
       "      <td>UC</td>\n",
       "      <td>IN_PROGRESS</td>\n",
       "      <td>2023-01-09 13:19:13.694</td>\n",
       "      <td>https://amazon.com/dp/b01ibkrwdi</td>\n",
       "      <td>https://m.media-amazon.com/images/i/71hoqqnieu...</td>\n",
       "      <td>https://amazon.com/dp/b01ibkrwdi</td>\n",
       "      <td>I</td>\n",
       "    </tr>\n",
       "    <tr>\n",
       "      <th>9</th>\n",
       "      <td>-1</td>\n",
       "      <td>(MAX)</td>\n",
       "      <td>UC</td>\n",
       "      <td>IN_PROGRESS</td>\n",
       "      <td>2023-01-09 13:19:13.694</td>\n",
       "      <td>https://amazon.com/dp/b000fhpuas</td>\n",
       "      <td>https://m.media-amazon.com/images/i/61xlc9ktw3...</td>\n",
       "      <td>https://amazon.com/dp/b000fhpuas</td>\n",
       "      <td>I</td>\n",
       "    </tr>\n",
       "  </tbody>\n",
       "</table>\n",
       "</div>"
      ],
      "text/plain": [
       "   cluster_id                                       crawled_name source  \\\n",
       "0          -1                     \"0\"\"isAjaxComplete_B001IOHA8M\"     UC   \n",
       "1          -1                                              \"TBA\"     UC   \n",
       "2          -1                                         \"YelloWay\"     UC   \n",
       "3          -1                               'jade-collector.com'     UC   \n",
       "4          -1  ($13 Value) AXE 4-pc Apollo Holiday Gift Set (...     UC   \n",
       "5          -1  (2 Pack) Salon Perfect Nail Lacquer - Under Th...     UC   \n",
       "6          -1                            (6 Packs) Plum Organics     UC   \n",
       "7          -1                                          (Absport)     UC   \n",
       "8          -1                                       (FINE JAPAN)     UC   \n",
       "9          -1                                              (MAX)     UC   \n",
       "\n",
       "        status             updated_date                     product_url_1  \\\n",
       "0  IN_PROGRESS  2023-01-09 13:19:13.694                              None   \n",
       "1  IN_PROGRESS  2023-01-09 13:19:13.694                              None   \n",
       "2  IN_PROGRESS  2023-01-09 13:19:13.694                              None   \n",
       "3  IN_PROGRESS  2023-01-09 13:19:13.694  https://amazon.com/dp/b09sp2877f   \n",
       "4  IN_PROGRESS  2023-01-09 13:19:13.694                              None   \n",
       "5  IN_PROGRESS  2023-01-09 13:19:13.694                              None   \n",
       "6  IN_PROGRESS  2023-01-09 13:19:13.694                              None   \n",
       "7  IN_PROGRESS  2023-01-09 13:19:13.694  https://amazon.com/dp/b07pjh4fxf   \n",
       "8  IN_PROGRESS  2023-01-09 13:19:13.694  https://amazon.com/dp/b01ibkrwdi   \n",
       "9  IN_PROGRESS  2023-01-09 13:19:13.694  https://amazon.com/dp/b000fhpuas   \n",
       "\n",
       "                                         image_url_1  \\\n",
       "0                                               None   \n",
       "1                                               None   \n",
       "2                                               None   \n",
       "3  https://m.media-amazon.com/images/i/510lu8zfhj...   \n",
       "4                                               None   \n",
       "5                                               None   \n",
       "6                                               None   \n",
       "7  https://m.media-amazon.com/images/i/61g-7o6lat...   \n",
       "8  https://m.media-amazon.com/images/i/71hoqqnieu...   \n",
       "9  https://m.media-amazon.com/images/i/61xlc9ktw3...   \n",
       "\n",
       "                      product_url_2 query_type  \n",
       "0                              None          I  \n",
       "1                              None          I  \n",
       "2                              None          I  \n",
       "3  https://amazon.com/dp/b09sv9dpwp          I  \n",
       "4                              None          I  \n",
       "5                              None          I  \n",
       "6                              None          I  \n",
       "7  https://amazon.com/dp/b07pjh4fxf          I  \n",
       "8  https://amazon.com/dp/b01ibkrwdi          I  \n",
       "9  https://amazon.com/dp/b000fhpuas          I  "
      ]
     },
     "execution_count": 10,
     "metadata": {},
     "output_type": "execute_result"
    }
   ],
   "source": [
    "df_sample"
   ]
  },
  {
   "cell_type": "code",
   "execution_count": 11,
   "metadata": {},
   "outputs": [],
   "source": [
    "df_sample.to_parquet('/home/preacher/Bungee/bnt/sample_update_brands.parquet')"
   ]
  }
 ],
 "metadata": {
  "kernelspec": {
   "display_name": "Python 3 (ipykernel)",
   "language": "python",
   "name": "python3"
  },
  "language_info": {
   "codemirror_mode": {
    "name": "ipython",
    "version": 3
   },
   "file_extension": ".py",
   "mimetype": "text/x-python",
   "name": "python",
   "nbconvert_exporter": "python",
   "pygments_lexer": "ipython3",
   "version": "3.9.13"
  },
  "vscode": {
   "interpreter": {
    "hash": "486c0fd6c954b62a3514493b9a624e2a19e0b0c7c3b382593d88c7d100bcbe75"
   }
  }
 },
 "nbformat": 4,
 "nbformat_minor": 2
}
