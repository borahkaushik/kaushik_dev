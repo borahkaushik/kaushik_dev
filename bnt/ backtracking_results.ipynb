{
 "cells": [
  {
   "cell_type": "code",
   "execution_count": 1,
   "metadata": {},
   "outputs": [],
   "source": [
    "import sys\n",
    "sys.path.insert(0, os.path.abspath('../'))\n",
    "import os\n",
    "import pyspark as spark\n",
    "from pyspark.sql import SparkSession\n",
    "from pyspark.sql import SQLContext\n",
    "import pyspark.sql.functions as f\n",
    "from pyspark.sql import DataFrame, Row\n",
    "from functools import reduce\n",
    "import functools\n",
    "from pyspark.sql.types import *\n",
    "from pyspark.sql.functions import *\n",
    "from graphframes import *"
   ]
  },
  {
   "cell_type": "code",
   "execution_count": 2,
   "metadata": {},
   "outputs": [
    {
     "name": "stderr",
     "output_type": "stream",
     "text": [
      "22/12/22 22:26:32 WARN Utils: Your hostname, preacher resolves to a loopback address: 127.0.1.1; using 192.168.0.103 instead (on interface enp4s0)\n",
      "22/12/22 22:26:32 WARN Utils: Set SPARK_LOCAL_IP if you need to bind to another address\n",
      "WARNING: An illegal reflective access operation has occurred\n",
      "WARNING: Illegal reflective access by org.apache.spark.unsafe.Platform (file:/home/preacher/anaconda3/envs/deltarun/lib/python3.9/site-packages/pyspark/jars/spark-unsafe_2.12-3.2.1.jar) to constructor java.nio.DirectByteBuffer(long,int)\n",
      "WARNING: Please consider reporting this to the maintainers of org.apache.spark.unsafe.Platform\n",
      "WARNING: Use --illegal-access=warn to enable warnings of further illegal reflective access operations\n",
      "WARNING: All illegal access operations will be denied in a future release\n",
      "Using Spark's default log4j profile: org/apache/spark/log4j-defaults.properties\n",
      "Setting default log level to \"WARN\".\n",
      "To adjust logging level use sc.setLogLevel(newLevel). For SparkR, use setLogLevel(newLevel).\n",
      "22/12/22 22:26:33 WARN NativeCodeLoader: Unable to load native-hadoop library for your platform... using builtin-java classes where applicable\n",
      "22/12/22 22:26:34 WARN Utils: Service 'SparkUI' could not bind on port 4040. Attempting port 4041.\n",
      "/home/preacher/anaconda3/envs/deltarun/lib/python3.9/site-packages/pyspark/sql/context.py:77: FutureWarning: Deprecated in 3.0.0. Use SparkSession.builder.getOrCreate() instead.\n",
      "  warnings.warn(\n"
     ]
    }
   ],
   "source": [
    "from pyspark import SparkContext\n",
    "from pyspark import SparkConf\n",
    "from pyspark.sql import SQLContext\n",
    "conf=SparkConf()\n",
    "conf.set(\"spark.executor.memory\", \"4g\")\n",
    "conf.set(\"spark.driver.memory\", \"4g\")\n",
    "conf.set(\"spark.cores.max\", \"6\")\n",
    "\n",
    "sc = SparkContext.getOrCreate(conf)\n",
    "\n",
    "spark = SQLContext(sc)"
   ]
  },
  {
   "cell_type": "code",
   "execution_count": 8,
   "metadata": {},
   "outputs": [],
   "source": [
    "cluster_file_path = '/home/preacher/Bungee/bnt/data_set/saas_team/cluster_for_back_tracking'"
   ]
  },
  {
   "cell_type": "code",
   "execution_count": 9,
   "metadata": {},
   "outputs": [],
   "source": [
    "def get_data_from_s3(path):\n",
    "    df = spark.read.format('csv').option('header','true').load(path)\n",
    "    print(df.count())\n",
    "    return df"
   ]
  },
  {
   "cell_type": "code",
   "execution_count": null,
   "metadata": {},
   "outputs": [],
   "source": [
    "# open th cluster File\n",
    "# get all clusters having length > 30\n",
    "# for each of the above clusters\n",
    "#     get of brand names\n",
    "#     join exact_matches with the ml_input to get the name of all the brands (uuid_A, uuid_b, brand_a, brand_b, product_url_a, product_url_b)\n"
   ]
  },
  {
   "cell_type": "code",
   "execution_count": 12,
   "metadata": {},
   "outputs": [
    {
     "name": "stdout",
     "output_type": "stream",
     "text": [
      "5641\n"
     ]
    }
   ],
   "source": [
    "brand_clusters = get_data_from_s3(cluster_file_path)\n",
    "# cluster here si the cxploded cluseter where one cluster can be identified by using the set id and all brands haveing the same cluster id form one cluster\n",
    "brand_clusters_set = brand_clusters.groupBy('id').agg(collect_set('brand_id').alias('clusters'))\n",
    "abnorml_cluster = brand_clusters_set.filter(size(col(\"clusters\"))>30)\n",
    "\n"
   ]
  },
  {
   "cell_type": "code",
   "execution_count": 13,
   "metadata": {},
   "outputs": [
    {
     "name": "stdout",
     "output_type": "stream",
     "text": [
      "+---+--------------------+\n",
      "| id|            clusters|\n",
      "+---+--------------------+\n",
      "|  1|[OLA, Vanderpump ...|\n",
      "+---+--------------------+\n",
      "\n"
     ]
    }
   ],
   "source": [
    "abnorml_cluster.show()"
   ]
  },
  {
   "cell_type": "code",
   "execution_count": 24,
   "metadata": {},
   "outputs": [],
   "source": [
    "abnorml_exploded_cluster = abnorml_cluster.withColumn( 'brand',explode(abnorml_cluster.clusters)).drop('clusters')"
   ]
  },
  {
   "cell_type": "code",
   "execution_count": 25,
   "metadata": {},
   "outputs": [
    {
     "name": "stdout",
     "output_type": "stream",
     "text": [
      "+---+--------------------+\n",
      "| id|               brand|\n",
      "+---+--------------------+\n",
      "|  1|                 OLA|\n",
      "|  1|     Vanderpump Pets|\n",
      "|  1|    Horze Equestrian|\n",
      "|  1|        Wild Harvest|\n",
      "|  1|BLUE Life Protection|\n",
      "|  1|      Supreme Source|\n",
      "|  1|  John Paul Mitchell|\n",
      "|  1|            Thyrovet|\n",
      "|  1|    Polka Dog Bakery|\n",
      "|  1|       HILLMAN GROUP|\n",
      "|  1|              Kordon|\n",
      "|  1|                Awoo|\n",
      "|  1|            Finntack|\n",
      "|  1|    Oven Fresh Bites|\n",
      "|  1|MuttNation On The...|\n",
      "|  1|            Equizone|\n",
      "|  1|Vet's Best||Ongua...|\n",
      "|  1|14 oz powder or 5...|\n",
      "|  1|       Skout's Honor|\n",
      "|  1|        Caitec Corp.|\n",
      "+---+--------------------+\n",
      "only showing top 20 rows\n",
      "\n"
     ]
    }
   ],
   "source": [
    "abnorml_exploded_cluster.show()"
   ]
  },
  {
   "cell_type": "code",
   "execution_count": 14,
   "metadata": {},
   "outputs": [
    {
     "name": "stdout",
     "output_type": "stream",
     "text": [
      "2212437\n"
     ]
    }
   ],
   "source": [
    "product_mactches_path = '/home/preacher/Bungee/bnt/data_set/saas_team/exact_matches.csv'\n",
    "product_mactches = get_data_from_s3(product_mactches_path)"
   ]
  },
  {
   "cell_type": "code",
   "execution_count": 15,
   "metadata": {},
   "outputs": [],
   "source": [
    "def create_sku_uuid(uuid):\n",
    "    arr = uuid.split(\"<>\")\n",
    "    arr = arr[1:len(arr)]\n",
    "    return \"<>\".join(arr)\n",
    "    \n",
    "def create_sku_uuid_column(df):\n",
    "    sku_uuid = udf(create_sku_uuid, StringType())\n",
    "    res_df = df.withColumn(\"sku_uuid\", sku_uuid(df.uuid))\n",
    "    return res_df"
   ]
  },
  {
   "cell_type": "code",
   "execution_count": 16,
   "metadata": {},
   "outputs": [
    {
     "name": "stderr",
     "output_type": "stream",
     "text": [
      "[Stage 20:==============================================>         (25 + 5) / 30]\r"
     ]
    },
    {
     "name": "stdout",
     "output_type": "stream",
     "text": [
      "17984206\n"
     ]
    },
    {
     "name": "stderr",
     "output_type": "stream",
     "text": [
      "                                                                                \r"
     ]
    }
   ],
   "source": [
    "crawles_data_path = '/home/preacher/Bungee/bnt/data_set/saas_team/crawled_data.csv'\n",
    "crawled_data = get_data_from_s3(crawles_data_path)\n",
    "crawled_data = create_sku_uuid_column(crawled_data)"
   ]
  },
  {
   "cell_type": "code",
   "execution_count": 27,
   "metadata": {},
   "outputs": [
    {
     "name": "stdout",
     "output_type": "stream",
     "text": [
      "root\n",
      " |-- uuid: string (nullable = true)\n",
      " |-- store_name: string (nullable = true)\n",
      " |-- brand: string (nullable = true)\n",
      " |-- sku: string (nullable = true)\n",
      " |-- image_url: string (nullable = true)\n",
      " |-- product_url: string (nullable = true)\n",
      " |-- sku_uuid: string (nullable = true)\n",
      "\n",
      "root\n",
      " |-- uuid_a: string (nullable = true)\n",
      " |-- uuid_b: string (nullable = true)\n",
      " |-- sku_uuid_a: string (nullable = true)\n",
      " |-- sku_uuid_b: string (nullable = true)\n",
      " |-- score: string (nullable = true)\n",
      " |-- base_source_store: string (nullable = true)\n",
      " |-- comp_source_store: string (nullable = true)\n",
      " |-- match_timestamp: string (nullable = true)\n",
      " |-- match_source: string (nullable = true)\n",
      " |-- type: string (nullable = true)\n",
      " |-- segment: string (nullable = true)\n",
      " |-- year: string (nullable = true)\n",
      " |-- month: string (nullable = true)\n",
      " |-- day: string (nullable = true)\n",
      "\n",
      "root\n",
      " |-- id: string (nullable = true)\n",
      " |-- brand: string (nullable = false)\n",
      "\n"
     ]
    }
   ],
   "source": [
    "crawled_data.printSchema()\n",
    "product_mactches.printSchema()\n",
    "abnorml_exploded_cluster.printSchema()"
   ]
  },
  {
   "cell_type": "markdown",
   "metadata": {},
   "source": [
    "<h2>Fetching brands for the exact matches</h2>"
   ]
  },
  {
   "cell_type": "code",
   "execution_count": 30,
   "metadata": {},
   "outputs": [],
   "source": [
    "# getting product info for sku_uuid_a\n",
    "crawled_data_sku_uuid_a = crawled_data.select('sku_uuid', col('brand').alias('brand_a'), col('product_url').alias('product_url_a'), col('image_url').alias('image_url_a'))\n",
    "sku_uuid_a_product_info = product_mactches.join(crawled_data_sku_uuid_a, product_mactches.sku_uuid_a == crawled_data_sku_uuid_a.sku_uuid, 'inner').drop('sku_uuid')\n",
    "\n",
    "# getting product info for sku_uuid_b\n",
    "crawled_data_sku_uuid_b = crawled_data.select('sku_uuid',col('brand').alias('brand_b'), col('product_url').alias('product_url_b'), col('image_url').alias('image_url_b'))\n",
    "product_info_matches = sku_uuid_a_product_info.join(crawled_data_sku_uuid_b, sku_uuid_a_product_info.sku_uuid_b == crawled_data_sku_uuid_b.sku_uuid, 'inner').drop('sku_uuid')"
   ]
  },
  {
   "cell_type": "code",
   "execution_count": 32,
   "metadata": {},
   "outputs": [
    {
     "name": "stdout",
     "output_type": "stream",
     "text": [
      "root\n",
      " |-- uuid_a: string (nullable = true)\n",
      " |-- uuid_b: string (nullable = true)\n",
      " |-- sku_uuid_a: string (nullable = true)\n",
      " |-- sku_uuid_b: string (nullable = true)\n",
      " |-- score: string (nullable = true)\n",
      " |-- base_source_store: string (nullable = true)\n",
      " |-- comp_source_store: string (nullable = true)\n",
      " |-- match_timestamp: string (nullable = true)\n",
      " |-- match_source: string (nullable = true)\n",
      " |-- type: string (nullable = true)\n",
      " |-- segment: string (nullable = true)\n",
      " |-- year: string (nullable = true)\n",
      " |-- month: string (nullable = true)\n",
      " |-- day: string (nullable = true)\n",
      " |-- brand_a: string (nullable = true)\n",
      " |-- product_url_a: string (nullable = true)\n",
      " |-- image_url_a: string (nullable = true)\n",
      " |-- brand_b: string (nullable = true)\n",
      " |-- product_url_b: string (nullable = true)\n",
      " |-- image_url_b: string (nullable = true)\n",
      "\n"
     ]
    },
    {
     "name": "stderr",
     "output_type": "stream",
     "text": [
      "[Stage 42:======================================================> (33 + 1) / 34]\r"
     ]
    },
    {
     "name": "stdout",
     "output_type": "stream",
     "text": [
      "+----------------------------------------------------------+----------------------------------------------------------+------------------------------------------+-------------------------------------------+----------+------------------------------+----------------------------+---------------+------------+-----------+-------+----+-----+---+-------+---------------------------------------------------------------------------------+--------------------------------------------------------------------+-------+--------------------------------------------------------------------------------+---------------------------------------------------------+\n",
      "|uuid_a                                                    |uuid_b                                                    |sku_uuid_a                                |sku_uuid_b                                 |score     |base_source_store             |comp_source_store           |match_timestamp|match_source|type       |segment|year|month|day|brand_a|product_url_a                                                                    |image_url_a                                                         |brand_b|product_url_b                                                                   |image_url_b                                              |\n",
      "+----------------------------------------------------------+----------------------------------------------------------+------------------------------------------+-------------------------------------------+----------+------------------------------+----------------------------+---------------+------------+-----------+-------+----+-----+---+-------+---------------------------------------------------------------------------------+--------------------------------------------------------------------+-------+--------------------------------------------------------------------------------+---------------------------------------------------------+\n",
      "|sku_2109800639<>2109800639<>smartpakequine<>smartpakequine|9329097000948<>0000213008380<>doversaddlery<>doversaddlery|2109800639<>smartpakequine<>smartpakequine|0000213008380<>doversaddlery<>doversaddlery|0.984375  |smartpakequine<>smartpakequine|doversaddlery<>doversaddlery|1629435666     |fastlane    |exact_match|pets   |2022|12   |13 |Wintec |https://www.smartpakequine.com/pt/wintec-elastic-girth-short-16951?sku=2109800639|https://img.smartpak.com/images/product/highres/26951_black_full.jpg|Wintec |https://www.doversaddlery.com/wintec-elastic-girth/p/X1-0213/?kcid=0000213008380|https://www.doversaddlery.com/images/xl/0000213_Black.jpg|\n",
      "|<>B0016ZJ88S<>amazon<>amazon                              |9329097053272<>0000213010360<>doversaddlery<>doversaddlery|b0016zj88s<>amazon<>amazon                |0000213010360<>doversaddlery<>doversaddlery|0.99609375|amazon<>amazon                |doversaddlery<>doversaddlery|1643228014     |fastlane    |exact_match|pets   |2022|12   |13 |Wintec |https://www.amazon.com/dp/B0016ZJ88S?th=1&psc=1                                  |https://m.media-amazon.com/images/I/61hhFTZBSML._AC_SX679_.jpg      |Wintec |https://www.doversaddlery.com/wintec-elastic-girth/p/X1-0213/?kcid=0000213010360|https://www.doversaddlery.com/images/xl/0000213_Brown.jpg|\n",
      "+----------------------------------------------------------+----------------------------------------------------------+------------------------------------------+-------------------------------------------+----------+------------------------------+----------------------------+---------------+------------+-----------+-------+----+-----+---+-------+---------------------------------------------------------------------------------+--------------------------------------------------------------------+-------+--------------------------------------------------------------------------------+---------------------------------------------------------+\n",
      "only showing top 2 rows\n",
      "\n"
     ]
    },
    {
     "name": "stderr",
     "output_type": "stream",
     "text": [
      "                                                                                \r"
     ]
    }
   ],
   "source": [
    "\n",
    "product_info_matches.printSchema()\n",
    "product_info_matches.show(truncate=False, n = 2)"
   ]
  },
  {
   "cell_type": "code",
   "execution_count": 34,
   "metadata": {},
   "outputs": [],
   "source": [
    "clusters_product_matches = product_info_matches.join(abnorml_exploded_cluster, product_info_matches.brand_a == abnorml_exploded_cluster.brand, 'inner')"
   ]
  },
  {
   "cell_type": "code",
   "execution_count": 35,
   "metadata": {},
   "outputs": [
    {
     "name": "stderr",
     "output_type": "stream",
     "text": [
      "[Stage 53:====================================================>   (32 + 2) / 34]\r"
     ]
    },
    {
     "name": "stdout",
     "output_type": "stream",
     "text": [
      "+--------------------+--------------------+--------------------+--------------------+----------+--------------------+--------------------+---------------+------------+-----------+-------+----+-----+---+--------------------+--------------------+--------------------+--------------+--------------------+--------------------+---+--------------------+\n",
      "|              uuid_a|              uuid_b|          sku_uuid_a|          sku_uuid_b|     score|   base_source_store|   comp_source_store|match_timestamp|match_source|       type|segment|year|month|day|             brand_a|       product_url_a|         image_url_a|       brand_b|       product_url_b|         image_url_b| id|               brand|\n",
      "+--------------------+--------------------+--------------------+--------------------+----------+--------------------+--------------------+---------------+------------+-----------+-------+----+-----+---+--------------------+--------------------+--------------------+--------------+--------------------+--------------------+---+--------------------+\n",
      "|sku_2109800639<>2...|9329097000948<>00...|2109800639<>smart...|0000213008380<>do...|  0.984375|smartpakequine<>s...|doversaddlery<>do...|     1629435666|    fastlane|exact_match|   pets|2022|   12| 13|              Wintec|https://www.smart...|https://img.smart...|        Wintec|https://www.dover...|https://www.dover...|  1|              Wintec|\n",
      "|<>B0016ZJ88S<>ama...|9329097053272<>00...|b0016zj88s<>amazo...|0000213010360<>do...|0.99609375|      amazon<>amazon|doversaddlery<>do...|     1643228014|    fastlane|exact_match|   pets|2022|   12| 13|              Wintec|https://www.amazo...|https://m.media-a...|        Wintec|https://www.dover...|https://www.dover...|  1|              Wintec|\n",
      "|sku_2109800649<>2...|9329097053272<>00...|2109800649<>smart...|0000213010360<>do...|  0.984375|smartpakequine<>s...|doversaddlery<>do...|     1629435666|    fastlane|exact_match|   pets|2022|   12| 13|              Wintec|https://www.smart...|https://img.smart...|        Wintec|https://www.dover...|https://www.dover...|  1|              Wintec|\n",
      "|sku_FOWE<>fowe<>j...|649982552833<>000...|fowe<>jefferspet<...|0000450008689<>do...|0.97265625|jefferspet<>jeffe...|doversaddlery<>do...|     1629607308|    fastlane|exact_match|   pets|2022|   12| 13|   Horseware Ireland|https://www.jeffe...|https://www-jeffe...|     Horseware|https://www.dover...|https://www.dover...|  1|   Horseware Ireland|\n",
      "|sku_2109844905<>2...|852684608658<>000...|2109844905<>smart...|0000713000040<>do...|0.98046875|smartpakequine<>s...|doversaddlery<>do...|     1629435667|    fastlane|not_a_match|   pets|2022|   12| 13|            SmartPak|https://www.smart...|https://img.smart...|Dover Saddlery|https://www.dover...|https://www.dover...|  1|            SmartPak|\n",
      "|00754888016812<>s...|852684608658<>000...|slt730327 450<>ho...|0000713000040<>do...|   0.96875|        horse<>horse|doversaddlery<>do...|     1629435664|    fastlane|not_a_match|   pets|2022|   12| 13|Intrepid Internat...|https://www.horse...|https://s7d5.scen...|Dover Saddlery|https://www.dover...|https://www.dover...|  1|Intrepid Internat...|\n",
      "|00754888016805<>s...|852684608658<>000...|slt730327 425<>ho...|0000713000040<>do...|0.98046875|        horse<>horse|doversaddlery<>do...|     1629435664|    fastlane|not_a_match|   pets|2022|   12| 13|Intrepid Internat...|https://www.horse...|https://s7d5.scen...|Dover Saddlery|https://www.dover...|https://www.dover...|  1|Intrepid Internat...|\n",
      "|sku_2109844904<>2...|852684608658<>000...|2109844904<>smart...|0000713000040<>do...|   0.96875|smartpakequine<>s...|doversaddlery<>do...|     1629435665|    fastlane|not_a_match|   pets|2022|   12| 13|            SmartPak|https://www.smart...|https://img.smart...|Dover Saddlery|https://www.dover...|https://www.dover...|  1|            SmartPak|\n",
      "|sku_2109844903<>2...|852684608658<>000...|2109844903<>smart...|0000713000040<>do...|0.97265625|smartpakequine<>s...|doversaddlery<>do...|     1629435668|    fastlane|not_a_match|   pets|2022|   12| 13|            SmartPak|https://www.smart...|https://img.smart...|Dover Saddlery|https://www.dover...|https://www.dover...|  1|            SmartPak|\n",
      "|00754888751164<>s...|852684608658<>000...|slt730327 400<>ho...|0000713000040<>do...|  0.984375|        horse<>horse|doversaddlery<>do...|     1629435664|    fastlane|not_a_match|   pets|2022|   12| 13|Intrepid Internat...|https://www.horse...|https://s7d5.scen...|Dover Saddlery|https://www.dover...|https://www.dover...|  1|Intrepid Internat...|\n",
      "|00754888016829<>s...|852684608658<>000...|slt730327 475<>ho...|0000713000040<>do...|0.97265625|        horse<>horse|doversaddlery<>do...|     1629435664|    fastlane|not_a_match|   pets|2022|   12| 13|Intrepid Internat...|https://www.horse...|https://s7d5.scen...|Dover Saddlery|https://www.dover...|https://www.dover...|  1|Intrepid Internat...|\n",
      "|sku_2109667415<>2...|852684580251<>000...|2109667415<>smart...|0000725000044<>do...|  0.953125|smartpakequine<>s...|doversaddlery<>do...|     1629435662|    fastlane|not_a_match|   pets|2022|   12| 13|     Perri's Leather|https://www.smart...|https://img.smart...|Dover Saddlery|https://www.dover...|https://www.dover...|  1|     Perri's Leather|\n",
      "|sku_2109667416<>2...|852684580251<>000...|2109667416<>smart...|0000725000044<>do...|0.97265625|smartpakequine<>s...|doversaddlery<>do...|     1629435665|    fastlane|not_a_match|   pets|2022|   12| 13|     Perri's Leather|https://www.smart...|https://img.smart...|Dover Saddlery|https://www.dover...|https://www.dover...|  1|     Perri's Leather|\n",
      "|5038083295650<>e0...|852684580251<>000...|e035497 425<>hors...|0000725000044<>do...|  0.953125|        horse<>horse|doversaddlery<>do...|     1629435665|    fastlane|not_a_match|   pets|2022|   12| 13|              Shires|https://www.horse...|https://s7d5.scen...|Dover Saddlery|https://www.dover...|https://www.dover...|  1|              Shires|\n",
      "|5038083295667<>e0...|852684580251<>000...|e035497 450<>hors...|0000725000044<>do...|  0.953125|        horse<>horse|doversaddlery<>do...|     1629435664|    fastlane|not_a_match|   pets|2022|   12| 13|              Shires|https://www.horse...|https://s7d5.scen...|Dover Saddlery|https://www.dover...|https://www.dover...|  1|              Shires|\n",
      "|sku_2109844901<>2...|852684580251<>000...|2109844901<>smart...|0000725000044<>do...|  0.984375|smartpakequine<>s...|doversaddlery<>do...|     1629435664|    fastlane|not_a_match|   pets|2022|   12| 13|            SmartPak|https://www.smart...|https://img.smart...|Dover Saddlery|https://www.dover...|https://www.dover...|  1|            SmartPak|\n",
      "|sku_2109844900<>2...|852684615342<>000...|2109844900<>smart...|0000725000046<>do...|0.94921875|smartpakequine<>s...|doversaddlery<>do...|     1629435665|    fastlane|not_a_match|   pets|2022|   12| 13|            SmartPak|https://www.smart...|https://img.smart...|Dover Saddlery|https://www.dover...|https://www.dover...|  1|            SmartPak|\n",
      "|5038083383005<>e0...|852684615342<>000...|e035497 400<>hors...|0000725000046<>do...|0.97265625|        horse<>horse|doversaddlery<>do...|     1629435667|    fastlane|not_a_match|   pets|2022|   12| 13|              Shires|https://www.horse...|https://s7d5.scen...|Dover Saddlery|https://www.dover...|https://www.dover...|  1|              Shires|\n",
      "|sku_2109667415<>2...|852684615342<>000...|2109667415<>smart...|0000725000046<>do...|0.94921875|smartpakequine<>s...|doversaddlery<>do...|     1629435662|    fastlane|not_a_match|   pets|2022|   12| 13|     Perri's Leather|https://www.smart...|https://img.smart...|Dover Saddlery|https://www.dover...|https://www.dover...|  1|     Perri's Leather|\n",
      "|5038083295650<>e0...|852684615342<>000...|e035497 425<>hors...|0000725000046<>do...|0.94140625|        horse<>horse|doversaddlery<>do...|     1629435665|    fastlane|not_a_match|   pets|2022|   12| 13|              Shires|https://www.horse...|https://s7d5.scen...|Dover Saddlery|https://www.dover...|https://www.dover...|  1|              Shires|\n",
      "+--------------------+--------------------+--------------------+--------------------+----------+--------------------+--------------------+---------------+------------+-----------+-------+----+-----+---+--------------------+--------------------+--------------------+--------------+--------------------+--------------------+---+--------------------+\n",
      "only showing top 20 rows\n",
      "\n"
     ]
    },
    {
     "name": "stderr",
     "output_type": "stream",
     "text": [
      "                                                                                \r"
     ]
    }
   ],
   "source": [
    "clusters_product_matches.show()"
   ]
  },
  {
   "cell_type": "code",
   "execution_count": 37,
   "metadata": {},
   "outputs": [
    {
     "name": "stderr",
     "output_type": "stream",
     "text": [
      "                                                                                \r"
     ]
    }
   ],
   "source": [
    "clusters_product_matches.write.mode(\"overwrite\").option(\"header\",True).parquet('/home/preacher/Bungee/bnt/data_set/saas_team/abnormal_cluster_product_matches')"
   ]
  },
  {
   "cell_type": "code",
   "execution_count": 36,
   "metadata": {},
   "outputs": [
    {
     "name": "stderr",
     "output_type": "stream",
     "text": [
      "                                                                                \r"
     ]
    },
    {
     "data": {
      "text/plain": [
       "1301856"
      ]
     },
     "execution_count": 36,
     "metadata": {},
     "output_type": "execute_result"
    }
   ],
   "source": [
    "clusters_product_matches.count()"
   ]
  },
  {
   "cell_type": "code",
   "execution_count": null,
   "metadata": {},
   "outputs": [],
   "source": [
    "clusters_product_matches.write.partitionBy('').saveAsTable('cluster_product_matches')"
   ]
  }
 ],
 "metadata": {
  "kernelspec": {
   "display_name": "Python 3",
   "language": "python",
   "name": "python3"
  },
  "language_info": {
   "codemirror_mode": {
    "name": "ipython",
    "version": 3
   },
   "file_extension": ".py",
   "mimetype": "text/x-python",
   "name": "python",
   "nbconvert_exporter": "python",
   "pygments_lexer": "ipython3",
   "version": "3.10.6 (main, Nov 14 2022, 16:10:14) [GCC 11.3.0]"
  },
  "orig_nbformat": 4,
  "vscode": {
   "interpreter": {
    "hash": "916dbcbb3f70747c44a77c7bcd40155683ae19c65e1c03b4aa3499c5328201f1"
   }
  }
 },
 "nbformat": 4,
 "nbformat_minor": 2
}
